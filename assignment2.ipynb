{
 "cells": [
  {
   "cell_type": "markdown",
   "metadata": {},
   "source": [
    "# [COM6513] Assignment 2: Text Classification with a Feedforward Network\n",
    "\n",
    "\n",
    "### Instructor: Nikos Aletras\n",
    "\n",
    "\n",
    "The goal of this assignment is to develop a Feedforward neural network for text classification. \n",
    "\n",
    "\n",
    "\n",
    "For that purpose, you will implement:\n",
    "\n",
    "- Text processing methods for transforming raw text data into input vectors for your network  (**2 marks**)\n",
    "\n",
    "\n",
    "- A Feedforward network consisting of:\n",
    "    - **One-hot** input layer mapping words into an **Embedding weight matrix** (**2 marks**)\n",
    "    - **One hidden layer** computing the mean embedding vector of all words in input followed by a **ReLU activation function** (**2 marks**)\n",
    "    - **Output layer** with a **softmax** activation. (**2 marks**)\n",
    "\n",
    "\n",
    "- The Stochastic Gradient Descent (SGD) algorithm with **back-propagation** to learn the weights of your Neural network. Your algorithm should:\n",
    "    - Use (and minimise) the **Categorical Cross-entropy loss** function (**2 marks**)\n",
    "    - Perform a **Forward pass** to compute intermediate outputs (**5 marks**)\n",
    "    - Perform a **Backward pass** to compute gradients and update all sets of weights (**12 marks**)\n",
    "    - Implement and use **Dropout** after each hidden layer for regularisation (**4 marks**)\n",
    "\n",
    "\n",
    "\n",
    "- Discuss how did you choose hyperparameters? You can tune the learning rate (hint: choose small values), embedding size {e.g. 50, 300, 500}, the dropout rate {e.g. 0.2, 0.5} and the learning rate. Please use tables or graphs to show training and validation performance for each hyperparameter combination  (**5 marks**). \n",
    "\n",
    "\n",
    "\n",
    "- After training a model, plot the learning process (i.e. training and validation loss in each epoch) using a line plot and report accuracy. Does your model overfit, underfit or is about right? (**2 marks**).\n",
    "\n",
    "\n",
    "\n",
    "- Re-train your network by using pre-trained embeddings ([GloVe](https://nlp.stanford.edu/projects/glove/)) trained on large corpora. Instead of randomly initialising the embedding weights matrix, you should initialise it with the pre-trained weights. During training, you should not update them (i.e. weight freezing) and backprop should stop before computing gradients for updating embedding weights. Report results by performing hyperparameter tuning and plotting the learning process. Do you get better performance? (**7 marks**).\n",
    "\n",
    "\n",
    "\n",
    "- Extend you Feedforward network by adding more hidden layers (e.g. one more or two). How does it affect the performance? Note: You need to repeat hyperparameter tuning, but the number of combinations grows exponentially. Therefore, you need to choose a subset of all possible combinations (**8 marks**)\n",
    "\n",
    "\n",
    "- Provide well documented and commented code describing all of your choices. In general, you are free to make decisions about text processing (e.g. punctuation, numbers, vocabulary size) and hyperparameter values. We expect to see justifications and discussion for all of your choices (**5 marks**). \n",
    "\n",
    "\n",
    "\n",
    "- Provide efficient solutions by using Numpy arrays when possible. Executing the whole notebook with your code should not take more than 10 minutes on any standard computer (e.g. Intel Core i5 CPU, 8 or 16GB RAM) excluding hyperparameter tuning runs and loading the pretrained vectors. You can find tips in [Intro to Python for NLP](https://sheffieldnlp.github.io/com6513/assets/labs/a0_python_intro.pdf) (**2 marks**). \n",
    "\n",
    "\n",
    "\n",
    "### Data \n",
    "\n",
    "The data you will use for the task is a subset of the [AG News Corpus](http://groups.di.unipi.it/~gulli/AG_corpus_of_news_articles.html) and you can find it in the `./data_topic` folder in CSV format:\n",
    "\n",
    "- `data_topic/train.csv`: contains 2,400 news articles, 800 for each class to be used for training.\n",
    "- `data_topic/dev.csv`: contains 150 news articles, 50 for each class to be used for hyperparameter selection and monitoring the training process.\n",
    "- `data_topic/test.csv`: contains 900 news articles, 300 for each class to be used for testing.\n",
    "\n",
    "### Pre-trained Embeddings\n",
    "\n",
    "You can download pre-trained GloVe embeddings trained on Common Crawl (840B tokens, 2.2M vocab, cased, 300d vectors, 2.03 GB download) from [here](http://nlp.stanford.edu/data/glove.840B.300d.zip). No need to unzip, the file is large.\n",
    "\n",
    "### Save Memory\n",
    "\n",
    "To save RAM, when you finish each experiment you can delete the weights of your network using `del W` followed by Python's garbage collector `gc.collect()`\n",
    "\n",
    "\n"
   ]
  },
  {
   "cell_type": "markdown",
   "metadata": {},
   "source": [
    "### Submission Instructions\n",
    "\n",
    "You should submit a Jupyter Notebook file (assignment2.ipynb) and an exported PDF version (you can do it from Jupyter: `File->Download as->PDF via Latex`).\n",
    "\n",
    "\n",
    "You are advised to follow the code structure given in this notebook by completing all given funtions. You can also write any auxilliary/helper functions (and arguments for the functions) that you might need but note that you can provide a full solution without any such functions. Similarly, you can just use only the packages imported below but you are free to use any functionality from the [Python Standard Library](https://docs.python.org/2/library/index.html), NumPy, SciPy (excluding built-in softmax funtcions) and Pandas. You are **not allowed to use any third-party library** such as Scikit-learn (apart from metric functions already provided), NLTK, Spacy, Keras, Pytorch etc.. You should mention if you've used Windows to write and test your code because we mostly use Unix based machines for marking (e.g. Ubuntu, MacOS). \n",
    "\n",
    "There is no single correct answer on what your accuracy should be, but correct implementations usually achieve F1-scores around 80\\% or higher. The quality of the analysis of the results is as important as the accuracy itself. \n",
    "\n",
    "This assignment will be marked out of 60. It is worth 60\\% of your final grade in the module.\n",
    "\n",
    "The deadline for this assignment is **23:59 on Fri, 23 Apr 2021** and it needs to be submitted via Blackboard. Standard departmental penalties for lateness will be applied. We use a range of strategies to **detect [unfair means](https://www.sheffield.ac.uk/ssid/unfair-means/index)**, including Turnitin which helps detect plagiarism. Use of unfair means would result in getting a failing grade.\n",
    "\n"
   ]
  },
  {
   "cell_type": "markdown",
   "metadata": {},
   "source": [
    "I have used Windows to write and test my code."
   ]
  },
  {
   "cell_type": "code",
   "execution_count": 1,
   "metadata": {
    "ExecuteTime": {
     "end_time": "2021-04-21T00:51:46.938040Z",
     "start_time": "2021-04-21T00:51:45.823658Z"
    },
    "scrolled": true
   },
   "outputs": [],
   "source": [
    "import pandas as pd\n",
    "import numpy as np\n",
    "from collections import Counter\n",
    "import re\n",
    "import matplotlib.pyplot as plt\n",
    "from sklearn.metrics import accuracy_score, precision_score, recall_score, f1_score\n",
    "import random\n",
    "from time import localtime, strftime\n",
    "from scipy.stats import spearmanr,pearsonr\n",
    "import zipfile\n",
    "import gc\n",
    "from numpy.linalg import norm\n",
    "# fixing random seed for reproducibility\n",
    "random.seed(123)\n",
    "np.random.seed(123)"
   ]
  },
  {
   "cell_type": "markdown",
   "metadata": {},
   "source": [
    "## Transform Raw texts into training and development data\n",
    "\n",
    "First, you need to load the training, development and test sets from their corresponding CSV files (tip: you can use Pandas dataframes)."
   ]
  },
  {
   "cell_type": "code",
   "execution_count": 2,
   "metadata": {
    "ExecuteTime": {
     "end_time": "2021-04-21T00:51:46.969577Z",
     "start_time": "2021-04-21T00:51:46.940039Z"
    },
    "scrolled": true
   },
   "outputs": [],
   "source": [
    "df1 = pd.read_csv('./data_topic/train.csv', encoding = 'UTF-8', header = None)\n",
    "df2 = pd.read_csv('./data_topic/dev.csv', encoding = 'UTF-8', header = None)\n",
    "df3 = pd.read_csv('./data_topic/test.csv', encoding = 'UTF-8', header = None)"
   ]
  },
  {
   "cell_type": "code",
   "execution_count": 3,
   "metadata": {
    "ExecuteTime": {
     "end_time": "2021-04-21T00:51:46.985497Z",
     "start_time": "2021-04-21T00:51:46.972542Z"
    }
   },
   "outputs": [],
   "source": [
    "train_attri = df1.iloc[:, 1].tolist()\n",
    "train_label = df1.iloc[:, 0]\n",
    "dev_attri = df2.iloc[:, 1].tolist()\n",
    "dev_label = df2.iloc[:, 0]\n",
    "test_attri = df3.iloc[:, 1].tolist()\n",
    "test_label = df3.iloc[:, 0]"
   ]
  },
  {
   "cell_type": "markdown",
   "metadata": {},
   "source": [
    "# Create input representations\n",
    "\n",
    "\n",
    "To train your Feedforward network, you first need to obtain input representations given a vocabulary. One-hot encoding requires large memory capacity. Therefore, we will instead represent documents as lists of vocabulary indices (each word corresponds to a vocabulary index). \n",
    "\n",
    "\n",
    "## Text Pre-Processing Pipeline\n",
    "\n",
    "To obtain a vocabulary of words. You should: \n",
    "- tokenise all texts into a list of unigrams (tip: you can re-use the functions from Assignment 1) \n",
    "- remove stop words (using the one provided or one of your preference) \n",
    "- remove unigrams appearing in less than K documents\n",
    "- use the remaining to create a vocabulary of the top-N most frequent unigrams in the entire corpus.\n"
   ]
  },
  {
   "cell_type": "code",
   "execution_count": 4,
   "metadata": {
    "ExecuteTime": {
     "end_time": "2021-04-21T00:51:47.001740Z",
     "start_time": "2021-04-21T00:51:46.987492Z"
    },
    "scrolled": true
   },
   "outputs": [],
   "source": [
    "stop_words = ['a','in','on','at','and','or', \n",
    "              'to', 'the', 'of', 'an', 'by', \n",
    "              'as', 'is', 'was', 'were', 'been', 'be', \n",
    "              'are','for', 'this', 'that', 'these', 'those', 'you', 'i', 'if',\n",
    "             'it', 'he', 'she', 'we', 'they', 'will', 'have', 'has',\n",
    "              'do', 'did', 'can', 'could', 'who', 'which', 'what',\n",
    "              'but', 'not', 'there', 'no', 'does', 'not', 'so', 've', 'their',\n",
    "             'his', 'her', 'they', 'them', 'from', 'with', 'its']"
   ]
  },
  {
   "cell_type": "markdown",
   "metadata": {},
   "source": [
    "### Unigram extraction from a document\n",
    "\n",
    "You first need to implement the `extract_ngrams` function. It takes as input:\n",
    "- `x_raw`: a string corresponding to the raw text of a document\n",
    "- `ngram_range`: a tuple of two integers denoting the type of ngrams you want to extract, e.g. (1,2) denotes extracting unigrams and bigrams.\n",
    "- `token_pattern`: a string to be used within a regular expression to extract all tokens. Note that data is already tokenised so you could opt for a simple white space tokenisation.\n",
    "- `stop_words`: a list of stop words\n",
    "- `vocab`: a given vocabulary. It should be used to extract specific features.\n",
    "\n",
    "and returns:\n",
    "\n",
    "- a list of all extracted features.\n"
   ]
  },
  {
   "cell_type": "code",
   "execution_count": 5,
   "metadata": {
    "ExecuteTime": {
     "end_time": "2021-04-21T00:51:47.017930Z",
     "start_time": "2021-04-21T00:51:47.003739Z"
    },
    "scrolled": true
   },
   "outputs": [],
   "source": [
    "def extract_ngrams(x_raw, ngram_range=(1,3), token_pattern=r'\\b[A-Za-z][A-Za-z]+\\b', \n",
    "                   stop_words=[], vocab=set()):\n",
    "    \n",
    "    tokenRE = re.compile(token_pattern)\n",
    "    \n",
    "    # first extract all unigrams by tokenising\n",
    "    x_uni = [w for w in tokenRE.findall(str(x_raw).lower(),) if w not in stop_words]\n",
    "    \n",
    "    # this is to store the ngrams to be returned\n",
    "    x = []\n",
    "\n",
    "    if ngram_range[0]==1:\n",
    "        x = x_uni\n",
    "        \n",
    "    # generate n-grams from the available unigrams x_uni\n",
    "    ngrams = []\n",
    "    for n in range(ngram_range[0], ngram_range[1]+1):\n",
    "\n",
    "    # ignore unigrams\n",
    "        if n==1: continue\n",
    "\n",
    "        # pass a list of lists as an argument for zip\n",
    "        arg_list = [x_uni]+[x_uni[i:] for i in range(1, n)]\n",
    "\n",
    "        # extract tuples of n-grams using zip\n",
    "        # for bigram this should look: list(zip(x_uni, x_uni[1:]))\n",
    "        # align each item x[i] in x_uni with the next one x[i+1]. \n",
    "        # Note that x_uni and x_uni[1:] have different lenghts\n",
    "        # but zip ignores redundant elements at the end of the second list\n",
    "        # Alternatively, this could be done with for loops\n",
    "        x_ngram = list(zip(*arg_list))\n",
    "        ngrams.append(x_ngram)\n",
    "\n",
    "\n",
    "    for n in ngrams:\n",
    "        for t in n:\n",
    "            x.append(t)\n",
    "\n",
    "    if len(vocab)>0:\n",
    "        x = [w for w in x if w in vocab]\n",
    "        \n",
    "    return x"
   ]
  },
  {
   "cell_type": "markdown",
   "metadata": {},
   "source": [
    "### Create a vocabulary of n-grams\n",
    "\n",
    "Then the `get_vocab` function will be used to (1) create a vocabulary of ngrams; (2) count the document frequencies of ngrams; (3) their raw frequency. It takes as input:\n",
    "- `X_raw`: a list of strings each corresponding to the raw text of a document\n",
    "- `ngram_range`: a tuple of two integers denoting the type of ngrams you want to extract, e.g. (1,2) denotes extracting unigrams and bigrams.\n",
    "- `token_pattern`: a string to be used within a regular expression to extract all tokens. Note that data is already tokenised so you could opt for a simple white space tokenisation.\n",
    "- `stop_words`: a list of stop words\n",
    "- `min_df`: keep ngrams with a minimum document frequency.\n",
    "- `keep_topN`: keep top-N more frequent ngrams.\n",
    "\n",
    "and returns:\n",
    "\n",
    "- `vocab`: a set of the n-grams that will be used as features.\n",
    "- `df`: a Counter (or dict) that contains ngrams as keys and their corresponding document frequency as values.\n",
    "- `ngram_counts`: counts of each ngram in vocab\n"
   ]
  },
  {
   "cell_type": "code",
   "execution_count": 6,
   "metadata": {
    "ExecuteTime": {
     "end_time": "2021-04-21T00:51:47.033778Z",
     "start_time": "2021-04-21T00:51:47.019698Z"
    },
    "scrolled": true
   },
   "outputs": [],
   "source": [
    "def get_vocab(X_raw, ngram_range=(1,3), token_pattern=r'\\b[A-Za-z][A-Za-z]+\\b', \n",
    "              min_df=0, keep_topN=0, \n",
    "              stop_words=[]):\n",
    "    \n",
    "    \n",
    "    tokenRE = re.compile(token_pattern)\n",
    "    \n",
    "    df = Counter()\n",
    "    ngram_counts = Counter()\n",
    "    vocab = set()\n",
    "    \n",
    "    # interate through each raw text\n",
    "    for x in X_raw:\n",
    "        \n",
    "        x_ngram = extract_ngrams(x, ngram_range=ngram_range, token_pattern=token_pattern, \n",
    "                                 stop_words=stop_words)\n",
    "        \n",
    "        #update doc and ngram frequencies \n",
    "        df.update(list(set(x_ngram)))\n",
    "        ngram_counts.update(x_ngram)\n",
    "\n",
    "    # obtain a vocabulary as a set. \n",
    "    # Keep elements with doc frequency > minimum doc freq (min_df)\n",
    "    # Note that df contains all te\n",
    "    vocab = set([w for w in df if df[w]>=min_df])\n",
    "    \n",
    "    # keep the top N most freqent \n",
    "    if keep_topN>0:\n",
    "        vocab = set([w[0] for w in ngram_counts.most_common(keep_topN) \n",
    "                     if w[0] in vocab])\n",
    "      \n",
    "    return vocab, df, ngram_counts"
   ]
  },
  {
   "cell_type": "markdown",
   "metadata": {},
   "source": [
    "Now you should use `get_vocab` to create your vocabulary and get document and raw frequencies of unigrams:"
   ]
  },
  {
   "cell_type": "code",
   "execution_count": 7,
   "metadata": {
    "ExecuteTime": {
     "end_time": "2021-04-21T00:51:47.160098Z",
     "start_time": "2021-04-21T00:51:47.034779Z"
    },
    "scrolled": true
   },
   "outputs": [],
   "source": [
    "# Extract vocabulary from training data.\n",
    "vocab = get_vocab(train_attri, ngram_range=(1,1), min_df=7, keep_topN=1000, stop_words=stop_words)"
   ]
  },
  {
   "cell_type": "markdown",
   "metadata": {},
   "source": [
    "Then, you need to create vocabulary id -> word and word -> vocabulary id dictionaries for reference:"
   ]
  },
  {
   "cell_type": "code",
   "execution_count": 8,
   "metadata": {
    "ExecuteTime": {
     "end_time": "2021-04-21T00:51:47.175060Z",
     "start_time": "2021-04-21T00:51:47.161098Z"
    },
    "scrolled": true
   },
   "outputs": [],
   "source": [
    "def create_2_dict(result_from_vocab):\n",
    "    id_word = dict()\n",
    "    word_id = dict()\n",
    "    id = 1\n",
    "    for gram in result_from_vocab[0]:\n",
    "        id_word.update({id: gram})\n",
    "        word_id.update({gram: id})\n",
    "        id += 1\n",
    "    return id_word, word_id\n",
    "# Create vocabulary id -> word and word -> vocabulary id dictionaries.\n",
    "id2word, word2id = create_2_dict(vocab)"
   ]
  },
  {
   "cell_type": "markdown",
   "metadata": {},
   "source": [
    "### Convert the list of unigrams  into a list of vocabulary indices"
   ]
  },
  {
   "cell_type": "markdown",
   "metadata": {},
   "source": [
    "Storing actual one-hot vectors into memory for all words in the entire data set is prohibitive. Instead, we will store word indices in the vocabulary and look-up the weight matrix. This is equivalent of doing a dot product between an one-hot vector and the weight matrix. \n",
    "\n",
    "First, represent documents in train, dev and test sets as lists of words in the vocabulary:"
   ]
  },
  {
   "cell_type": "code",
   "execution_count": 9,
   "metadata": {
    "ExecuteTime": {
     "end_time": "2021-04-21T00:51:47.300250Z",
     "start_time": "2021-04-21T00:51:47.177055Z"
    },
    "scrolled": true
   },
   "outputs": [],
   "source": [
    "# Represent documents in train sets as lists of words in the vocabulary.   \n",
    "def docs_vocab(docs):\n",
    "    set_vocab=[]\n",
    "    for i in range(len(docs)):\n",
    "        new_row = []\n",
    "        # Extract unigrams of every document.\n",
    "        ngrams = extract_ngrams(docs[i], ngram_range=(1,1), stop_words=stop_words)\n",
    "        for word in ngrams:\n",
    "            # For every word in each document, if the word can be found in the vocab, \n",
    "            # then contain it to a new list.\n",
    "            if word in vocab[0]:\n",
    "                new_row.append(word)\n",
    "        # Store lists of words in the vocabulary in every document.\n",
    "        set_vocab.append(new_row)\n",
    "    return set_vocab\n",
    "# Represent documents in train, dev and test sets as lists of words in the vocabulary\n",
    "train_set_vocab = docs_vocab(train_attri)\n",
    "dev_set_vocab = docs_vocab(dev_attri)\n",
    "test_set_vocab = docs_vocab(test_attri)\n"
   ]
  },
  {
   "cell_type": "code",
   "execution_count": 10,
   "metadata": {
    "ExecuteTime": {
     "end_time": "2021-04-21T00:51:47.316262Z",
     "start_time": "2021-04-21T00:51:47.301249Z"
    }
   },
   "outputs": [
    {
     "name": "stdout",
     "output_type": "stream",
     "text": [
      "The length of the longest sentence in train set is:  56\n",
      "The length of the longest sentence in dev set is:  31\n",
      "The length of the longest sentence in test set is:  50\n"
     ]
    }
   ],
   "source": [
    "# Get the max length of the longest document for creating indices matrix later.   \n",
    "max_len_train = np.max([len(text) for text in train_set_vocab])\n",
    "max_len_dev = np.max([len(text) for text in dev_set_vocab])\n",
    "max_len_test = np.max([len(text) for text in test_set_vocab])\n",
    "# Find the length of the longest sentence in train, dev and test set.\n",
    "print(\"The length of the longest sentence in train set is: \", max_len_train)\n",
    "print(\"The length of the longest sentence in dev set is: \", max_len_dev)\n",
    "print(\"The length of the longest sentence in test set is: \", max_len_test)"
   ]
  },
  {
   "cell_type": "markdown",
   "metadata": {},
   "source": [
    "The follow function can map one-hot input layer into an rmbedding weight matrix."
   ]
  },
  {
   "cell_type": "code",
   "execution_count": 11,
   "metadata": {
    "ExecuteTime": {
     "end_time": "2021-04-21T00:51:47.332165Z",
     "start_time": "2021-04-21T00:51:47.317208Z"
    },
    "scrolled": true
   },
   "outputs": [],
   "source": [
    "# Represent documents in train sets as lists of words in the vocabulary.   \n",
    "def docs_indices(docs_v, width = 300):\n",
    "    set_indices=[]\n",
    "    for i in range(len(docs_v)):\n",
    "        new_row = []\n",
    "        for word in docs_v[i]:\n",
    "            # For every word in each sentence, add their indices in new list.\n",
    "            new_row.append(word2id[word])\n",
    "        # The length of each sentence is different, so add 0 to the list whose length is less than the maximum length (56).\n",
    "        new_row = new_row + [0] * (width - len(new_row))\n",
    "        # Store lists of words in the vocabulary in every document.\n",
    "        set_indices.append(new_row)\n",
    "    return set_indices\n",
    "\n",
    "# I will convert the list of unigrams into a list of vocabulary indices when I train the model."
   ]
  },
  {
   "cell_type": "markdown",
   "metadata": {},
   "source": [
    "Put the labels `Y` for train, dev and test sets into arrays: "
   ]
  },
  {
   "cell_type": "code",
   "execution_count": 12,
   "metadata": {
    "ExecuteTime": {
     "end_time": "2021-04-21T00:51:47.348124Z",
     "start_time": "2021-04-21T00:51:47.334161Z"
    },
    "scrolled": true
   },
   "outputs": [],
   "source": [
    "Y_train = train_label.to_numpy()\n",
    "Y_val = dev_label.to_numpy()\n",
    "Y_test = test_label.to_numpy()"
   ]
  },
  {
   "cell_type": "markdown",
   "metadata": {},
   "source": [
    "# Network Architecture\n",
    "\n",
    "Your network should pass each word index into its corresponding embedding by looking-up on the embedding matrix and then compute the first hidden layer $\\mathbf{h}_1$:\n",
    "\n",
    "$$\\mathbf{h}_1 = \\frac{1}{|x|}\\sum_i W^e_i, i \\in x$$\n",
    "\n",
    "where $|x|$ is the number of words in the document and $W^e$ is an embedding matrix $|V|\\times d$, $|V|$ is the size of the vocabulary and $d$ the embedding size.\n",
    "\n",
    "Then $\\mathbf{h}_1$ should be passed through a ReLU activation function:\n",
    "\n",
    "$$\\mathbf{a}_1 = relu(\\mathbf{h}_1)$$\n",
    "\n",
    "Finally the hidden layer is passed to the output layer:\n",
    "\n",
    "\n",
    "$$\\mathbf{y} = \\text{softmax}(\\mathbf{a}_1W) $$ \n",
    "where $W$ is a matrix $d \\times |{\\cal Y}|$, $|{\\cal Y}|$ is the number of classes.\n",
    "\n",
    "During training, $\\mathbf{a}_1$ should be multiplied with a dropout mask vector (elementwise) for regularisation before it is passed to the output layer.\n",
    "\n",
    "You can extend to a deeper architecture by passing a hidden layer to another one:\n",
    "\n",
    "$$\\mathbf{h_i} = \\mathbf{a}_{i-1}W_i $$\n",
    "\n",
    "$$\\mathbf{a_i} = relu(\\mathbf{h_i}) $$\n",
    "\n"
   ]
  },
  {
   "cell_type": "markdown",
   "metadata": {},
   "source": [
    "# Network Training\n",
    "\n",
    "First we need to define the parameters of our network by initiliasing the weight matrices. For that purpose, you should implement the `network_weights` function that takes as input:\n",
    "\n",
    "- `vocab_size`: the size of the vocabulary\n",
    "- `embedding_dim`: the size of the word embeddings\n",
    "- `hidden_dim`: a list of the sizes of any subsequent hidden layers. Empty if there are no hidden layers between the average embedding and the output layer \n",
    "- `num_classes`: the number of the classes for the output layer\n",
    "\n",
    "and returns:\n",
    "\n",
    "- `W`: a dictionary mapping from layer index (e.g. 0 for the embedding matrix) to the corresponding weight matrix initialised with small random numbers (hint: use numpy.random.uniform with from -0.1 to 0.1)\n",
    "\n",
    "Make sure that the dimensionality of each weight matrix is compatible with the previous and next weight matrix, otherwise you won't be able to perform forward and backward passes. Consider also using np.float32 precision to save memory."
   ]
  },
  {
   "cell_type": "code",
   "execution_count": 13,
   "metadata": {
    "ExecuteTime": {
     "end_time": "2021-04-21T00:51:47.364120Z",
     "start_time": "2021-04-21T00:51:47.350119Z"
    },
    "scrolled": true
   },
   "outputs": [],
   "source": [
    "def network_weights(vocab_size=1000, embedding_dim=300, \n",
    "                    hidden_dim=[], num_classes=3, init_val = 0.5):\n",
    "    W = list()\n",
    "    # Create W with embedding_dim*num_classes dimension \n",
    "    # if there are no hidden layers between the average embedding and the output layer.\n",
    "    if len(hidden_dim) == 0:\n",
    "        layer = [{'weights':[np.float32(np.random.uniform(-1e-1, 1e-1)) for i in range(embedding_dim)]} for i in range(num_classes)]\n",
    "        W.append(layer)\n",
    "        return W\n",
    "    # Create W if there are hidden layers between the average embedding and the output layer.\n",
    "    else:\n",
    "        # W with embedding_dim*hidden_dim[0] dimension\n",
    "        layer = [{'weights':[np.float32(np.random.uniform(-1e-1, 1e-1)) for i in range(embedding_dim)]} for i in range(hidden_dim[0])]\n",
    "        W.append(layer)\n",
    "        # W with hidden_dim[j]*hidden_dim[j+1] dimension\n",
    "        for j in range(len(hidden_dim)-1):\n",
    "            layer = [{'weights':[np.float32(np.random.uniform(-1e-1, 1e-1)) for i in range(hidden_dim[j])]} for i in range(hidden_dim[j+1])]\n",
    "            W.append(layer)\n",
    "        # W with hidden_dim[-1]*num_classes dimension\n",
    "        layer = [{'weights':[np.float32(np.random.uniform(-1e-1, 1e-1)) for i in range(hidden_dim[-1])]} for i in range(num_classes)]\n",
    "        W.append(layer)\n",
    "        return W "
   ]
  },
  {
   "cell_type": "code",
   "execution_count": 14,
   "metadata": {
    "ExecuteTime": {
     "end_time": "2021-04-21T00:51:47.380037Z",
     "start_time": "2021-04-21T00:51:47.366074Z"
    },
    "scrolled": true
   },
   "outputs": [],
   "source": [
    "# Weights = network_weights(vocab_size=3,embedding_dim=5,hidden_dim=[3], num_classes=2)"
   ]
  },
  {
   "cell_type": "markdown",
   "metadata": {
    "ExecuteTime": {
     "end_time": "2020-04-01T10:31:57.970152Z",
     "start_time": "2020-04-01T10:31:57.966123Z"
    }
   },
   "source": [
    "Then you need to develop a `softmax` function (same as in Assignment 1) to be used in the output layer. \n",
    "\n",
    "It takes as input `z` (array of real numbers) and returns `sig` (the softmax of `z`)\n",
    "\n"
   ]
  },
  {
   "cell_type": "code",
   "execution_count": 15,
   "metadata": {
    "ExecuteTime": {
     "end_time": "2021-04-21T00:51:47.396057Z",
     "start_time": "2021-04-21T00:51:47.382031Z"
    }
   },
   "outputs": [],
   "source": [
    "# To avoid the probably blow up exponents, first shift the highest value in array to zero, then compute the softmax.\n",
    "def softmax(z):\n",
    "    expo = np.exp(z-np.max(z))\n",
    "    expo_sum = np.sum(np.exp(z-np.max(z)))\n",
    "    sig = expo/expo_sum    \n",
    "    return sig"
   ]
  },
  {
   "cell_type": "markdown",
   "metadata": {},
   "source": [
    "Now you need to implement the categorical cross entropy loss by slightly modifying the function from Assignment 1 to depend only on the true label `y` and the class probabilities vector `y_preds`:\n"
   ]
  },
  {
   "cell_type": "code",
   "execution_count": 16,
   "metadata": {
    "ExecuteTime": {
     "end_time": "2021-04-21T00:51:47.412156Z",
     "start_time": "2021-04-21T00:51:47.396992Z"
    },
    "scrolled": true
   },
   "outputs": [],
   "source": [
    "def categorical_loss(y, y_preds):\n",
    "    epsilon = 1e-10\n",
    "    l = -np.sum(y * np.log(y_preds + epsilon))/ y.shape[0]\n",
    "    return l"
   ]
  },
  {
   "cell_type": "markdown",
   "metadata": {
    "ExecuteTime": {
     "end_time": "2020-03-31T15:02:56.149535Z",
     "start_time": "2020-03-31T15:02:56.145738Z"
    }
   },
   "source": [
    "Then, implement the `relu` function to introduce non-linearity after each hidden layer of your network \n",
    "(during the forward pass): \n",
    "\n",
    "$$relu(z_i)= max(z_i,0)$$\n",
    "\n",
    "and the `relu_derivative` function to compute its derivative (used in the backward pass):\n",
    "\n",
    "  \n",
    "  relu_derivative($z_i$)=0, if $z_i$<=0, 1 otherwise.\n",
    "  \n",
    "\n",
    "\n",
    "Note that both functions take as input a vector $z$ \n",
    "\n",
    "Hint use .copy() to avoid in place changes in array z"
   ]
  },
  {
   "cell_type": "code",
   "execution_count": 17,
   "metadata": {
    "ExecuteTime": {
     "end_time": "2021-04-21T00:51:47.427321Z",
     "start_time": "2021-04-21T00:51:47.413096Z"
    },
    "scrolled": true
   },
   "outputs": [],
   "source": [
    "def relu(z):\n",
    "    zz = z.copy()\n",
    "    a = np.maximum(0, zz)    \n",
    "    return a\n",
    "    \n",
    "def relu_derivative(z):\n",
    "    dz = z.copy()\n",
    "    dz[dz <= 0] = 0\n",
    "    dz[dz > 0] = 1  \n",
    "    return dz"
   ]
  },
  {
   "cell_type": "markdown",
   "metadata": {},
   "source": [
    "During training you should also apply a dropout mask element-wise after the activation function (i.e. vector of ones with a random percentage set to zero). The `dropout_mask` function takes as input:\n",
    "\n",
    "- `size`: the size of the vector that we want to apply dropout\n",
    "- `dropout_rate`: the percentage of elements that will be randomly set to zeros\n",
    "\n",
    "and returns:\n",
    "\n",
    "- `dropout_vec`: a vector with binary values (0 or 1)"
   ]
  },
  {
   "cell_type": "code",
   "execution_count": 18,
   "metadata": {
    "ExecuteTime": {
     "end_time": "2021-04-21T00:51:47.443268Z",
     "start_time": "2021-04-21T00:51:47.429091Z"
    },
    "scrolled": true
   },
   "outputs": [],
   "source": [
    "def dropout_mask(size, dropout_rate):\n",
    "    dropout_vec = np.ones(size)\n",
    "    # Decide the number of 0 in vector.\n",
    "    dropout_vec[ :int(size*dropout_rate)] = 0\n",
    "    np.random.shuffle(dropout_vec)\n",
    "    return dropout_vec"
   ]
  },
  {
   "cell_type": "code",
   "execution_count": 19,
   "metadata": {
    "ExecuteTime": {
     "end_time": "2021-04-21T00:51:47.458972Z",
     "start_time": "2021-04-21T00:51:47.444014Z"
    },
    "scrolled": true
   },
   "outputs": [
    {
     "name": "stdout",
     "output_type": "stream",
     "text": [
      "[0. 0. 1. 1. 1. 0. 0. 1. 1. 0.]\n",
      "[1. 1. 1. 0. 1. 1. 1. 1. 0. 0.]\n"
     ]
    }
   ],
   "source": [
    "print(dropout_mask(10, 0.5))\n",
    "print(dropout_mask(10, 0.3))"
   ]
  },
  {
   "cell_type": "markdown",
   "metadata": {},
   "source": [
    "Now you need to implement the `forward_pass` function that passes the input x through the network up to the output layer for computing the probability for each class using the weight matrices in `W`. The ReLU activation function should be applied on each hidden layer. \n",
    "\n",
    "- `x`: a list of vocabulary indices each corresponding to a word in the document (input)\n",
    "- `W`: a list of weight matrices connecting each part of the network, e.g. for a network with a hidden and an output layer: W[0] is the weight matrix that connects the input to the first hidden layer, W[1] is the weight matrix that connects the hidden layer to the output layer.\n",
    "- `dropout_rate`: the dropout rate that is used to generate a random dropout mask vector applied after each hidden layer for regularisation.\n",
    "\n",
    "and returns:\n",
    "\n",
    "- `out_vals`: a dictionary of output values from each layer: h (the vector before the activation function), a (the resulting vector after passing h from the activation function), its dropout mask vector; and the prediction vector (probability for each class) from the output layer."
   ]
  },
  {
   "cell_type": "code",
   "execution_count": 20,
   "metadata": {
    "ExecuteTime": {
     "end_time": "2021-04-21T00:51:47.474938Z",
     "start_time": "2021-04-21T00:51:47.459970Z"
    }
   },
   "outputs": [],
   "source": [
    "def forward_pass(x, W, dropout_rate=0.2):\n",
    "    out_vals = {}\n",
    "    h_vecs = []\n",
    "    a_vecs = []\n",
    "    dropout_vecs = []\n",
    "    inputs = x\n",
    "    w_idx = 0\n",
    "    # Get all hidden layers\n",
    "    W_hidden = W[:-1]\n",
    "    # Get output layer\n",
    "    W_output = W[-1]\n",
    "    # Use ReLu function to introduce non-linearity after each hidden layer\n",
    "    for layer in W_hidden:\n",
    "        new_inputs = []\n",
    "        for neuron in layer:\n",
    "            # The vector before the activation function.\n",
    "            h_vecs = np.matmul(inputs, neuron['weights'])\n",
    "            # The resulting vector after passing h_vecs from the activation function.\n",
    "            neuron['output'] = relu(h_vecs)\n",
    "            a_vecs = neuron['output']\n",
    "            new_inputs.append(a_vecs)\n",
    "        inputs = new_inputs\n",
    "        # Generate and implement dropout mask vector for regularisation.\n",
    "        drop_vec = dropout_mask(len(inputs), dropout_rate)\n",
    "        inputs = np.multiply(inputs, drop_vec)\n",
    "        out_vals.update({'w'+str(w_idx): inputs})\n",
    "        w_idx += 1\n",
    "    # Use softmax function in output layer.\n",
    "    final_output = []\n",
    "    for neuron in W_output:\n",
    "        h_vecs = np.matmul(inputs, neuron['weights'])\n",
    "        neuron['output'] = h_vecs\n",
    "        a_vecs = neuron['output']\n",
    "        final_output.append(a_vecs)\n",
    "    out_vals.update({'w'+str(w_idx): softmax(final_output)})\n",
    "    return out_vals"
   ]
  },
  {
   "cell_type": "markdown",
   "metadata": {},
   "source": [
    "The `backward_pass` function computes the gradients and updates the weights for each matrix in the network from the output to the input. It takes as input \n",
    "\n",
    "- `x`: a list of vocabulary indices each corresponding to a word in the document (input)\n",
    "- `y`: the true label\n",
    "- `W`: a list of weight matrices connecting each part of the network, e.g. for a network with a hidden and an output layer: W[0] is the weight matrix that connects the input to the first hidden layer, W[1] is the weight matrix that connects the hidden layer to the output layer.\n",
    "- `out_vals`: a dictionary of output values from a forward pass.\n",
    "- `learning_rate`: the learning rate for updating the weights.\n",
    "- `freeze_emb`: boolean value indicating whether the embedding weights will be updated.\n",
    "\n",
    "and returns:\n",
    "\n",
    "- `W`: the updated weights of the network.\n",
    "\n",
    "Hint: the gradients on the output layer are similar to the multiclass logistic regression."
   ]
  },
  {
   "cell_type": "code",
   "execution_count": 21,
   "metadata": {
    "ExecuteTime": {
     "end_time": "2021-04-21T00:51:47.489925Z",
     "start_time": "2021-04-21T00:51:47.475927Z"
    }
   },
   "outputs": [],
   "source": [
    "def backward_pass(x, y, W, out_vals, lr=0.001, freeze_emb=False):\n",
    "    # Transform dictionary W to array W for calculation later.\n",
    "    W_a = []\n",
    "    for n in range(len(W)):\n",
    "        w = []\n",
    "        for neuron in W[n]:\n",
    "            w.append(neuron['weights'])\n",
    "        # Transform every weight matrix to array and transpose it for calculation, then append to a new list.\n",
    "        W_a.append(np.array(w).T)\n",
    "    for i in reversed(range(len(W))):\n",
    "        # When it is output layer.\n",
    "        if i == (len(W)-1):\n",
    "            # Computer gradient of softmax layer with Cross-Entropy, \n",
    "            # which is the difference between the predicted probability- \n",
    "            # output of the network and the target probability output.\n",
    "            delta = (out_vals['w'+str(i)] - y).reshape(1, len(y))\n",
    "            # Gradient Clipping\n",
    "            if norm(delta) >1e+10:\n",
    "                delta = delta/norm(delta)\n",
    "            #print(norm(delta))\n",
    "            # Update weight\n",
    "            W_a[i] -= lr * np.dot(out_vals['w'+str(i-1)].reshape(len(out_vals['w'+str(i-1)]), 1), delta)\n",
    "        # When it is the hiddenlayer except the first one.\n",
    "        elif i != 0 and i != (len(W)-1):\n",
    "            delta = np.dot(delta, W_a[i+1].T) * relu_derivative(out_vals['w'+str(i)])\n",
    "            # Gradient Clipping\n",
    "            if norm(delta) >1e+10:\n",
    "                delta = delta/norm(delta)\n",
    "            #print(norm(delta))\n",
    "            W_a[i] -= lr * np.dot(out_vals['w'+str(i-1)].reshape(len(out_vals['w'+str(i-1)]), 1), delta)\n",
    "        # When it is the first layer.\n",
    "        else:\n",
    "            # Decide whether freezing the embedding matrix.\n",
    "            if freeze_emb == False:\n",
    "                delta = np.dot(delta, W_a[i+1].T) * relu_derivative(out_vals['w'+str(i)])\n",
    "                # Gradient Clipping\n",
    "                if norm(delta) >1e+10:\n",
    "                    delta = delta/norm(delta)\n",
    "                #print(norm(delta))\n",
    "                W_a[i] -= lr * np.dot(np.array(x).reshape(len(x), 1), delta)\n",
    "            if freeze_emb == True:\n",
    "                pass\n",
    "    # Transform array W to dictionary W for forward pass again.\n",
    "    W = []\n",
    "    for j in range(len(W_a)):\n",
    "        W_trans = []\n",
    "        for neuron in W_a[j].T:\n",
    "            neuron = neuron.astype(np.float32)\n",
    "            W_trans.append({'weights':list(neuron)})\n",
    "        W.append(W_trans)\n",
    "    return W"
   ]
  },
  {
   "cell_type": "code",
   "execution_count": 22,
   "metadata": {
    "ExecuteTime": {
     "end_time": "2021-04-21T00:51:47.504890Z",
     "start_time": "2021-04-21T00:51:47.490888Z"
    }
   },
   "outputs": [
    {
     "data": {
      "text/plain": [
       "array([[1., 0., 0.],\n",
       "       [1., 0., 0.],\n",
       "       [1., 0., 0.],\n",
       "       ...,\n",
       "       [0., 0., 1.],\n",
       "       [0., 0., 1.],\n",
       "       [0., 0., 1.]])"
      ]
     },
     "execution_count": 22,
     "metadata": {},
     "output_type": "execute_result"
    }
   ],
   "source": [
    "def one_hot(y):\n",
    "    K=len(np.unique(y.tolist())) \n",
    "    eyes_mat=np.eye(K)           \n",
    "    y_onehot=np.ones((y.shape[0],K)) \n",
    "    for i in range(0,y.shape[0]):\n",
    "        y_onehot[i]=eyes_mat[y[i]-1]  # Update one-hot coder matrix accroding to the label value.\n",
    "    return y_onehot\n",
    "\n",
    "ytrue = one_hot(Y_train)\n",
    "ytrue"
   ]
  },
  {
   "cell_type": "markdown",
   "metadata": {
    "ExecuteTime": {
     "end_time": "2020-02-15T14:08:59.937442Z",
     "start_time": "2020-02-15T14:08:59.932221Z"
    }
   },
   "source": [
    "Finally you need to modify SGD to support back-propagation by using the `forward_pass` and `backward_pass` functions.\n",
    "\n",
    "The `SGD` function takes as input:\n",
    "\n",
    "- `X_tr`: array of training data (vectors)\n",
    "- `Y_tr`: labels of `X_tr`\n",
    "- `W`: the weights of the network (dictionary)\n",
    "- `X_dev`: array of development (i.e. validation) data (vectors)\n",
    "- `Y_dev`: labels of `X_dev`\n",
    "- `lr`: learning rate\n",
    "- `dropout`: regularisation strength\n",
    "- `epochs`: number of full passes over the training data\n",
    "- `tolerance`: stop training if the difference between the current and previous validation loss is smaller than a threshold\n",
    "- `freeze_emb`: boolean value indicating whether the embedding weights will be updated (to be used by the backward pass function).\n",
    "- `print_progress`: flag for printing the training progress (train/validation loss)\n",
    "\n",
    "\n",
    "and returns:\n",
    "\n",
    "- `weights`: the weights learned\n",
    "- `training_loss_history`: an array with the average losses of the whole training set after each epoch\n",
    "- `validation_loss_history`: an array with the average losses of the whole development set after each epoch"
   ]
  },
  {
   "cell_type": "code",
   "execution_count": 23,
   "metadata": {
    "ExecuteTime": {
     "end_time": "2021-04-21T00:51:47.520807Z",
     "start_time": "2021-04-21T00:51:47.505848Z"
    },
    "scrolled": true
   },
   "outputs": [],
   "source": [
    "def SGD(X_tr, Y_tr, W, X_dev, Y_dev, lr=0.001, \n",
    "        dropout=0.2, epochs=5, tolerance=0.001, freeze_emb=False, \n",
    "        print_progress=True):\n",
    "    # Transform train and dev labels to one-hot form.\n",
    "    Y_tr_OH = one_hot(Y_tr)\n",
    "    Y_dev_OH = one_hot(Y_dev)\n",
    "    # Create two loss lists.\n",
    "    training_loss_history = []\n",
    "    validation_loss_history = []\n",
    "    training_loss_history.append(0)\n",
    "    validation_loss_history.append(0)\n",
    "    weight = W.copy()\n",
    "    # Zip two lists for shuffle later\n",
    "    whole_data = list(zip(X_tr, Y_tr_OH.tolist()))\n",
    "    X = X_tr\n",
    "    Y = Y_tr_OH\n",
    "    for i in range(epochs):\n",
    "        y_tr_pred = []\n",
    "        y_dev_pred = []\n",
    "        # Shuffle data\n",
    "        random.shuffle(whole_data)\n",
    "        X, Y = zip(*whole_data)\n",
    "        Y = np.array(Y)\n",
    "        for j in range(len(X)):\n",
    "            # Forward pass.\n",
    "            output = forward_pass(X[j], weight, dropout)\n",
    "            #print(output)\n",
    "            # Backward pass.\n",
    "            weight = backward_pass(X[j], Y[j], weight, output)\n",
    "            #print(weight)\n",
    "        \n",
    "        # Use updated weights to predict train labels.  \n",
    "        for m in range(len(X)):\n",
    "            output_tr = forward_pass(X[m], weight, dropout)\n",
    "            y_tr_pred.append(output_tr['w'+str(len(weight)-1)])        \n",
    "        # Compute training loss is this epoch.\n",
    "        tr_loss = categorical_loss(Y, np.array(y_tr_pred))\n",
    "        training_loss_history.append(tr_loss)\n",
    "        \n",
    "        # Use updated weights to predict dev labels.\n",
    "        for k in range(len(X_dev)):\n",
    "            output_dev = forward_pass(X_dev[k], weight, dropout)\n",
    "            y_dev_pred.append(output_dev['w'+str(len(weight)-1)])\n",
    "        # Compute dev loss is this epoch.\n",
    "        dev_loss = categorical_loss(Y_dev_OH, np.array(y_dev_pred))\n",
    "        validation_loss_history.append(dev_loss)\n",
    "        \n",
    "        # Stop training if the difference between the current and \n",
    "        # previous validation loss is smaller than a threshold\n",
    "        if abs(validation_loss_history[-1]-validation_loss_history[-2]) < tolerance:\n",
    "            return weight, training_loss_history[1:], validation_loss_history[1:]    \n",
    "    return weight, training_loss_history[1:], validation_loss_history[1:]"
   ]
  },
  {
   "cell_type": "markdown",
   "metadata": {
    "ExecuteTime": {
     "end_time": "2020-02-15T14:10:15.772383Z",
     "start_time": "2020-02-15T14:10:15.767855Z"
    }
   },
   "source": [
    "Now you are ready to train and evaluate your neural net. First, you need to define your network using the `network_weights` function followed by SGD with backprop:"
   ]
  },
  {
   "cell_type": "code",
   "execution_count": 24,
   "metadata": {
    "ExecuteTime": {
     "end_time": "2021-04-21T00:52:25.133559Z",
     "start_time": "2021-04-21T00:51:47.521804Z"
    }
   },
   "outputs": [],
   "source": [
    "# Initialise the weights of the network\n",
    "Weights = network_weights(embedding_dim=300, hidden_dim=[10], num_classes=3)\n",
    "# Get final embedding matrix\n",
    "X_train = docs_indices(train_set_vocab, 300)\n",
    "X_val = docs_indices(dev_set_vocab, 300)\n",
    "X_test = docs_indices(test_set_vocab, 300)\n",
    "\n",
    "W_final, loss_tr, dev_loss = SGD(X_train, Y_train,\n",
    "                                 Weights,\n",
    "                                 X_dev=X_val, \n",
    "                                 Y_dev=Y_val,\n",
    "                                 lr=2e-8, \n",
    "                                 dropout=0.5,\n",
    "                                 freeze_emb=False,\n",
    "                                 tolerance=0.0001,\n",
    "                                 epochs=10)"
   ]
  },
  {
   "cell_type": "markdown",
   "metadata": {},
   "source": [
    "Plot the learning process:"
   ]
  },
  {
   "cell_type": "code",
   "execution_count": 25,
   "metadata": {
    "ExecuteTime": {
     "end_time": "2021-04-21T00:52:25.276466Z",
     "start_time": "2021-04-21T00:52:25.134560Z"
    },
    "scrolled": false
   },
   "outputs": [
    {
     "data": {
      "text/plain": [
       "<matplotlib.legend.Legend at 0x27998715cd0>"
      ]
     },
     "execution_count": 25,
     "metadata": {},
     "output_type": "execute_result"
    },
    {
     "data": {
      "image/png": "[encoded data removed]",
      "text/plain": [
       "<Figure size 432x288 with 1 Axes>"
      ]
     },
     "metadata": {
      "needs_background": "light"
     },
     "output_type": "display_data"
    }
   ],
   "source": [
    "x = np.array(range(1, len(loss_tr)+1))\n",
    "plt.plot(x, loss_tr, label='training loss')\n",
    "plt.plot(x, dev_loss, label='validation loss')\n",
    "plt.title(\"Training and Validation History per Epoch\")\n",
    "plt.xlabel(\"epochs\")\n",
    "plt.ylabel(\"loss value\")\n",
    "plt.legend()"
   ]
  },
  {
   "cell_type": "markdown",
   "metadata": {},
   "source": [
    "As can be seen from the above figure, the degree of overfitting of the model is low, because the two curves overlap many times, and the difference between the train loss and the validation loss set is small. Meanwhile, the model underfits because the two curves are still decreasing without convergence."
   ]
  },
  {
   "cell_type": "markdown",
   "metadata": {},
   "source": [
    "Compute accuracy, precision, recall and F1-Score:"
   ]
  },
  {
   "cell_type": "code",
   "execution_count": 26,
   "metadata": {
    "ExecuteTime": {
     "end_time": "2021-04-21T00:52:25.703453Z",
     "start_time": "2021-04-21T00:52:25.277464Z"
    }
   },
   "outputs": [
    {
     "name": "stdout",
     "output_type": "stream",
     "text": [
      "Accuracy: 0.33555555555555555\n",
      "Precision: 0.2628762313801684\n",
      "Recall: 0.33555555555555555\n",
      "F1-Score: 0.17724460646313966\n"
     ]
    },
    {
     "name": "stderr",
     "output_type": "stream",
     "text": [
      "D:\\Anaconda\\lib\\site-packages\\sklearn\\metrics\\_classification.py:1221: UndefinedMetricWarning: Precision is ill-defined and being set to 0.0 in labels with no predicted samples. Use `zero_division` parameter to control this behavior.\n",
      "  _warn_prf(average, modifier, msg_start, len(result))\n"
     ]
    }
   ],
   "source": [
    "# Get predicted label weights of test set.\n",
    "y_test_pred = []\n",
    "for i in range(len(X_test)):\n",
    "    output_test = forward_pass(X_test[i], W_final, dropout_rate=0.0)\n",
    "    y_test_pred.append(output_test['w'+str(len(W_final)-1)])\n",
    "# Convert label weights to the real label class(1,2 or 3).\n",
    "y_test_pred_int = []\n",
    "for label in y_test_pred:\n",
    "    y_test_pred_int.append(np.argmax(label)+1)\n",
    "    \n",
    "print('Accuracy:', accuracy_score(Y_test,y_test_pred_int))\n",
    "print('Precision:', precision_score(Y_test,y_test_pred_int,average='macro'))\n",
    "print('Recall:', recall_score(Y_test,y_test_pred_int,average='macro'))\n",
    "print('F1-Score:', f1_score(Y_test,y_test_pred_int,average='macro'))\n"
   ]
  },
  {
   "cell_type": "markdown",
   "metadata": {},
   "source": [
    "### Discuss how did you choose model hyperparameters ? "
   ]
  },
  {
   "cell_type": "markdown",
   "metadata": {},
   "source": [
    "To find the best hyperparameters, I chose different embbending size{56, 300, 500}, dropout rate{0.2, 0.5}, learning rate{1e-6, 1e-7, 1e-8, 1e-9} and dimension of hidden layer{20, 10}. For each model, I trained 10 epoches."
   ]
  },
  {
   "cell_type": "code",
   "execution_count": 27,
   "metadata": {
    "ExecuteTime": {
     "end_time": "2021-04-21T00:52:25.718178Z",
     "start_time": "2021-04-21T00:52:25.704494Z"
    }
   },
   "outputs": [],
   "source": [
    "# # Code for hyperparameters tunning.\n",
    "# # Choose hyperparameters.\n",
    "# emb_size = 500\n",
    "# learning_rate = 1e-6\n",
    "# dropout_rate = 0.5\n",
    "# # Initialse embedding matrix and weight matrix.\n",
    "# X_train_tune = docs_indices(train_set_vocab, emb_size)\n",
    "# X_val_tune = docs_indices(dev_set_vocab, emb_size)\n",
    "# Weights_tune = network_weights(embedding_dim=emb_size, hidden_dim=[10], num_classes=3)\n",
    "# # Train model, each model has a 20 dimension hidden layer and trains 10 epoches.\n",
    "# W_final_tune, loss_tr_tune, dev_loss_tune = SGD(X_train_tune, Y_train,\n",
    "#                                  Weights_tune,\n",
    "#                                  X_dev=X_val_tune, \n",
    "#                                  Y_dev=Y_val,\n",
    "#                                  lr=learning_rate, \n",
    "#                                  dropout=dropout_rate,\n",
    "#                                  freeze_emb=False,\n",
    "#                                  tolerance=0.0001,\n",
    "#                                  epochs=10)\n",
    "\n",
    "# # Get predicted label weights of training and validation set.\n",
    "# y_train_pred = []\n",
    "# y_val_pred = []\n",
    "# for i in range(len(X_train_tune)):\n",
    "#     output_train = forward_pass(X_train_tune[i], W_final_tune, dropout_rate=0.0)\n",
    "#     y_train_pred.append(output_train['w'+str(len(W_final_tune)-1)])\n",
    "# for i in range(len(X_val_tune)):\n",
    "#     output_val = forward_pass(X_val_tune[i], W_final_tune, dropout_rate=0.0)\n",
    "#     y_val_pred.append(output_val['w'+str(len(W_final_tune)-1)])\n",
    "\n",
    "# # Convert label weights to the real label class(1,2 or 3).\n",
    "# y_train_pred_int = []\n",
    "# y_val_pred_int = []\n",
    "# for label in y_train_pred:\n",
    "#     y_train_pred_int.append(np.argmax(label)+1)\n",
    "# for label in y_val_pred:\n",
    "#     y_val_pred_int.append(np.argmax(label)+1)\n",
    "    \n",
    "# # Compute F1-score of the model on training and validation set.\n",
    "# print('Accuracy on training set:', accuracy_score(Y_train,y_train_pred_int))\n",
    "# print('Accuracy on validation set:', accuracy_score(Y_val,y_val_pred_int))\n",
    "\n",
    "# del W_final_tune\n",
    "# gc.collect()"
   ]
  },
  {
   "cell_type": "markdown",
   "metadata": {},
   "source": [
    "Note: The form of the result is: \"training accuracy/validation accuracy\". The final learning rate value of the model is obtained by more attempts. The 4 learning rate values in the following table are just \"boundaries\"."
   ]
  },
  {
   "cell_type": "markdown",
   "metadata": {},
   "source": [
    "Size of hidden layer: 20\n",
    "\n",
    "|Embedding size  |Dropout rate  | lr = 1e-6  | lr = 1e-7  | lr = 1e-8  | lr = 1e-9  |\n",
    "|:-:|:-:|:-:|:-:|:-:|:-:|\n",
    "| 56 |0.2   |0.333/0.333   |0.333/0.333   |0.333/0.340   |0.333/0.333   |\n",
    "| 56 |0.5   |0.333/0.333   |0.349/0.333   |0.333/0.333   |0.333/0.333   |\n",
    "| 300|0.2   |0.333/0.333   |0.333/0.333   |0.333/0.346   |0.338/0.326   |\n",
    "| 300|0.5   |0.338/0.333   |0.333/0.333   |0.366/0.340   |0.333/0.333   |\n",
    "| 500|0.2   |0.323/0.333   |0.333/0.333   |0.340/0.333   |0.333/0.333   |\n",
    "| 500|0.5   |0.333/0.333   |0.326/0.333   |0.333/0.340   |0.336/0.333   |"
   ]
  },
  {
   "cell_type": "markdown",
   "metadata": {},
   "source": [
    "Size of hidden layer: 10\n",
    "\n",
    "|Embedding size  |Dropout rate  | lr = 1e-6  | lr = 1e-7  | lr = 1e-8  | lr = 1e-9  |\n",
    "|:-:|:-:|:-:|:-:|:-:|:-:|\n",
    "| 56 |0.2   |0.357/0.340   |0.353/0.326   |0.333/0.333   |0.345/0.333   |\n",
    "| 56 |0.5   |0.333/0.333   |0.334/0.333   |0.333/0.333   |0.332/0.333   |\n",
    "| 300|0.2   |0.333/0.333   |0.333/0.333   |0.333/0.333   |0.343/0.334   |\n",
    "| 300|0.5   |0.338/0.333   |0.333/0.333   |0.382/0.333   |0.333/0.333   |\n",
    "| 500|0.2   |0.333/0.333   |0.343/0.326   |0.333/0.333   |0.333/0.333   |\n",
    "| 500|0.5   |0.333/0.333   |0.333/0.333   |0.326/0.343   |0.336/0.333   |"
   ]
  },
  {
   "cell_type": "markdown",
   "metadata": {},
   "source": [
    "As can be seen in the table above, the model have better performance with 10 hidden layer size, 300 embedding size, 0.5 droprate and 1e-8 learning rate, so I choose learning rate around 1e-8 for finding best hyperparameter."
   ]
  },
  {
   "cell_type": "markdown",
   "metadata": {},
   "source": [
    "# Use Pre-trained Embeddings\n",
    "\n",
    "Now re-train the network using GloVe pre-trained embeddings. You need to modify the `backward_pass` function above to stop computing gradients and updating weights of the embedding matrix.\n",
    "\n",
    "Use the function below to obtain the embedding martix for your vocabulary. Generally, that should work without any problem. If you get errors, you can modify it."
   ]
  },
  {
   "cell_type": "code",
   "execution_count": 28,
   "metadata": {
    "ExecuteTime": {
     "end_time": "2021-04-21T00:52:25.734209Z",
     "start_time": "2021-04-21T00:52:25.720173Z"
    },
    "scrolled": true
   },
   "outputs": [],
   "source": [
    "def get_glove_embeddings(f_zip, f_txt, word2id, emb_size=300):\n",
    "    \n",
    "    w_emb = np.zeros((len(word2id), emb_size))\n",
    "    \n",
    "    with zipfile.ZipFile(f_zip) as z:\n",
    "        with z.open(f_txt) as f:\n",
    "            for line in f:\n",
    "                line = line.decode('utf-8')\n",
    "                word = line.split()[0]\n",
    "                     \n",
    "                if word in vocab[0]:\n",
    "                    emb = np.array(line.strip('\\n').split()[1:]).astype(np.float32)\n",
    "                    w_emb[word2id[word]-1] +=emb\n",
    "    return w_emb"
   ]
  },
  {
   "cell_type": "code",
   "execution_count": 29,
   "metadata": {
    "ExecuteTime": {
     "end_time": "2021-04-21T00:53:55.263216Z",
     "start_time": "2021-04-21T00:52:25.736133Z"
    },
    "scrolled": true
   },
   "outputs": [],
   "source": [
    "w_glove = get_glove_embeddings(\"glove.840B.300d.zip\",\"glove.840B.300d.txt\",word2id, emb_size=300)"
   ]
  },
  {
   "cell_type": "code",
   "execution_count": 30,
   "metadata": {
    "ExecuteTime": {
     "end_time": "2021-04-21T00:53:55.279103Z",
     "start_time": "2021-04-21T00:53:55.263937Z"
    }
   },
   "outputs": [
    {
     "data": {
      "text/plain": [
       "(1000, 300)"
      ]
     },
     "execution_count": 30,
     "metadata": {},
     "output_type": "execute_result"
    }
   ],
   "source": [
    "w_glove.shape"
   ]
  },
  {
   "cell_type": "markdown",
   "metadata": {},
   "source": [
    "First, initialise the weights of your network using the `network_weights` function. Second, replace the weigths of the embedding matrix with `w_glove`. Finally, train the network by freezing the embedding weights: "
   ]
  },
  {
   "cell_type": "code",
   "execution_count": 31,
   "metadata": {
    "ExecuteTime": {
     "end_time": "2021-04-21T00:53:55.578303Z",
     "start_time": "2021-04-21T00:53:55.280099Z"
    }
   },
   "outputs": [],
   "source": [
    "# Generate indice matrix which width size equal the size of vocab(1000)\n",
    "X_train_1000 = docs_indices(train_set_vocab, 1000)\n",
    "X_val_1000 = docs_indices(dev_set_vocab, 1000)\n",
    "X_test_1000 = docs_indices(test_set_vocab, 1000)\n",
    "# Transform to array for np.dot\n",
    "X_train_1000_array = np.array(X_train_1000)\n",
    "X_val_1000_array = np.array(X_val_1000)\n",
    "X_test_1000_array = np.array(X_test_1000)\n",
    "# Get final embedding matrix for next two part.\n",
    "X_train_glove = np.dot(X_train_1000_array, w_glove).tolist()\n",
    "X_val_glove = np.dot(X_val_1000_array, w_glove).tolist()\n",
    "X_test_glove = np.dot(X_test_1000_array, w_glove).tolist()\n",
    "\n",
    "X_train_deep = X_train_glove.copy()\n",
    "X_val_deep = X_val_glove.copy()\n",
    "X_test_deep = X_test_glove.copy()"
   ]
  },
  {
   "cell_type": "code",
   "execution_count": 32,
   "metadata": {
    "ExecuteTime": {
     "end_time": "2021-04-21T00:54:57.141506Z",
     "start_time": "2021-04-21T00:53:55.579299Z"
    }
   },
   "outputs": [],
   "source": [
    "# Initialise the weights of the network\n",
    "Weights_glove = network_weights(embedding_dim=300, hidden_dim=[20], num_classes=3)\n",
    "W_final_glove, loss_tr_glove, dev_loss_glove = SGD(X_train_glove, Y_train,\n",
    "                                                 Weights_glove,\n",
    "                                                 X_dev=X_val_glove, \n",
    "                                                 Y_dev=Y_val,\n",
    "                                                 lr=8e-9, \n",
    "                                                 dropout=0.5,\n",
    "                                                 freeze_emb=True,\n",
    "                                                 tolerance=0.0001,\n",
    "                                                 epochs=10)"
   ]
  },
  {
   "cell_type": "code",
   "execution_count": 33,
   "metadata": {
    "ExecuteTime": {
     "end_time": "2021-04-21T00:54:57.265248Z",
     "start_time": "2021-04-21T00:54:57.142230Z"
    }
   },
   "outputs": [
    {
     "data": {
      "text/plain": [
       "<matplotlib.legend.Legend at 0x27998f2d3a0>"
      ]
     },
     "execution_count": 33,
     "metadata": {},
     "output_type": "execute_result"
    },
    {
     "data": {
      "image/png": "[encoded data removed]",
      "text/plain": [
       "<Figure size 432x288 with 1 Axes>"
      ]
     },
     "metadata": {
      "needs_background": "light"
     },
     "output_type": "display_data"
    }
   ],
   "source": [
    "x = np.array(range(1, len(loss_tr_glove)+1))\n",
    "plt.plot(x, loss_tr_glove, label='training loss')\n",
    "plt.plot(x, dev_loss_glove, label='validation loss')\n",
    "plt.title(\"Training and Validation History per Epoch\")\n",
    "plt.xlabel(\"epochs\")\n",
    "plt.ylabel(\"loss value\")\n",
    "plt.legend()"
   ]
  },
  {
   "cell_type": "markdown",
   "metadata": {},
   "source": [
    "As can be seen from the above figure, the degree of overfitting of the model is low, because the two curves overlap many times, and the difference between the train loss and the validation loss set is small. Meanwhile, the model underfits because the two curves are still decreasing without convergence."
   ]
  },
  {
   "cell_type": "code",
   "execution_count": 34,
   "metadata": {
    "ExecuteTime": {
     "end_time": "2021-04-21T00:54:57.914245Z",
     "start_time": "2021-04-21T00:54:57.267012Z"
    }
   },
   "outputs": [
    {
     "name": "stdout",
     "output_type": "stream",
     "text": [
      "Accuracy: 0.34\n",
      "Precision: 0.5006270378730875\n",
      "Recall: 0.34\n",
      "F1-Score: 0.18624924605291582\n"
     ]
    }
   ],
   "source": [
    "# Get predicted label weights of test set.\n",
    "y_test_glove_pred = []\n",
    "for i in range(len(X_test_glove)):\n",
    "    output_glove_test = forward_pass(X_test_glove[i], W_final_glove, dropout_rate=0.0)\n",
    "    y_test_glove_pred.append(output_glove_test['w'+str(len(W_final_glove)-1)])\n",
    "# Convert label weights to the real label class(1,2 or 3).\n",
    "y_test_glove_pred_int = []\n",
    "for label in y_test_glove_pred:\n",
    "    y_test_glove_pred_int.append(np.argmax(label)+1)\n",
    "    \n",
    "print('Accuracy:', accuracy_score(Y_test,y_test_glove_pred_int))\n",
    "print('Precision:', precision_score(Y_test,y_test_glove_pred_int,average='macro'))\n",
    "print('Recall:', recall_score(Y_test,y_test_glove_pred_int,average='macro'))\n",
    "print('F1-Score:', f1_score(Y_test,y_test_glove_pred_int,average='macro'))"
   ]
  },
  {
   "cell_type": "markdown",
   "metadata": {},
   "source": [
    "In my case, compared to the first model, the performance of the model with pre-trained embeddings has been improved a little."
   ]
  },
  {
   "cell_type": "markdown",
   "metadata": {},
   "source": [
    "### Discuss how did you choose model hyperparameters ? "
   ]
  },
  {
   "cell_type": "markdown",
   "metadata": {},
   "source": [
    "To find the best hyperparameters, I choose different dropout rate{0.2, 0.5}, learning rate{1e-6, 1e-7, 1e-8, 1e-9}(embedding size is fixed as 300) and dimension of hidden layer{50, 20}. For each model, I trained 10 epoches."
   ]
  },
  {
   "cell_type": "code",
   "execution_count": 35,
   "metadata": {
    "ExecuteTime": {
     "end_time": "2021-04-21T00:54:57.929219Z",
     "start_time": "2021-04-21T00:54:57.915243Z"
    }
   },
   "outputs": [],
   "source": [
    "# # Code for hyperparameters tunning.\n",
    "# # Choose hyperparameters.\n",
    "# emb_size = 300\n",
    "# learning_rate = 1e-6\n",
    "# dropout_rate = 0.5\n",
    "# # Initialse weight matrix (embedding matrix is already initialised).\n",
    "# Weights_glove_tune = network_weights(embedding_dim=emb_size, hidden_dim=[20], num_classes=3)\n",
    "# # Train model, each model has a 20 dimension hidden layer and trains 10 epoches.\n",
    "# W_glove_tune, loss_tr_tune, dev_loss_tune = SGD(X_train_glove, Y_train,\n",
    "#                                              Weights_glove_tune,\n",
    "#                                              X_dev=X_val_glove, \n",
    "#                                              Y_dev=Y_val,\n",
    "#                                              lr=learning_rate, \n",
    "#                                              dropout=dropout_rate,\n",
    "#                                              freeze_emb=True,\n",
    "#                                              tolerance=0.0001,\n",
    "#                                              epochs=10)\n",
    "\n",
    "# # Get predicted label weights of training and validation set.\n",
    "# y_train_glove_pred = []\n",
    "# y_val_glove_pred = []\n",
    "# for i in range(len(X_train_glove)):\n",
    "#     output_glove_train = forward_pass(X_train_glove[i], W_glove_tune, dropout_rate=0.0)\n",
    "#     y_train_glove_pred.append(output_glove_train['w'+str(len(W_glove_tune)-1)])\n",
    "# for i in range(len(X_val_glove)):\n",
    "#     output_glove_val = forward_pass(X_val_glove[i], W_glove_tune, dropout_rate=0.0)\n",
    "#     y_val_glove_pred.append(output_glove_val['w'+str(len(W_glove_tune)-1)])\n",
    "    \n",
    "# # Convert label weights to the real label class(1,2 or 3).\n",
    "# y_train_glove_pred_int = []\n",
    "# y_val_glove_pred_int = []\n",
    "# for label in y_train_glove_pred:\n",
    "#     y_train_glove_pred_int.append(np.argmax(label)+1)\n",
    "# for label in y_val_glove_pred:\n",
    "#     y_val_glove_pred_int.append(np.argmax(label)+1)\n",
    "    \n",
    "# # Compute F1-score of the model on training and validation set.\n",
    "# print('Accuracy on training set:', accuracy_score(Y_train,y_train_glove_pred_int))\n",
    "# print('Accuracy on validation set:', accuracy_score(Y_val,y_val_glove_pred_int))\n",
    "\n",
    "# del W_glove_tune\n",
    "# gc.collect()"
   ]
  },
  {
   "cell_type": "markdown",
   "metadata": {},
   "source": [
    "Note: The form of the result is: \"training accuracy/validation accuracy\". The final learning rate value of the model is obtained by more attempts. The 4 learning rate values in the following table are just \"boundaries\"."
   ]
  },
  {
   "cell_type": "markdown",
   "metadata": {},
   "source": [
    "Size of hidden layer: 50\n",
    "\n",
    "|Dropout rate  | lr = 1e-6  | lr = 1e-7  | lr = 1e-8  | lr = 1e-9  |\n",
    "|:-:|:-:|:-:|:-:|:-:|\n",
    "|0.2   |0.333/0.333   |0.334/0.333   |0.333/0.333   |0.334/0.333   |\n",
    "|0.5   |0.326/0.333   |0.334/0.333   |0.334/0.333   |0.333/0.333   |"
   ]
  },
  {
   "cell_type": "markdown",
   "metadata": {},
   "source": [
    "Size of hidden layer: 20\n",
    "\n",
    "|Dropout rate  | lr = 1e-6  | lr = 1e-7  | lr = 1e-8  | lr = 1e-9  |\n",
    "|:-:|:-:|:-:|:-:|:-:|\n",
    "|0.2   |0.333/0.333   |0.333/0.333   |0.343/0.333   |0.333/0.333   |\n",
    "|0.5   |0.333/0.333   |0.333/0.340   |0.354/0.333   |0.333/0.333   |"
   ]
  },
  {
   "cell_type": "markdown",
   "metadata": {
    "scrolled": true
   },
   "source": [
    "As can be seen in the table above, the model have better performance with 20 hidden layer size, 0.5 droprate and 1e-8 learning rate, so I choose learning rate around 1e-8 for finding best hyperparameter."
   ]
  },
  {
   "cell_type": "markdown",
   "metadata": {},
   "source": [
    "# Extend to support deeper architectures \n",
    "\n",
    "Extend the network to support back-propagation for more hidden layers. You need to modify the `backward_pass` function above to compute gradients and update the weights between intermediate hidden layers. Finally, train and evaluate a network with a deeper architecture. Do deeper architectures increase performance?"
   ]
  },
  {
   "cell_type": "markdown",
   "metadata": {
    "ExecuteTime": {
     "end_time": "2020-04-02T14:58:51.764619Z",
     "start_time": "2020-04-02T14:58:47.483690Z"
    },
    "scrolled": true
   },
   "source": [
    "As the teacher mentioned in the group chat, I use pre-trained embeddings(GloVe) to train this model (embedding size is fixed as 300). I use two hidden layers in network. The 'backward_pass' function already support multi-layers network so I do not need to create a new function. "
   ]
  },
  {
   "cell_type": "code",
   "execution_count": 36,
   "metadata": {
    "ExecuteTime": {
     "end_time": "2021-04-21T00:57:31.952066Z",
     "start_time": "2021-04-21T00:54:57.931216Z"
    }
   },
   "outputs": [],
   "source": [
    "# Initialise the weights of the network.\n",
    "Weights_deep = network_weights(embedding_dim=300, hidden_dim=[50, 10], num_classes=3)\n",
    "W_final_deep, loss_tr_deep, dev_loss_deep = SGD(X_train_deep, Y_train,\n",
    "                                                 Weights_deep,\n",
    "                                                 X_dev=X_val_deep, \n",
    "                                                 Y_dev=Y_val,\n",
    "                                                 lr=8e-9, \n",
    "                                                 dropout=0.5,\n",
    "                                                 freeze_emb=True,\n",
    "                                                 tolerance=0.0001,\n",
    "                                                 epochs=10)"
   ]
  },
  {
   "cell_type": "code",
   "execution_count": 37,
   "metadata": {
    "ExecuteTime": {
     "end_time": "2021-04-21T00:57:32.077767Z",
     "start_time": "2021-04-21T00:57:31.953083Z"
    },
    "scrolled": true
   },
   "outputs": [
    {
     "data": {
      "text/plain": [
       "<matplotlib.legend.Legend at 0x2799d2d3ca0>"
      ]
     },
     "execution_count": 37,
     "metadata": {},
     "output_type": "execute_result"
    },
    {
     "data": {
      "image/png": "[encoded data removed]",
      "text/plain": [
       "<Figure size 432x288 with 1 Axes>"
      ]
     },
     "metadata": {
      "needs_background": "light"
     },
     "output_type": "display_data"
    }
   ],
   "source": [
    "x = np.array(range(1, len(loss_tr_deep)+1))\n",
    "plt.plot(x, loss_tr_deep, label='training loss')\n",
    "plt.plot(x, dev_loss_deep, label='validation loss')\n",
    "plt.title(\"Training and Validation History per Epoch\")\n",
    "plt.xlabel(\"epochs\")\n",
    "plt.ylabel(\"loss value\")\n",
    "plt.legend()"
   ]
  },
  {
   "cell_type": "markdown",
   "metadata": {},
   "source": [
    "As can be seen from the above figure, the degree of overfitting of the model is low, because the two curves overlap many times, and the difference between the train loss and the validation loss set is small. Meanwhile, the model underfits because the two curves are still decreasing without convergence."
   ]
  },
  {
   "cell_type": "code",
   "execution_count": 38,
   "metadata": {
    "ExecuteTime": {
     "end_time": "2021-04-21T00:57:33.684499Z",
     "start_time": "2021-04-21T00:57:32.078772Z"
    }
   },
   "outputs": [
    {
     "name": "stdout",
     "output_type": "stream",
     "text": [
      "Accuracy: 0.33444444444444443\n",
      "Precision: 0.2780252412769117\n",
      "Recall: 0.3344444444444445\n",
      "F1-Score: 0.1691524136990643\n"
     ]
    },
    {
     "name": "stderr",
     "output_type": "stream",
     "text": [
      "D:\\Anaconda\\lib\\site-packages\\sklearn\\metrics\\_classification.py:1221: UndefinedMetricWarning: Precision is ill-defined and being set to 0.0 in labels with no predicted samples. Use `zero_division` parameter to control this behavior.\n",
      "  _warn_prf(average, modifier, msg_start, len(result))\n"
     ]
    }
   ],
   "source": [
    "# Get predicted label weights of test set.\n",
    "y_test_deep_pred = []\n",
    "for i in range(len(X_test_deep)):\n",
    "    output_deep_test = forward_pass(X_test_deep[i], W_final_deep, dropout_rate=0.0)\n",
    "    y_test_deep_pred.append(output_deep_test['w'+str(len(W_final_deep)-1)])\n",
    "# Convert label weights to the real label class(1,2 or 3).\n",
    "y_test_deep_pred_int = []\n",
    "for label in y_test_deep_pred:\n",
    "    y_test_deep_pred_int.append(np.argmax(label)+1)\n",
    "    \n",
    "print('Accuracy:', accuracy_score(Y_test,y_test_deep_pred_int))\n",
    "print('Precision:', precision_score(Y_test,y_test_deep_pred_int,average='macro'))\n",
    "print('Recall:', recall_score(Y_test,y_test_deep_pred_int,average='macro'))\n",
    "print('F1-Score:', f1_score(Y_test,y_test_deep_pred_int,average='macro'))"
   ]
  },
  {
   "cell_type": "markdown",
   "metadata": {},
   "source": [
    "Compared to the above model (pre-trained embeddings with one hidden layer), the performance of the model with deeper architecture has dropped a little. So I can say that in my case, the deeper network did not have positive impact on performance."
   ]
  },
  {
   "cell_type": "markdown",
   "metadata": {},
   "source": [
    "### Discuss how did you choose model hyperparameters ? "
   ]
  },
  {
   "cell_type": "markdown",
   "metadata": {},
   "source": [
    "To find the best hyperparameters, I choose different dropout rate{0.2, 0.5},learning rate{1e-6, 1e-7, 1e-8} and hidden layer dimension {[100, 20], [100, 10], [50, 20], [50, 10]}.  For each model, I trained 10 epoches."
   ]
  },
  {
   "cell_type": "code",
   "execution_count": 39,
   "metadata": {
    "ExecuteTime": {
     "end_time": "2021-04-21T00:57:33.699852Z",
     "start_time": "2021-04-21T00:57:33.685512Z"
    }
   },
   "outputs": [],
   "source": [
    "# # Code for hyperparameters tunning.\n",
    "# # Choose hyperparameters.\n",
    "# emb_size = 300\n",
    "# learning_rate = 1e-8\n",
    "# dropout_rate = 0.5\n",
    "# # Initialse weight matrix (embedding matrix is already initialised).\n",
    "# Weights_deep_tune = network_weights(embedding_dim=emb_size, hidden_dim=[50, 10], num_classes=3)\n",
    "# # Train model, each model has a 20 dimension hidden layer and trains 10 epoches.\n",
    "# W_deep_tune, loss_tr_deep_tune, dev_loss_deep_tune = SGD(X_train_deep, Y_train,\n",
    "#                                                          Weights_deep_tune,\n",
    "#                                                          X_dev=X_val_deep, \n",
    "#                                                          Y_dev=Y_val,\n",
    "#                                                          lr=learning_rate, \n",
    "#                                                          dropout=dropout_rate,\n",
    "#                                                          freeze_emb=True,\n",
    "#                                                          tolerance=0.0001,\n",
    "#                                                          epochs=10)\n",
    "\n",
    "# # Get predicted label weights of training and validation set.\n",
    "# y_train_deep_pred = []\n",
    "# y_val_deep_pred = []\n",
    "# for i in range(len(X_train_deep)):\n",
    "#     output_deep_train = forward_pass(X_train_deep[i], W_deep_tune, dropout_rate=0.0)\n",
    "#     y_train_deep_pred.append(output_deep_train['w'+str(len(W_deep_tune)-1)])\n",
    "# for i in range(len(X_val_deep)):\n",
    "#     output_deep_val = forward_pass(X_val_deep[i], W_deep_tune, dropout_rate=0.0)\n",
    "#     y_val_deep_pred.append(output_deep_val['w'+str(len(W_deep_tune)-1)])\n",
    "    \n",
    "# # Convert label weights to the real label class(1,2 or 3).\n",
    "# y_train_deep_pred_int = []\n",
    "# y_val_deep_pred_int = []\n",
    "# for label in y_train_deep_pred:\n",
    "#     y_train_deep_pred_int.append(np.argmax(label)+1)\n",
    "# for label in y_val_deep_pred:\n",
    "#     y_val_deep_pred_int.append(np.argmax(label)+1)\n",
    "    \n",
    "# # Compute F1-score of the model on training and validation set.\n",
    "# print('Accuracy on training set:', accuracy_score(Y_train,y_train_deep_pred_int))\n",
    "# print('Accuracy on validation set:', accuracy_score(Y_val,y_val_deep_pred_int))\n",
    "\n",
    "# del W_deep_tune\n",
    "# gc.collect()"
   ]
  },
  {
   "cell_type": "markdown",
   "metadata": {},
   "source": [
    "Note: The form of the result is: \"training accuracy/validation accuracy\". The final learning rate value of the model is obtained by more attempts. The 3 learning rate values in the following table are just \"boundaries\"."
   ]
  },
  {
   "cell_type": "markdown",
   "metadata": {},
   "source": [
    "Size of hidden layer: [100, 20]\n",
    "\n",
    "|Dropout rate  | lr = 1e-6  | lr = 1e-7  | lr = 1e-8  |\n",
    "|:-:|:-:|:-:|:-:|\n",
    "|0.2   |0.333/0.333   |0.333/0.333   |0.334/0.333   |\n",
    "|0.5   |0.333/0.333   |0.334/0.333   |0.333/0.333   |"
   ]
  },
  {
   "cell_type": "markdown",
   "metadata": {},
   "source": [
    "Size of hidden layer: [100, 10]\n",
    "\n",
    "|Dropout rate  | lr = 1e-6  | lr = 1e-7  | lr = 1e-8  |\n",
    "|:-:|:-:|:-:|:-:|\n",
    "|0.2   |0.334/0.333   |0.333/0.333   |0.334/0.333   |\n",
    "|0.5   |0.326/0.333   |0.333/0.334   |0.333/0.333   |"
   ]
  },
  {
   "cell_type": "markdown",
   "metadata": {},
   "source": [
    "Size of hidden layer: [50, 20]\n",
    "\n",
    "|Dropout rate  | lr = 1e-6  | lr = 1e-7  | lr = 1e-8  |\n",
    "|:-:|:-:|:-:|:-:|\n",
    "|0.2   |0.333/0.334   |0.326/0.333   |0.333/0.333   |\n",
    "|0.5   |0.333/0.333   |0.333/0.340   |0.333/0.333   |"
   ]
  },
  {
   "cell_type": "markdown",
   "metadata": {},
   "source": [
    "Size of hidden layer: [50, 10]\n",
    "\n",
    "|Dropout rate  | lr = 1e-6  | lr = 1e-7  | lr = 1e-8  |\n",
    "|:-:|:-:|:-:|:-:|\n",
    "|0.2   |0.326/0.333   |0.340/0.333   |0.343/0.333   |\n",
    "|0.5   |0.333/0.333   |0.333/0.333   |0.363/0.340   |"
   ]
  },
  {
   "cell_type": "markdown",
   "metadata": {},
   "source": [
    "As can be seen in the table above, the model have better performance with [50, 10] hidden layers size, 0.5 droprate and 1e-8 learning rate, so I choose learning rate around 1e-8 for finding best hyperparameter."
   ]
  },
  {
   "cell_type": "markdown",
   "metadata": {},
   "source": [
    "## Full Results\n",
    "\n",
    "Add your final results here:\n",
    "\n",
    "| Model | Precision  | Recall  | F1-Score  | Accuracy\n",
    "|:-:|:-:|:-:|:-:|:-:|\n",
    "| Average Embedding  |0.262   |0.335   |0.177   |0.335   |\n",
    "| Average Embedding (Pre-trained)  |0.500   |0.340   |0.186   |0.340   |\n",
    "| Average Embedding (Pre-trained) + X hidden layers    |0.278   |0.334   |0.169   |0.334   |\n",
    "\n",
    "\n",
    "Please discuss why your best performing model is better than the rest."
   ]
  },
  {
   "cell_type": "markdown",
   "metadata": {
    "scrolled": true
   },
   "source": [
    "In my case, the Average Embedding (Pre-trained) model has the best performance. And I think the reason is that:\n",
    "\n",
    "1. Compared to average embedding, Pre-train embedding matrix is carried out on a huge text corpus and can learn general language representations, so it can provide better model initialization, which usually leads to better generalization performance. At the same time, it is regarded as a kind of regularization to avoid overfitting to small data.\n",
    "\n",
    "2. With regard to the model with deeper architexture, it is generally believed that increasing the number of hidden layers can reduce network errors and improve accuracy, but this will also complicate the network, thereby increasing the training time of the network and the tendency of \"overfitting\". In my case, the model with one hidden layer have better performance."
   ]
  }
 ],
 "metadata": {
  "kernelspec": {
   "display_name": "Python 3",
   "language": "python",
   "name": "python3"
  },
  "language_info": {
   "codemirror_mode": {
    "name": "ipython",
    "version": 3
   },
   "file_extension": ".py",
   "mimetype": "text/x-python",
   "name": "python",
   "nbconvert_exporter": "python",
   "pygments_lexer": "ipython3",
   "version": "3.8.3"
  }
 },
 "nbformat": 4,
 "nbformat_minor": 2
}
