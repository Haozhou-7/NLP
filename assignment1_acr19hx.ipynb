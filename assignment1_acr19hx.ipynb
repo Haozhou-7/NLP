{
 "cells": [
  {
   "cell_type": "markdown",
   "metadata": {},
   "source": [
    "# [COM6513] Assignment 1: Text Classification with Logistic Regression\n",
    "\n",
    "### Instructor: Nikos Aletras\n",
    "\n",
    "\n",
    "The goal of this assignment is to develop and test two text classification systems: \n",
    "\n",
    "- **Task 1:** sentiment analysis, in particular to predict the sentiment of movie reviews, i.e. positive or negative (binary classification).\n",
    "- **Task 2:** topic classification, to predict whether a news article is about International issues, Sports or Business (multi-class classification).\n",
    "\n",
    "\n",
    "For that purpose, you will implement:\n",
    "\n",
    "\n",
    "- Text processing methods for extracting Bag-Of-Word features, using \n",
    "    - n-grams (BOW), i.e. unigrams, bigrams and trigrams to obtain vector representations of documents where n=1,2,3 respectively. Two vector weighting schemes should be tested: (1) raw frequencies (**3 marks**); (2) tf.idf (**1 mark**). \n",
    "    - character n-grams (BOCN). A character n-gram is a contiguous sequence of characters given a word, e.g. for n=2, 'coffee' is split into {'co', 'of', 'ff', 'fe', 'ee'}. Two vector weighting schemes should be tested: (1) raw frequencies (**3 marks**); (2) tf.idf (**1 mark**). **Tip: Note the large vocabulary size!** \n",
    "    - a combination of the two vector spaces (n-grams and character n-grams) choosing your best performing wighting respectively (i.e. raw or tfidf). (**3 marks**) **Tip: you should merge the two representations**\n",
    "\n",
    "\n",
    "\n",
    "- Binary Logistic Regression (LR) classifiers for Task 1 that will be able to accurately classify movie reviews trained with: \n",
    "    - (1) BOW-count (raw frequencies) \n",
    "    - (2) BOW-tfidf (tf.idf weighted)\n",
    "    - (3) BOCN-count\n",
    "    - (4) BOCN-tfidf\n",
    "    - (5) BOW+BOCN (best performing weighting; raw or tfidf)\n",
    "\n",
    "\n",
    "\n",
    "- Multiclass Logistic Regression classifiers for Task 2 that will be able to accurately classify news articles trained with:\n",
    "    - (1) BOW-count (raw frequencies) \n",
    "    - (2) BOW-tfidf (tf.idf weighted)\n",
    "    - (3) BOCN-count\n",
    "    - (4) BOCN-tfidf\n",
    "    - (5) BOW+BOCN (best performing weighting; raw or tfidf)\n",
    "\n",
    "\n",
    "\n",
    "- The Stochastic Gradient Descent (SGD) algorithm to estimate the parameters of your Logistic Regression models. Your SGD algorithm should:\n",
    "    - Minimise the Binary Cross-entropy loss function for Task 1 (**3 marks**)\n",
    "    - Minimise the Categorical Cross-entropy loss function for Task 2 (**3 marks**)\n",
    "    - Use L2 regularisation (**2 marks**)\n",
    "    - Perform multiple passes (epochs) over the training data (**1 mark**)\n",
    "    - Randomise the order of training data after each pass (**1 mark**)\n",
    "    - Stop training if the difference between the current and previous development loss is smaller than a threshold (**1 mark**)\n",
    "    - After each epoch print the training and development loss (**1 mark**)\n",
    "\n",
    "\n",
    "\n",
    "- Discuss how did you choose hyperparameters (e.g. learning rate and regularisation strength) for each LR model? You should use a table showing model performance using different set of hyperparameter values. (**5 marks; 2.5 for each task**). **Tip: Instead of using all possible combinations, you could perform a random sampling of combinations.**\n",
    "\n",
    "\n",
    "\n",
    "- After training each LR model, plot the learning process (i.e. training and validation loss in each epoch) using a line plot. Does your model underfit, overfit or is it about right? Explain why. (**2 marks**). \n",
    "\n",
    "\n",
    "\n",
    "- Identify and show the most important features (model interpretability) for each class (i.e. top-10 most positive and top-10 negative weights). Give the top 10 for each class and comment on whether they make sense (if they don't you might have a bug!).  If you were to apply the classifier into a different domain such laptop reviews or restaurant reviews, do you think these features would generalise well? Can you propose what features the classifier could pick up as important in the new domain? (**3 marks; 1.5 for each task**)\n",
    "\n",
    "\n",
    "\n",
    "- Provide well documented and commented code describing all of your choices. In general, you are free to make decisions about text processing (e.g. punctuation, numbers, vocabulary size) and hyperparameter values. We expect to see justifications and discussion for all of your choices (**5 marks**). \n",
    "\n",
    "\n",
    "\n",
    "- Provide efficient solutions by using Numpy arrays when possible. Executing the whole notebook with your code should not take more than 10 minutes on a any standard computer (e.g. Intel Core i5 CPU, 8 or 16GB RAM) excluding hyperparameter tuning runs. You can find tips in [Intro to Python for NLP](https://sheffieldnlp.github.io/com6513/assets/labs/a0_python_intro.pdf) (**2 marks**). \n",
    "\n",
    "\n",
    "\n",
    "\n",
    "\n",
    "\n",
    "\n",
    "\n",
    "### Data - Task 1 \n",
    "\n",
    "The data you will use for Task 1 are taken from here: [http://www.cs.cornell.edu/people/pabo/movie-review-data/](http://www.cs.cornell.edu/people/pabo/movie-review-data/) and you can find it in the `./data_sentiment` folder in CSV format:\n",
    "\n",
    "- `data_sentiment/train.csv`: contains 1,400 reviews, 700 positive (label: 1) and 700 negative (label: 0) to be used for training.\n",
    "- `data_sentiment/dev.csv`: contains 200 reviews, 100 positive and 100 negative to be used for hyperparameter selection and monitoring the training process.\n",
    "- `data_sentiment/test.csv`: contains 400 reviews, 200 positive and 200 negative to be used for testing.\n",
    "\n",
    "### Data - Task 2\n",
    "\n",
    "The data you will use for Task 2 is a subset of the [AG News Corpus](http://groups.di.unipi.it/~gulli/AG_corpus_of_news_articles.html) and you can find it in the `./data_topic` folder in CSV format:\n",
    "\n",
    "- `data_topic/train.csv`: contains 2,400 news, 800 for each class to be used for training.\n",
    "- `data_topic/dev.csv`: contains 150 news articles, 50 for each class to be used for hyperparameter selection and monitoring the training process.\n",
    "- `data_topic/test.csv`: contains 900 news articles, 300 for each class to be used for testing.\n",
    "\n",
    "\n",
    "### Submission Instructions\n",
    "\n",
    "You should submit a Jupyter Notebook file (assignment1.ipynb) and an exported PDF version (you can do it from Jupyter: `File->Download as->PDF via Latex` or you can print it as PDF using your browser).\n",
    "\n",
    "You are advised to follow the code structure given in this notebook by completing all given funtions. You can also write any auxilliary/helper functions (and arguments for the functions) that you might need but note that you can provide a full solution without any such functions. Similarly, you can just use only the packages imported below but you are free to use any functionality from the [Python Standard Library](https://docs.python.org/2/library/index.html), NumPy, SciPy (excluding built-in softmax funtcions) and Pandas. You are not allowed to use any third-party library such as Scikit-learn (apart from metric functions already provided), NLTK, Spacy, Keras etc.. You should mention if you've used Windows to write and test your code because we mostly use Unix based machines for marking (e.g. Ubuntu, MacOS). \n",
    "\n",
    "There is no single correct answer on what your accuracy should be, but correct implementations usually achieve F1-scores around 80\\% or higher. The quality of the analysis of the results is as important as the accuracy itself. \n",
    "\n",
    "This assignment will be marked out of 40. It is worth 40\\% of your final grade in the module.\n",
    "\n",
    "The deadline for this assignment is **23:59 on Fri, 25 Feb 2021** and it needs to be submitted via Blackboard. Standard departmental penalties for lateness will be applied. We use a range of strategies to **detect [unfair means](https://www.sheffield.ac.uk/ssid/unfair-means/index)**, including Turnitin which helps detect plagiarism. Use of unfair means would result in getting a failing grade.\n",
    "\n"
   ]
  },
  {
   "cell_type": "code",
   "execution_count": 1,
   "metadata": {
    "ExecuteTime": {
     "end_time": "2021-02-27T13:09:16.006822Z",
     "start_time": "2021-02-27T13:09:14.118383Z"
    }
   },
   "outputs": [],
   "source": [
    "import pandas as pd\n",
    "import numpy as np\n",
    "from collections import Counter\n",
    "import re\n",
    "import matplotlib.pyplot as plt\n",
    "from sklearn.metrics import accuracy_score, precision_score, recall_score, f1_score\n",
    "import random\n",
    "import string\n",
    "# For deepcopy of dataframe.\n",
    "import copy\n",
    "# fixing random seed for reproducibility.\n",
    "np.random.seed(729)"
   ]
  },
  {
   "cell_type": "markdown",
   "metadata": {},
   "source": [
    "#### Note 1: \n",
    "I have used Windows to write and test my code. (Python 3.8.3)"
   ]
  },
  {
   "cell_type": "markdown",
   "metadata": {},
   "source": [
    "#### Note 2: \n",
    "The performance of the models is not satisfactory. I think it has something to do with the problematic text processing, because I got approximate results when I used a third-party library sklearn for all 10 models' training. I tried to figure it out but it seems that I need better advice."
   ]
  },
  {
   "cell_type": "markdown",
   "metadata": {},
   "source": [
    "## Task 1: Binary classification"
   ]
  },
  {
   "cell_type": "markdown",
   "metadata": {},
   "source": [
    "## Load Raw texts and labels into arrays\n",
    "\n",
    "First, you need to load the training, development and test sets from their corresponding CSV files (tip: you can use Pandas dataframes)."
   ]
  },
  {
   "cell_type": "code",
   "execution_count": 2,
   "metadata": {
    "ExecuteTime": {
     "end_time": "2021-02-27T13:09:16.122251Z",
     "start_time": "2021-02-27T13:09:16.007298Z"
    }
   },
   "outputs": [],
   "source": [
    "# For task1\n",
    "df1 = pd.read_csv('./data_sentiment/train.csv', encoding = 'UTF-8', header = None)\n",
    "df2 = pd.read_csv('./data_sentiment/dev.csv', encoding = 'UTF-8', header = None)\n",
    "df3 = pd.read_csv('./data_sentiment/test.csv', encoding = 'UTF-8', header = None)"
   ]
  },
  {
   "cell_type": "markdown",
   "metadata": {},
   "source": [
    "If you use Pandas you can see a sample of the data."
   ]
  },
  {
   "cell_type": "code",
   "execution_count": 3,
   "metadata": {
    "ExecuteTime": {
     "end_time": "2021-02-27T13:09:16.136069Z",
     "start_time": "2021-02-27T13:09:16.124102Z"
    },
    "scrolled": false
   },
   "outputs": [
    {
     "data": {
      "text/html": [
       "<div>\n",
       "<style scoped>\n",
       "    .dataframe tbody tr th:only-of-type {\n",
       "        vertical-align: middle;\n",
       "    }\n",
       "\n",
       "    .dataframe tbody tr th {\n",
       "        vertical-align: top;\n",
       "    }\n",
       "\n",
       "    .dataframe thead th {\n",
       "        text-align: right;\n",
       "    }\n",
       "</style>\n",
       "<table border=\"1\" class=\"dataframe\">\n",
       "  <thead>\n",
       "    <tr style=\"text-align: right;\">\n",
       "      <th></th>\n",
       "      <th>0</th>\n",
       "      <th>1</th>\n",
       "    </tr>\n",
       "  </thead>\n",
       "  <tbody>\n",
       "    <tr>\n",
       "      <th>0</th>\n",
       "      <td>note : some may consider portions of the follo...</td>\n",
       "      <td>1</td>\n",
       "    </tr>\n",
       "    <tr>\n",
       "      <th>1</th>\n",
       "      <td>note : some may consider portions of the follo...</td>\n",
       "      <td>1</td>\n",
       "    </tr>\n",
       "    <tr>\n",
       "      <th>2</th>\n",
       "      <td>every once in a while you see a film that is s...</td>\n",
       "      <td>1</td>\n",
       "    </tr>\n",
       "    <tr>\n",
       "      <th>3</th>\n",
       "      <td>when i was growing up in 1970s , boys in my sc...</td>\n",
       "      <td>1</td>\n",
       "    </tr>\n",
       "    <tr>\n",
       "      <th>4</th>\n",
       "      <td>the muppet movie is the first , and the best m...</td>\n",
       "      <td>1</td>\n",
       "    </tr>\n",
       "  </tbody>\n",
       "</table>\n",
       "</div>"
      ],
      "text/plain": [
       "                                                   0  1\n",
       "0  note : some may consider portions of the follo...  1\n",
       "1  note : some may consider portions of the follo...  1\n",
       "2  every once in a while you see a film that is s...  1\n",
       "3  when i was growing up in 1970s , boys in my sc...  1\n",
       "4  the muppet movie is the first , and the best m...  1"
      ]
     },
     "execution_count": 3,
     "metadata": {},
     "output_type": "execute_result"
    }
   ],
   "source": [
    "df1.head()"
   ]
  },
  {
   "cell_type": "markdown",
   "metadata": {},
   "source": [
    "The next step is to put the raw texts into Python lists and their corresponding labels into NumPy arrays:\n"
   ]
  },
  {
   "cell_type": "code",
   "execution_count": 4,
   "metadata": {
    "ExecuteTime": {
     "end_time": "2021-02-27T13:09:16.146043Z",
     "start_time": "2021-02-27T13:09:16.137067Z"
    }
   },
   "outputs": [],
   "source": [
    "# For task1\n",
    "sa_train_attri = df1.iloc[:, 0].tolist()\n",
    "sa_train_label = df1.iloc[:, 1]\n",
    "sa_dev_attri = df2.iloc[:, 0].tolist()\n",
    "sa_dev_label = df2.iloc[:, 1]\n",
    "sa_test_attri = df3.iloc[:, 0].tolist()\n",
    "sa_test_label = df3.iloc[:, 1]"
   ]
  },
  {
   "cell_type": "markdown",
   "metadata": {},
   "source": [
    "# Vector Representations of Text \n",
    "\n",
    "\n",
    "To train and test Logisitc Regression models, you first need to obtain vector representations for all documents given a vocabulary of features (unigrams, bigrams, trigrams).\n",
    "\n",
    "\n",
    "## Text Pre-Processing Pipeline\n",
    "\n",
    "To obtain a vocabulary of features, you should: \n",
    "- tokenise all texts into a list of unigrams (tip: using a regular expression) \n",
    "- remove stop words (using the one provided or one of your preference) \n",
    "- compute bigrams, trigrams given the remaining unigrams (or character ngrams from the unigrams)\n",
    "- remove ngrams appearing in less than K documents\n",
    "- use the remaining to create a vocabulary of unigrams, bigrams and trigrams (or character n-grams). You can keep top N if you encounter memory issues.\n"
   ]
  },
  {
   "cell_type": "code",
   "execution_count": 5,
   "metadata": {
    "ExecuteTime": {
     "end_time": "2021-02-27T13:09:16.156015Z",
     "start_time": "2021-02-27T13:09:16.147041Z"
    }
   },
   "outputs": [],
   "source": [
    "stop_words = ['a','in','on','at','and','or', \n",
    "              'to', 'the', 'of', 'an', 'by', \n",
    "              'as', 'is', 'was', 'were', 'been', 'be', \n",
    "              'are','for', 'this', 'that', 'these', 'those', 'you', 'i',\n",
    "             'it', 'he', 'she', 'we', 'they' 'will', 'have', 'has',\n",
    "              'do', 'did', 'can', 'could', 'who', 'which', 'what', \n",
    "             'his', 'her', 'they', 'them', 'from', 'with', 'its']"
   ]
  },
  {
   "cell_type": "markdown",
   "metadata": {},
   "source": [
    "### N-gram extraction from a document\n",
    "\n",
    "You first need to implement the `extract_ngrams` function. It takes as input:\n",
    "- `x_raw`: a string corresponding to the raw text of a document\n",
    "- `ngram_range`: a tuple of two integers denoting the type of ngrams you want to extract, e.g. (1,2) denotes extracting unigrams and bigrams.\n",
    "- `token_pattern`: a string to be used within a regular expression to extract all tokens. Note that data is already tokenised so you could opt for a simple white space tokenisation.\n",
    "- `stop_words`: a list of stop words\n",
    "- `vocab`: a given vocabulary. It should be used to extract specific features.\n",
    "- `char_ngrams`: boolean. If true the function extracts character n-grams\n",
    "\n",
    "and returns:\n",
    "\n",
    "- `x': a list of all extracted features.\n",
    "\n",
    "See the examples below to see how this function should work."
   ]
  },
  {
   "cell_type": "code",
   "execution_count": 6,
   "metadata": {
    "ExecuteTime": {
     "end_time": "2021-02-27T13:09:16.165989Z",
     "start_time": "2021-02-27T13:09:16.157013Z"
    }
   },
   "outputs": [],
   "source": [
    "# Some useful functions.\n",
    "# Remove stopwords.\n",
    "def remove_stopwords(sentence):\n",
    "    tokens = sentence.split(\" \")\n",
    "    tokens_filtered= [word for word in tokens if not word in stop_words]\n",
    "    return (\" \").join(tokens_filtered)\n",
    "\n",
    "# Generate any ngrams.\n",
    "def ngrams(s, n = 1, i = 0):\n",
    "    while len(s[i:i + n]) == n:\n",
    "#         yield str(s[i:i + n])\n",
    "        yield tuple(s[i:i + n])\n",
    "        i += 1\n",
    "# Generate any character ngrams.\n",
    "def cngrams(s, n = 2, i = 0):\n",
    "    aa = [s[i:i+n] for i in range(len(s)-n+1)]\n",
    "    return list(aa)\n",
    "\n",
    "def data_clean(x):\n",
    "    input_str = x\n",
    "    result = remove_stopwords(input_str)\n",
    "    # Drop numbers.\n",
    "    result = re.sub(r'\\d+', ' ', str(result))\n",
    "    # Drop punctuation.\n",
    "    result = result.translate(str.maketrans('', '', string.punctuation))\n",
    "    # Drop extra space.\n",
    "    result = ' '.join(result.split())\n",
    "    return result "
   ]
  },
  {
   "cell_type": "code",
   "execution_count": 7,
   "metadata": {
    "ExecuteTime": {
     "end_time": "2021-02-27T13:09:16.220843Z",
     "start_time": "2021-02-27T13:09:16.166986Z"
    }
   },
   "outputs": [],
   "source": [
    "def extract_ngrams(x_raw, ngram_range=(1,3), token_pattern=r'', \n",
    "                   stop_words=[], vocab=set(), char_ngrams=False):\n",
    "    x = []\n",
    "    list_Char_Ngram = []\n",
    "    a = data_clean(x_raw)\n",
    "    unigram = ngrams(a.split(), n = 1)\n",
    "    if char_ngrams == False:\n",
    "        bigram = ngrams(a.split(), n = 2)\n",
    "        trigram = ngrams(a.split(), n = 3)\n",
    "        # unigram.\n",
    "        if ngram_range == (1,1):\n",
    "            x.append(list(unigram))      \n",
    "        # unigram, bigram.\n",
    "        elif ngram_range == (1,2):\n",
    "            x.append(list(unigram))\n",
    "            x.append(list(bigram))\n",
    "        # unigram, bigram, trigram.\n",
    "        elif ngram_range == (1,3):\n",
    "            x.append(list(unigram))\n",
    "            x.append(list(bigram))\n",
    "            x.append(list(trigram))\n",
    "        # bigram.\n",
    "        elif ngram_range == (2,2):\n",
    "            x.append(list(bigram))\n",
    "        # bigram, trigram.\n",
    "        elif ngram_range == (2,3):\n",
    "            x.append(list(bigram))\n",
    "            x.append(list(trigram))          \n",
    "        # trigram.\n",
    "        elif ngram_range == (3,3):\n",
    "            x.append(list(trigram))\n",
    "        else:\n",
    "            print(\"Error, please check the 'ngram_range' parameter.\")\n",
    "        x = [item for sublist in x for item in sublist]\n",
    "    if char_ngrams == True:    \n",
    "        # character bigrams.\n",
    "        if ngram_range == (2,2):\n",
    "            for word in a.split():\n",
    "                list_Char_Ngram.append(cngrams(word, n = 2))\n",
    "        # character bigrams, trigrams.\n",
    "        elif ngram_range == (2,3):\n",
    "            for word in a.split():\n",
    "                list_Char_Ngram.append(cngrams(word, n = 2))\n",
    "            for word in a.split():\n",
    "                list_Char_Ngram.append(cngrams(word, n = 3))\n",
    "        # character bigrams, trigrams, 4-grams.\n",
    "        elif ngram_range == (2,4):\n",
    "            for word in a.split():\n",
    "                list_Char_Ngram.append(cngrams(word, n = 2))\n",
    "            for word in a.split():\n",
    "                list_Char_Ngram.append(cngrams(word, n = 3))\n",
    "            for word in a.split():\n",
    "                list_Char_Ngram.append(cngrams(word, n = 4))\n",
    "        # character trigrams.\n",
    "        elif ngram_range == (3,3):\n",
    "            for word in a.split():\n",
    "                list_Char_Ngram.append(cngrams(word, n = 3))\n",
    "        # character trigrams, 4-grams.\n",
    "        elif ngram_range == (3,4):\n",
    "            for word in a.split():\n",
    "                list_Char_Ngram.append(cngrams(word, n = 3))\n",
    "            for word in a.split():\n",
    "                list_Char_Ngram.append(cngrams(word, n = 4))          \n",
    "        # character 4-grams.\n",
    "        elif ngram_range == (4,4):\n",
    "            for word in a.split():\n",
    "                list_Char_Ngram.append(cngrams(word, n = 4)) \n",
    "        else:\n",
    "            print(\"Error, please check the 'ngram_range' parameter.\")\n",
    "        x = [item for sublist in list_Char_Ngram for item in sublist]\n",
    "    return x"
   ]
  },
  {
   "cell_type": "markdown",
   "metadata": {},
   "source": [
    "Note that it is OK to represent n-grams using lists instead of tuples: e.g. `['great', ['great', 'movie']]`"
   ]
  },
  {
   "cell_type": "markdown",
   "metadata": {},
   "source": [
    "For extracting character n-grams the function should work as follows:"
   ]
  },
  {
   "cell_type": "code",
   "execution_count": 8,
   "metadata": {
    "ExecuteTime": {
     "end_time": "2021-02-27T13:09:16.233807Z",
     "start_time": "2021-02-27T13:09:16.222837Z"
    }
   },
   "outputs": [
    {
     "data": {
      "text/plain": [
       "['mo',\n",
       " 'ov',\n",
       " 'vi',\n",
       " 'ie',\n",
       " 'bl',\n",
       " 'lu',\n",
       " 'ue',\n",
       " 'mov',\n",
       " 'ovi',\n",
       " 'vie',\n",
       " 'blu',\n",
       " 'lue',\n",
       " 'movi',\n",
       " 'ovie',\n",
       " 'blue']"
      ]
     },
     "execution_count": 8,
     "metadata": {},
     "output_type": "execute_result"
    }
   ],
   "source": [
    "extract_ngrams(\"movie, blue\", \n",
    "               ngram_range=(2,4), \n",
    "               stop_words=[],\n",
    "               char_ngrams=True)"
   ]
  },
  {
   "cell_type": "markdown",
   "metadata": {},
   "source": [
    "### Create a vocabulary \n",
    "\n",
    "The `get_vocab` function will be used to (1) create a vocabulary of ngrams; (2) count the document frequencies of ngrams; (3) their raw frequency. It takes as input:\n",
    "- `X_raw`: a list of strings each corresponding to the raw text of a document\n",
    "- `ngram_range`: a tuple of two integers denoting the type of ngrams you want to extract, e.g. (1,2) denotes extracting unigrams and bigrams.\n",
    "- `token_pattern`: a string to be used within a regular expression to extract all tokens. Note that data is already tokenised so you could opt for a simple white space tokenisation.\n",
    "- `stop_words`: a list of stop words\n",
    "- `min_df`: keep ngrams with a minimum document frequency.\n",
    "- `keep_topN`: keep top-N more frequent ngrams.\n",
    "\n",
    "and returns:\n",
    "\n",
    "- `vocab`: a set of the n-grams that will be used as features.\n",
    "- `df`: a Counter (or dict) that contains ngrams as keys and their corresponding document frequency as values.\n",
    "- `ngram_counts`: counts of each ngram in vocab\n",
    "\n",
    "Hint: it should make use of the `extract_ngrams` function."
   ]
  },
  {
   "cell_type": "code",
   "execution_count": 9,
   "metadata": {
    "ExecuteTime": {
     "end_time": "2021-02-27T13:09:16.250762Z",
     "start_time": "2021-02-27T13:09:16.234806Z"
    }
   },
   "outputs": [],
   "source": [
    "# Add an argument 'delete_topN' to drop the 'delete_topN' most frequent ngrams.\n",
    "def get_vocab(X_raw, ngram_range=(1,3), token_pattern=r'', \n",
    "              min_df=0, keep_topN=0, delete_topN = 0,\n",
    "              stop_words=[],char_ngrams=False):\n",
    "    vocab = []\n",
    "    all_vocab = []\n",
    "    doc_word = []\n",
    "    df = dict()\n",
    "    doc_num = 1\n",
    "    ngram_counts = dict() \n",
    "    if char_ngrams == False:\n",
    "        for doc in X_raw:\n",
    "            feature = extract_ngrams(doc, ngram_range = (1,3), stop_words = stop_words, char_ngrams = False)\n",
    "            all_vocab.append(feature)\n",
    "        # nd list to 1d list\n",
    "        all_vocab_1d = [item for sublist in all_vocab for item in sublist]\n",
    "        # Choose frequent ngrams.\n",
    "        ngram_counts_all = Counter(all_vocab_1d)\n",
    "        topN_ngram = ngram_counts_all.most_common(keep_topN + delete_topN)\n",
    "        topN_ngram = topN_ngram[delete_topN: (keep_topN + delete_topN)]\n",
    "        # Get vocabulary.\n",
    "        vocab = [key for key, _ in topN_ngram]\n",
    "        # Get document frequency.\n",
    "        for gram in vocab:\n",
    "            i = 0\n",
    "            for doc in all_vocab:\n",
    "                if gram in doc:\n",
    "                    i += 1\n",
    "            df.update({gram : i})\n",
    "        # Get term frequency(Replace ngram_counts as return value).\n",
    "        for doc1 in X_raw:\n",
    "            tf_doc_num = dict()\n",
    "            fea_cnt = Counter(all_vocab[doc_num - 1])\n",
    "            gram_num = 1\n",
    "            for gram in vocab:\n",
    "                if gram in fea_cnt.keys():\n",
    "                    tf_doc_num.update({gram_num : fea_cnt[gram]})\n",
    "                else:\n",
    "                    tf_doc_num.update({gram_num : 0})\n",
    "                gram_num += 1\n",
    "            ngram_counts.update({doc_num : tf_doc_num})\n",
    "            doc_num += 1\n",
    "            \n",
    "    if char_ngrams == True:\n",
    "        for doc in X_raw:\n",
    "            feature = extract_ngrams(doc, ngram_range = (2,4), stop_words = stop_words, char_ngrams = True)\n",
    "            all_vocab.append(feature)\n",
    "        # nd list to 1d list\n",
    "        all_vocab_1d = [item for sublist in all_vocab for item in sublist]\n",
    "        # Choose frequent ngrams.\n",
    "        ngram_counts_all = Counter(all_vocab_1d)\n",
    "        topN_ngram = ngram_counts_all.most_common(keep_topN + delete_topN)\n",
    "        topN_ngram = topN_ngram[delete_topN: (keep_topN + delete_topN)]\n",
    "        # Get vocabulary.\n",
    "        vocab = [key for key, _ in topN_ngram]\n",
    "        # Get document frequency.\n",
    "        for gram in vocab:\n",
    "            i = 0\n",
    "            for doc in all_vocab:\n",
    "                if gram in doc:\n",
    "                    i += 1\n",
    "            df.update({gram : i})\n",
    "        # Get term frequency(Replace ngram_counts as return value).\n",
    "        for doc1 in X_raw:\n",
    "            tf_doc_num = dict()\n",
    "            fea_cnt = Counter(all_vocab[doc_num - 1])\n",
    "            gram_num = 1\n",
    "            for gram in vocab:\n",
    "                if gram in fea_cnt.keys():\n",
    "                    tf_doc_num.update({gram_num : fea_cnt[gram]})\n",
    "                else:\n",
    "                    tf_doc_num.update({gram_num : 0})\n",
    "                gram_num += 1\n",
    "            ngram_counts.update({doc_num : tf_doc_num})\n",
    "            doc_num += 1\n",
    "    return vocab, df, ngram_counts"
   ]
  },
  {
   "cell_type": "markdown",
   "metadata": {},
   "source": [
    "Now you should use `get_vocab` to create your vocabulary and get document and raw frequencies of n-grams:"
   ]
  },
  {
   "cell_type": "code",
   "execution_count": 10,
   "metadata": {
    "ExecuteTime": {
     "end_time": "2021-02-27T13:09:16.261733Z",
     "start_time": "2021-02-27T13:09:16.251759Z"
    }
   },
   "outputs": [],
   "source": [
    "# All results will be uniformly obtained later, so comment the code here.\n",
    "# bow_sa_train_attri = get_vocab(sa_train_attri, ngram_range=(1,3), keep_topN=1000, stop_words=stop_words, char_ngrams=False)\n",
    "# bocn_sa_train_attri = get_vocab(sa_train_attri, ngram_range=(2,4), keep_topN=100, stop_words=stop_words, char_ngrams=True)"
   ]
  },
  {
   "cell_type": "markdown",
   "metadata": {},
   "source": [
    "Then, you need to create 2 dictionaries: (1) vocabulary id -> word; and  (2) word -> vocabulary id so you can use them for reference:"
   ]
  },
  {
   "cell_type": "code",
   "execution_count": 11,
   "metadata": {
    "ExecuteTime": {
     "end_time": "2021-02-27T13:09:16.275695Z",
     "start_time": "2021-02-27T13:09:16.262731Z"
    }
   },
   "outputs": [],
   "source": [
    "def create_2_dict(result_from_vocab):\n",
    "    id_word = dict()\n",
    "    word_id = dict()\n",
    "    id = 1\n",
    "    for gram in result_from_vocab[0]:\n",
    "        id_word.update({id: gram})\n",
    "        word_id.update({gram: id})\n",
    "        id += 1\n",
    "    return id_word, word_id"
   ]
  },
  {
   "cell_type": "markdown",
   "metadata": {},
   "source": [
    "Now you should be able to extract n-grams for each text in the training, development and test sets:"
   ]
  },
  {
   "cell_type": "code",
   "execution_count": 12,
   "metadata": {
    "ExecuteTime": {
     "end_time": "2021-02-27T13:12:27.224431Z",
     "start_time": "2021-02-27T13:09:16.277691Z"
    }
   },
   "outputs": [],
   "source": [
    "# For task1.\n",
    "# Keep 1000 ngrams.\n",
    "NUM = 1000\n",
    "# Drop 500 most frequent ngrams.\n",
    "NUM1 = 500\n",
    "bow_sa_train_attri = get_vocab(sa_train_attri, ngram_range=(1,3), keep_topN=NUM, delete_topN=NUM1,\n",
    "                               stop_words=stop_words, char_ngrams=False)\n",
    "bow_sa_dev_attri = get_vocab(sa_dev_attri, ngram_range=(1,3), keep_topN=NUM, delete_topN=NUM1,\n",
    "                             stop_words=stop_words, char_ngrams=False)\n",
    "bow_sa_test_attri = get_vocab(sa_test_attri, ngram_range=(1,3), keep_topN=NUM, delete_topN=NUM1,\n",
    "                              stop_words=stop_words, char_ngrams=False)\n",
    "\n",
    "bocn_sa_train_attri = get_vocab(sa_train_attri, ngram_range=(2,4), keep_topN=NUM, delete_topN=NUM1,\n",
    "                                stop_words=stop_words, char_ngrams=True)\n",
    "bocn_sa_dev_attri = get_vocab(sa_dev_attri, ngram_range=(2,4), keep_topN=NUM, delete_topN=NUM1,\n",
    "                              stop_words=stop_words, char_ngrams=True)\n",
    "bocn_sa_test_attri = get_vocab(sa_test_attri, ngram_range=(2,4), keep_topN=NUM, delete_topN=NUM1,\n",
    "                               stop_words=stop_words, char_ngrams=True)"
   ]
  },
  {
   "cell_type": "markdown",
   "metadata": {},
   "source": [
    "## Vectorise documents "
   ]
  },
  {
   "cell_type": "markdown",
   "metadata": {},
   "source": [
    "I did not follow the prompts to construct the function. Because term frequency(tf) can be obtained directly from the above results by simple transformation, and tfidf is obtained by tf, so I only wrote the function of tf to tfidf.\n"
   ]
  },
  {
   "cell_type": "code",
   "execution_count": 13,
   "metadata": {
    "ExecuteTime": {
     "end_time": "2021-02-27T13:12:27.230587Z",
     "start_time": "2021-02-27T13:12:27.225427Z"
    }
   },
   "outputs": [],
   "source": [
    "def tfidf_vector(tf_vector, get_vocab_result):    \n",
    "    D_size = len(get_vocab_result[2])\n",
    "    word_id_dict = create_2_dict(get_vocab_result)[0]\n",
    "    for n in range(1 , len(get_vocab_result[0])+1):\n",
    "        df = get_vocab_result[1][word_id_dict[n]]\n",
    "        idf = np.log10(D_size/df)\n",
    "        tf_vector[n] = tf_vector[n] * idf\n",
    "    tfidf_vec = tf_vector\n",
    "    return tfidf_vec"
   ]
  },
  {
   "cell_type": "markdown",
   "metadata": {},
   "source": [
    "Finally, obtain document vectors for each document in the train, development and test set. You should extract both count and tf.idf vectors respectively:"
   ]
  },
  {
   "cell_type": "markdown",
   "metadata": {},
   "source": [
    "#### Count vectors"
   ]
  },
  {
   "cell_type": "code",
   "execution_count": 14,
   "metadata": {
    "ExecuteTime": {
     "end_time": "2021-02-27T13:12:28.438110Z",
     "start_time": "2021-02-27T13:12:27.232409Z"
    }
   },
   "outputs": [],
   "source": [
    "# tf vectors for task1\n",
    "# BOW\n",
    "tf_bow_sa_train = pd.DataFrame(bow_sa_train_attri[2]).T\n",
    "tf_bow_sa_dev = pd.DataFrame(bow_sa_dev_attri[2]).T\n",
    "tf_bow_sa_test = pd.DataFrame(bow_sa_test_attri[2]).T\n",
    "# BOCN\n",
    "tf_bocn_sa_train = pd.DataFrame(bocn_sa_train_attri[2]).T\n",
    "tf_bocn_sa_dev = pd.DataFrame(bocn_sa_dev_attri[2]).T\n",
    "tf_bocn_sa_test = pd.DataFrame(bocn_sa_test_attri[2]).T"
   ]
  },
  {
   "cell_type": "markdown",
   "metadata": {},
   "source": [
    "#### TF.IDF vectors"
   ]
  },
  {
   "cell_type": "code",
   "execution_count": 15,
   "metadata": {
    "ExecuteTime": {
     "end_time": "2021-02-27T13:12:37.887309Z",
     "start_time": "2021-02-27T13:12:28.438879Z"
    }
   },
   "outputs": [],
   "source": [
    "# tfidf vectors for task1\n",
    "# BOW\n",
    "# deep copy\n",
    "tf_bow_sa_train1 = copy.deepcopy(tf_bow_sa_train)\n",
    "tf_bow_sa_dev1 = copy.deepcopy(tf_bow_sa_dev)\n",
    "tf_bow_sa_test1 = copy.deepcopy(tf_bow_sa_test)\n",
    "# transform tf to tfidf\n",
    "tfidf_bow_sa_train = tfidf_vector(tf_bow_sa_train1, bow_sa_train_attri)\n",
    "tfidf_bow_sa_dev = tfidf_vector(tf_bow_sa_dev1, bow_sa_dev_attri)\n",
    "tfidf_bow_sa_test = tfidf_vector(tf_bow_sa_test1, bow_sa_test_attri)\n",
    "\n",
    "# BOCN\n",
    "# deep copy\n",
    "tf_bocn_sa_train1 = copy.deepcopy(tf_bocn_sa_train)\n",
    "tf_bocn_sa_dev1 = copy.deepcopy(tf_bocn_sa_dev)\n",
    "tf_bocn_sa_test1 = copy.deepcopy(tf_bocn_sa_test)\n",
    "# transform tf to tfidf\n",
    "tfidf_bocn_sa_train = tfidf_vector(tf_bocn_sa_train1, bocn_sa_train_attri)\n",
    "tfidf_bocn_sa_dev = tfidf_vector(tf_bocn_sa_dev1, bocn_sa_dev_attri)\n",
    "tfidf_bocn_sa_test = tfidf_vector(tf_bocn_sa_test1, bocn_sa_test_attri)\n",
    "\n",
    "# BOW+BOCN(only with tfidf)\n",
    "tfidf_bow_bocn_sa_train = pd.concat([tfidf_bow_sa_train,tfidf_bocn_sa_train],axis=1,ignore_index=True)\n",
    "tfidf_bow_bocn_sa_dev = pd.concat([tfidf_bow_sa_dev,tfidf_bocn_sa_dev],axis=1,ignore_index=True)\n",
    "tfidf_bow_bocn_sa_test = pd.concat([tfidf_bow_sa_test,tfidf_bocn_sa_test],axis=1,ignore_index=True)"
   ]
  },
  {
   "cell_type": "code",
   "execution_count": 16,
   "metadata": {
    "ExecuteTime": {
     "end_time": "2021-02-27T13:12:37.903063Z",
     "start_time": "2021-02-27T13:12:37.888069Z"
    }
   },
   "outputs": [],
   "source": [
    "# Add 1 to the tail of every vectors for training.\n",
    "tf_bow_sa_train['x0'] = 1\n",
    "tf_bow_sa_dev['x0'] = 1\n",
    "tf_bow_sa_test['x0'] = 1\n",
    "\n",
    "tf_bocn_sa_train['x0'] = 1\n",
    "tf_bocn_sa_dev['x0'] = 1\n",
    "tf_bocn_sa_test['x0'] = 1\n",
    "\n",
    "tfidf_bow_sa_train['x0'] = 1\n",
    "tfidf_bow_sa_dev['x0'] = 1\n",
    "tfidf_bow_sa_test['x0'] = 1\n",
    "\n",
    "tfidf_bocn_sa_train['x0'] = 1\n",
    "tfidf_bocn_sa_dev['x0'] = 1\n",
    "tfidf_bocn_sa_test['x0'] = 1\n",
    "\n",
    "tfidf_bow_bocn_sa_train['x0'] = 1\n",
    "tfidf_bow_bocn_sa_dev['x0'] = 1\n",
    "tfidf_bow_bocn_sa_test['x0'] = 1"
   ]
  },
  {
   "cell_type": "markdown",
   "metadata": {},
   "source": [
    "# Binary Logistic Regression\n",
    "\n",
    "After obtaining vector representations of the data, now you are ready to implement Binary Logistic Regression for classifying sentiment."
   ]
  },
  {
   "cell_type": "markdown",
   "metadata": {},
   "source": [
    "First, you need to implement the `sigmoid` function. It takes as input:\n",
    "\n",
    "- `z`: a real number or an array of real numbers \n",
    "\n",
    "and returns:\n",
    "\n",
    "- `sig`: the sigmoid of `z`"
   ]
  },
  {
   "cell_type": "code",
   "execution_count": 17,
   "metadata": {
    "ExecuteTime": {
     "end_time": "2021-02-27T13:12:37.908017Z",
     "start_time": "2021-02-27T13:12:37.904026Z"
    }
   },
   "outputs": [],
   "source": [
    "def sigmoid(z):\n",
    "    sig = 1.0 / (1+np.exp(-z)) \n",
    "    return sig"
   ]
  },
  {
   "cell_type": "markdown",
   "metadata": {},
   "source": [
    "Then, implement the `predict_proba` function to obtain prediction probabilities. It takes as input:\n",
    "\n",
    "- `X`: an array of inputs, i.e. documents represented by bag-of-ngram vectors ($N \\times |vocab|$)\n",
    "- `weights`: a 1-D array of the model's weights $(1, |vocab|)$\n",
    "\n",
    "and returns:\n",
    "\n",
    "- `preds_proba`: the prediction probabilities of X given the weights"
   ]
  },
  {
   "cell_type": "code",
   "execution_count": 18,
   "metadata": {
    "ExecuteTime": {
     "end_time": "2021-02-27T13:12:37.922970Z",
     "start_time": "2021-02-27T13:12:37.910010Z"
    }
   },
   "outputs": [],
   "source": [
    "def predict_proba(X, weights):\n",
    "    wx = np.dot(X, weights)\n",
    "    preds_proba = sigmoid(wx)    \n",
    "    return preds_proba"
   ]
  },
  {
   "cell_type": "markdown",
   "metadata": {},
   "source": [
    "Then, implement the `predict_class` function to obtain the most probable class for each vector in an array of input vectors. It takes as input:\n",
    "\n",
    "- `X`: an array of documents represented by bag-of-ngram vectors ($N \\times |vocab|$)\n",
    "- `weights`: a 1-D array of the model's weights $(1, |vocab|)$\n",
    "\n",
    "and returns:\n",
    "\n",
    "- `preds_class`: the predicted class for each x in X given the weights"
   ]
  },
  {
   "cell_type": "code",
   "execution_count": 19,
   "metadata": {
    "ExecuteTime": {
     "end_time": "2021-02-27T13:12:37.937931Z",
     "start_time": "2021-02-27T13:12:37.923968Z"
    }
   },
   "outputs": [],
   "source": [
    "def predict_class(X, weights):\n",
    "    P = predict_proba(X, weights)\n",
    "    if P > 0.5:\n",
    "        preds_class = 1\n",
    "    else:\n",
    "        preds_class = 0\n",
    "    return preds_class"
   ]
  },
  {
   "cell_type": "markdown",
   "metadata": {},
   "source": [
    "To learn the weights from data, we need to minimise the binary cross-entropy loss. Implement `binary_loss` that takes as input:\n",
    "\n",
    "- `X`: input vectors\n",
    "- `Y`: labels\n",
    "- `weights`: model weights\n",
    "\n",
    "and return:\n",
    "\n",
    "- `l`: the loss score"
   ]
  },
  {
   "cell_type": "code",
   "execution_count": 20,
   "metadata": {
    "ExecuteTime": {
     "end_time": "2021-02-27T13:12:37.950896Z",
     "start_time": "2021-02-27T13:12:37.938928Z"
    }
   },
   "outputs": [],
   "source": [
    "def binary_loss(X, Y, weights):\n",
    "    '''\n",
    "    Binary Cross-entropy Loss\n",
    "\n",
    "    X:(len(X),len(vocab))\n",
    "    Y: array len(Y)\n",
    "    weights: array len(X)\n",
    "    '''\n",
    "    left = np.multiply(-Y, np.log(predict_proba(X, weights)))\n",
    "    right = np.multiply(1 - Y, np.log(1 - predict_proba(X, weights)))\n",
    "    l = left - right \n",
    "    return l"
   ]
  },
  {
   "cell_type": "markdown",
   "metadata": {},
   "source": [
    "Now, you can implement Stochastic Gradient Descent to learn the weights of your sentiment classifier. The `SGD` function takes as input:\n",
    "\n",
    "- `X_tr`: array of training data (vectors)\n",
    "- `Y_tr`: labels of `X_tr`\n",
    "- `X_dev`: array of development (i.e. validation) data (vectors)\n",
    "- `Y_dev`: labels of `X_dev`\n",
    "- `lr`: learning rate\n",
    "- `alpha`: regularisation strength\n",
    "- `epochs`: number of full passes over the training data\n",
    "- `tolerance`: stop training if the difference between the current and previous validation loss is smaller than a threshold\n",
    "- `print_progress`: flag for printing the training progress (train/validation loss)\n",
    "\n",
    "\n",
    "and returns:\n",
    "\n",
    "- `weights`: the weights learned\n",
    "- `training_loss_history`: an array with the average losses of the whole training set after each epoch\n",
    "- `validation_loss_history`: an array with the average losses of the whole development set after each epoch\n",
    "\n",
    "Note: There is a line of comment above all possible scoring points(L2, BCE, multiple passes, etc.)."
   ]
  },
  {
   "cell_type": "code",
   "execution_count": 21,
   "metadata": {
    "ExecuteTime": {
     "end_time": "2021-02-27T13:12:37.964858Z",
     "start_time": "2021-02-27T13:12:37.952892Z"
    }
   },
   "outputs": [],
   "source": [
    "# To randomise the order of training data after each pass.\n",
    "def shuffleData(X, y):\n",
    "    data = pd.concat((X.reset_index(drop=True), y), axis = 1)\n",
    "    newdata = data.iloc[np.random.permutation(len(data))]\n",
    "    cols = newdata.shape[1]\n",
    "    new_X = newdata.iloc[:, 0:cols-1].reset_index(drop=True)\n",
    "    new_y = newdata.iloc[:, cols-1:].reset_index(drop=True)\n",
    "    return new_X, new_y.iloc[:, 0]\n",
    "# Stochastic Gradient Descent with L2 regularisation and Binary Cross-entropy loss.\n",
    "def SGD(X, Y, X_dev=[], Y_dev=[], lr=0.1 ,alpha=0.001 ,tolerance=1e-8 ,epochs=30, print_progress=True):\n",
    "    m, n = np.shape(X)\n",
    "    weights = np.zeros(n)\n",
    "    training_loss_history = []\n",
    "    validation_loss_history = []\n",
    "    np_X_dev = np.array(X_dev)\n",
    "    # Perform multiple passes (epochs) over the training data.\n",
    "    for j in range(epochs):\n",
    "        l_train = []\n",
    "        l_dev = []\n",
    "        l_train.append(0)\n",
    "        l_dev.append(0)\n",
    "        # Randomise the order of training data after each pass.\n",
    "        X, Y = shuffleData(X, Y)\n",
    "        np_X = np.array(X)\n",
    "        for i in range(m):\n",
    "            h = predict_proba(np_X[i], weights)\n",
    "            # Add L2 regularisation.\n",
    "            error = (h - Y[i])+ alpha/(2 * m) * np.sum(np.square(weights))\n",
    "            weights = weights - lr * np_X[i] * error\n",
    "            # Get BCE loss of training data.\n",
    "            loss_train = binary_loss(np_X[i], Y[i], weights)\n",
    "            l_train.append(loss_train)\n",
    "            # Get BCE loss of development data.\n",
    "            loss_dev = (binary_loss(np_X_dev, Y_dev, weights)).mean()\n",
    "            l_dev.append(loss_dev)\n",
    "            # Stop training if the difference between the current and previous development loss is smaller than a threshold.\n",
    "            if abs(l_train[-1]-l_train[-2]) < tolerance:\n",
    "                training_loss_history.append(sum(l_train)/len(l_train))\n",
    "                validation_loss_history.append(sum(l_dev)/len(l_dev))\n",
    "                return weights, training_loss_history, validation_loss_history\n",
    "        training_loss_history.append(sum(l_train)/len(l_train))\n",
    "        validation_loss_history.append(sum(l_dev)/len(l_dev))\n",
    "        # After each epoch print the training and development loss.\n",
    "        if print_progress == True:\n",
    "            print(j, training_loss_history[j], validation_loss_history[j])\n",
    "    return weights, training_loss_history, validation_loss_history"
   ]
  },
  {
   "cell_type": "markdown",
   "metadata": {},
   "source": [
    "## Train and Evaluate Logistic Regression with Count vectors\n",
    "\n",
    "First train the model using SGD:"
   ]
  },
  {
   "cell_type": "code",
   "execution_count": 22,
   "metadata": {
    "ExecuteTime": {
     "end_time": "2021-02-27T13:13:12.521665Z",
     "start_time": "2021-02-27T13:12:37.965857Z"
    },
    "scrolled": true
   },
   "outputs": [
    {
     "name": "stdout",
     "output_type": "stream",
     "text": [
      "0 0.6856806977874806 0.6912724568316045\n",
      "1 0.6756518733724072 0.6892726462942973\n",
      "2 0.6662892221320885 0.6872893960210252\n",
      "3 0.6574663206558483 0.6856166854902634\n",
      "4 0.6491182331306679 0.6840309695296055\n",
      "5 0.6411483189195265 0.6826871338892798\n",
      "6 0.63352440170546 0.6814575797114956\n",
      "7 0.6262240244768745 0.6801937509762851\n",
      "8 0.6192275202836077 0.6791527852736158\n",
      "9 0.6124913990818063 0.6778814276775048\n"
     ]
    }
   ],
   "source": [
    "# bow + tf\n",
    "w1, l_train1, l_dev1 = SGD(tf_bow_sa_train, sa_train_label, tf_bow_sa_dev, sa_dev_label, lr = 0.0001, alpha = 0.02, epochs = 10)"
   ]
  },
  {
   "cell_type": "markdown",
   "metadata": {},
   "source": [
    "Now plot the training and validation history per epoch for the best hyperparameter combination. Does your model underfit, overfit or is it about right? Explain why."
   ]
  },
  {
   "cell_type": "code",
   "execution_count": 23,
   "metadata": {
    "ExecuteTime": {
     "end_time": "2021-02-27T13:13:12.728582Z",
     "start_time": "2021-02-27T13:13:12.528646Z"
    }
   },
   "outputs": [
    {
     "data": {
      "text/plain": [
       "<matplotlib.legend.Legend at 0x2e38286e0d0>"
      ]
     },
     "execution_count": 23,
     "metadata": {},
     "output_type": "execute_result"
    },
    {
     "data": {
      "image/png": "[encoded data removed]",
      "text/plain": [
       "<Figure size 432x288 with 1 Axes>"
      ]
     },
     "metadata": {
      "needs_background": "light"
     },
     "output_type": "display_data"
    }
   ],
   "source": [
    "# bow + tf\n",
    "x = np.array(range(1, len(l_train1)+1))\n",
    "plt.plot(x, l_train1, label='training loss')\n",
    "plt.plot(x, l_dev1, label='validation loss')\n",
    "plt.title(\"Training and Validation History per Epoch\")\n",
    "plt.xlabel(\"epochs\")\n",
    "plt.ylabel(\"loss value\")\n",
    "plt.legend()"
   ]
  },
  {
   "cell_type": "markdown",
   "metadata": {
    "ExecuteTime": {
     "end_time": "2020-01-21T16:52:26.583150Z",
     "start_time": "2020-01-21T16:52:26.578754Z"
    }
   },
   "source": [
    "Explain here..."
   ]
  },
  {
   "cell_type": "markdown",
   "metadata": {},
   "source": [
    "Answer:\n",
    "\n",
    "It can be seen in the above picture that my model overfit. As the number of epochs increases, the training loss decreases quicker than the validation loss, which shows that the model performs better on the training set than on the validation set."
   ]
  },
  {
   "cell_type": "markdown",
   "metadata": {},
   "source": [
    "#### Evaluation\n",
    "\n",
    "Compute accuracy, precision, recall and F1-scores:"
   ]
  },
  {
   "cell_type": "code",
   "execution_count": 24,
   "metadata": {
    "ExecuteTime": {
     "end_time": "2021-02-27T13:13:13.337498Z",
     "start_time": "2021-02-27T13:13:12.730576Z"
    }
   },
   "outputs": [
    {
     "name": "stdout",
     "output_type": "stream",
     "text": [
      "Accuracy: 0.52\n",
      "Precision: 0.5140845070422535\n",
      "Recall: 0.73\n",
      "F1-Score: 0.6033057851239669\n"
     ]
    }
   ],
   "source": [
    "# bow + tf\n",
    "preds_bow_tf = np.zeros(shape = (len(tf_bow_sa_test), 1))\n",
    "for i in range(len(tf_bow_sa_test)):\n",
    "    preds_bow_tf[i] = predict_class(np.array(tf_bow_sa_test)[i], w1)\n",
    "\n",
    "print('Accuracy:', accuracy_score(sa_test_label,preds_bow_tf))\n",
    "print('Precision:', precision_score(sa_test_label,preds_bow_tf))\n",
    "print('Recall:', recall_score(sa_test_label,preds_bow_tf))\n",
    "print('F1-Score:', f1_score(sa_test_label,preds_bow_tf))"
   ]
  },
  {
   "cell_type": "markdown",
   "metadata": {},
   "source": [
    "Finally, print the top-10 words for the negative and positive class respectively."
   ]
  },
  {
   "cell_type": "code",
   "execution_count": 25,
   "metadata": {
    "ExecuteTime": {
     "end_time": "2021-02-27T13:13:13.345476Z",
     "start_time": "2021-02-27T13:13:13.338494Z"
    }
   },
   "outputs": [
    {
     "name": "stdout",
     "output_type": "stream",
     "text": [
      "Top-10 ngrams for the negative class:\n",
      "('stupid',)\n",
      "('ridiculous',)\n",
      "('none',)\n",
      "('waste',)\n",
      "('mess',)\n",
      "('whats',)\n",
      "('fails',)\n",
      "('wasted',)\n",
      "('guess',)\n",
      "('batman',)\n"
     ]
    }
   ],
   "source": [
    "# bow + tf\n",
    "id2word = create_2_dict(bow_sa_train_attri)[0]\n",
    "top_neg = np.argsort(w1[0:-1], axis=0)[:10]\n",
    "print('Top-10 ngrams for the negative class:')\n",
    "for i in top_neg:\n",
    "    # The index of id2word begins from 1, so i+1\n",
    "    print(id2word[i+1])"
   ]
  },
  {
   "cell_type": "code",
   "execution_count": 26,
   "metadata": {
    "ExecuteTime": {
     "end_time": "2021-02-27T13:13:13.361506Z",
     "start_time": "2021-02-27T13:13:13.347471Z"
    }
   },
   "outputs": [
    {
     "name": "stdout",
     "output_type": "stream",
     "text": [
      "Top-10 ngrams for the positive class:\n",
      "('wonderful',)\n",
      "('fiction',)\n",
      "('hilarious',)\n",
      "('perfectly',)\n",
      "('excellent',)\n",
      "('wars',)\n",
      "('tale',)\n",
      "('memorable',)\n",
      "('terrific',)\n",
      "('effective',)\n"
     ]
    }
   ],
   "source": [
    "# bow + tf\n",
    "top_pos = np.argsort(-w1[0:-1], axis=0)[:10]\n",
    "print('Top-10 ngrams for the positive class:')\n",
    "for i in top_pos:\n",
    "    print(id2word[i+1])"
   ]
  },
  {
   "cell_type": "markdown",
   "metadata": {},
   "source": [
    "If we were to apply the classifier we've learned into a different domain such laptop reviews or restaurant reviews, do you think these features would generalise well? Can you propose what features the classifier could pick up as important in the new domain?"
   ]
  },
  {
   "cell_type": "markdown",
   "metadata": {},
   "source": [
    "Answer:\n",
    "\n",
    "Some features would generalise well while others would not.\n",
    "For example, in negative class, 'stupid', 'ridiculous', 'waste', 'mess', 'fails' and 'wasted' could pick up as important in the new domain, in positive class, 'wonderful', 'perfectly', 'excellent', 'memorable', 'terrific' and 'effective' could pick up as important in the new domain.\n",
    "\n",
    "That make sense because if you think a moive is good, you will comment it with good words like wonderful, excellent, etc., otherwise you will give some negative comment such as stupid, waste(time, money), etc.. And I think the features that generalise well in other domains will be more if the model has better performance.\n",
    "\n",
    "Still, there are some features that can not be used to other domain, such as 'batman', 'wars', etc.."
   ]
  },
  {
   "cell_type": "markdown",
   "metadata": {},
   "source": [
    "### Discuss how did you choose model hyperparameters (e.g. learning rate and regularisation strength)? What is the relation between training epochs and learning rate? How the regularisation strength affects performance?"
   ]
  },
  {
   "cell_type": "markdown",
   "metadata": {},
   "source": [
    "Answer 1:\n",
    "\n",
    "I use the validation(development) set to select the hyperparameters of the model. Because the data in the validation set is symmetrical (the number of data with label 0 is equal to the number of data with label 1), I choose accuracy as the basis for judgment. The accuray of trained models on validation set can be seen in the following table(All model trained with 5 epochs)."
   ]
  },
  {
   "cell_type": "markdown",
   "metadata": {},
   "source": [
    "|  | alpha = 1e-1  | alpha = 1e-2  | alpha = 1e-3  | alpha = 1e-4  | alpha = 1e-5  |\n",
    "|:-:|:-:|:-:|:-:|:-:|:-:|\n",
    "| lr = 1e-1  |0.53   |0.51   |0.565   |0.57   |0.57   |\n",
    "| lr = 1e-2  |0.56   |0.555   |0.565   |0.55   |0.565   |\n",
    "| lr = 1e-3  |0.545   |0.545   |0.56   |0.56   |0.565   |\n",
    "| lr = 1e-4  |0.57   |0.575   |0.575   |0.57   |0.57   |\n",
    "| lr = 1e-5  |0.535   |0.535   |0.535   |0.535   |0.535   |"
   ]
  },
  {
   "cell_type": "markdown",
   "metadata": {},
   "source": [
    "Through the above table, we can estimate the approximate range of hyperparameters, and then we use similar methods to finally determine the hyperparameters that make the model perform the best."
   ]
  },
  {
   "cell_type": "markdown",
   "metadata": {},
   "source": [
    "Answer 2:\n",
    "\n",
    "Learning rate indicates how big or small the changes in weights are after each optimisation step. If you choose a large learning rate, the weights in the training model will change drastically, that is, higher learning rate will get to improved results rather quickly with less training epochs, although it may overshoots the optimal solution."
   ]
  },
  {
   "cell_type": "markdown",
   "metadata": {},
   "source": [
    "Answer 3:\n",
    "\n",
    "Optimum values of weights are found by minimizing the cost function. As you add the regularization parameter to the weights, optimization function will have to choose smaller weights in order to minimize the total cost. This can prevent or decrease overfitting of the model."
   ]
  },
  {
   "cell_type": "markdown",
   "metadata": {},
   "source": [
    "#### Note:\n",
    "Discussion of the above three questions can apply to remain 9 models, so I would not repeat my answers of this part."
   ]
  },
  {
   "cell_type": "markdown",
   "metadata": {},
   "source": [
    "## Train and Evaluate Logistic Regression with TF.IDF vectors\n",
    "\n",
    "Follow the same steps as above (i.e. evaluating count n-gram representations).\n"
   ]
  },
  {
   "cell_type": "markdown",
   "metadata": {},
   "source": [
    "### Now repeat the training and evaluation process for BOW-tfidf, BOCN-count, BOCN-tfidf, BOW+BOCN including hyperparameter tuning for each model..."
   ]
  },
  {
   "cell_type": "markdown",
   "metadata": {},
   "source": [
    "#### BOW-tfidf"
   ]
  },
  {
   "cell_type": "markdown",
   "metadata": {},
   "source": [
    "Choose model hyperparameters:"
   ]
  },
  {
   "cell_type": "markdown",
   "metadata": {},
   "source": [
    "|  | alpha = 1e-1  | alpha = 1e-2  | alpha = 1e-3  | alpha = 1e-4  | alpha = 1e-5  |\n",
    "|:-:|:-:|:-:|:-:|:-:|:-:|\n",
    "| lr = 1e-1  |0.54   |0.53   |0.525   |0.5   |0.54   |\n",
    "| lr = 1e-2  |0.57   |0.56   |0.545   |0.56   |0.555   |\n",
    "| lr = 1e-3  |0.575   |0.575   |0.58   |0.575   |0.58   |\n",
    "| lr = 1e-4  |0.575   |0.575   |0.595   |0.58   |0.58   |\n",
    "| lr = 1e-5  |0.51   |0.515   |0.52   |0.52   |0.515   |"
   ]
  },
  {
   "cell_type": "code",
   "execution_count": 27,
   "metadata": {
    "ExecuteTime": {
     "end_time": "2021-02-27T13:13:25.014377Z",
     "start_time": "2021-02-27T13:13:13.362431Z"
    },
    "scrolled": true
   },
   "outputs": [
    {
     "name": "stdout",
     "output_type": "stream",
     "text": [
      "0 0.6815334402473742 0.690659470292722\n",
      "1 0.6664536272167036 0.6874455588008686\n",
      "2 0.6530002600594551 0.6849961654935124\n",
      "3 0.6407092757326337 0.6828394567097366\n",
      "4 0.6293294060233207 0.6807114662865469\n",
      "5 0.6187609029255999 0.6790709598908246\n",
      "6 0.6088598612637061 0.6776323738354509\n",
      "7 0.5995204427238866 0.6763515036537466\n",
      "8 0.5907197036797364 0.6748072220764475\n",
      "9 0.5823811787676825 0.6737526086022909\n"
     ]
    }
   ],
   "source": [
    "# Train model.\n",
    "w2, l_train2, l_dev2 = SGD(tfidf_bow_sa_train, sa_train_label, tfidf_bow_sa_dev, sa_dev_label,\n",
    "                           lr = 0.0001, alpha = 0.005, epochs = 10)"
   ]
  },
  {
   "cell_type": "code",
   "execution_count": 28,
   "metadata": {
    "ExecuteTime": {
     "end_time": "2021-02-27T13:13:25.135066Z",
     "start_time": "2021-02-27T13:13:25.015375Z"
    }
   },
   "outputs": [
    {
     "data": {
      "text/plain": [
       "<matplotlib.legend.Legend at 0x2e3fda81d90>"
      ]
     },
     "execution_count": 28,
     "metadata": {},
     "output_type": "execute_result"
    },
    {
     "data": {
      "image/png": "[encoded data removed]",
      "text/plain": [
       "<Figure size 432x288 with 1 Axes>"
      ]
     },
     "metadata": {
      "needs_background": "light"
     },
     "output_type": "display_data"
    }
   ],
   "source": [
    "# Plot the training and validation history per epoch.\n",
    "x = np.array(range(1, len(l_train2)+1))\n",
    "plt.plot(x, l_train2, label='training loss')\n",
    "plt.plot(x, l_dev2, label='validation loss')\n",
    "plt.title(\"Training and Validation History per Epoch\")\n",
    "plt.xlabel(\"epochs\")\n",
    "plt.ylabel(\"loss value\")\n",
    "plt.legend()"
   ]
  },
  {
   "cell_type": "markdown",
   "metadata": {},
   "source": [
    "Answer:\n",
    "\n",
    "It can be seen in the above picture that my model overfit. As the number of epochs increases, the training loss decreases quicker than the validation loss, which shows that the model performs better on the training set than on the validation set."
   ]
  },
  {
   "cell_type": "code",
   "execution_count": 29,
   "metadata": {
    "ExecuteTime": {
     "end_time": "2021-02-27T13:13:26.293713Z",
     "start_time": "2021-02-27T13:13:25.137062Z"
    }
   },
   "outputs": [
    {
     "name": "stdout",
     "output_type": "stream",
     "text": [
      "Accuracy: 0.505\n",
      "Precision: 0.5038461538461538\n",
      "Recall: 0.655\n",
      "F1-Score: 0.5695652173913044\n"
     ]
    }
   ],
   "source": [
    "# Compute accuracy, precision, recall and F1-scores.\n",
    "preds_bow_tfidf = np.zeros(shape = (len(tfidf_bow_sa_test), 1))\n",
    "for i in range(len(tfidf_bow_sa_test)):\n",
    "    preds_bow_tfidf[i] = predict_class(np.array(tfidf_bow_sa_test)[i], w2)\n",
    "\n",
    "print('Accuracy:', accuracy_score(sa_test_label,preds_bow_tfidf))\n",
    "print('Precision:', precision_score(sa_test_label,preds_bow_tfidf))\n",
    "print('Recall:', recall_score(sa_test_label,preds_bow_tfidf))\n",
    "print('F1-Score:', f1_score(sa_test_label,preds_bow_tfidf))"
   ]
  },
  {
   "cell_type": "code",
   "execution_count": 30,
   "metadata": {
    "ExecuteTime": {
     "end_time": "2021-02-27T13:13:26.305689Z",
     "start_time": "2021-02-27T13:13:26.294698Z"
    },
    "scrolled": true
   },
   "outputs": [
    {
     "name": "stdout",
     "output_type": "stream",
     "text": [
      "Top-10 ngrams for the negative class:\n",
      "('stupid',)\n",
      "('ridiculous',)\n",
      "('arnold',)\n",
      "('harry',)\n",
      "('wasted',)\n",
      "('waste',)\n",
      "('spawn',)\n",
      "('fails',)\n",
      "('awful',)\n",
      "('dull',)\n",
      "Top-10 ngrams for the positive class:\n",
      "('cameron',)\n",
      "('wonderful',)\n",
      "('toy',)\n",
      "('perfectly',)\n",
      "('fiction',)\n",
      "('excellent',)\n",
      "('hilarious',)\n",
      "('terrific',)\n",
      "('political',)\n",
      "('memorable',)\n"
     ]
    }
   ],
   "source": [
    "# Print the top-10 ngrams for the negative and positive class respectively.\n",
    "id2word = create_2_dict(bow_sa_train_attri)[0]\n",
    "top_neg = np.argsort(w2[0:-1], axis=0)[:10]\n",
    "print('Top-10 ngrams for the negative class:')\n",
    "for i in top_neg:\n",
    "    # The index of id2word begins from 1, so i+1\n",
    "    print(id2word[i+1])\n",
    "    \n",
    "top_pos = np.argsort(-w2[0:-1], axis=0)[:10]\n",
    "print('Top-10 ngrams for the positive class:')\n",
    "for i in top_pos:\n",
    "    print(id2word[i+1])"
   ]
  },
  {
   "cell_type": "markdown",
   "metadata": {},
   "source": [
    "Answer:\n",
    "\n",
    "Some features would generalise well while others would not. For example, in negative class, 'stupid', 'ridiculous', 'wasted', 'wast', 'fails', 'awful' and 'dull' could pick up as important in the new domain, in positive class, 'wonderful', 'perfectly', 'excellent', 'terrific' and 'memorable' could pick up as important in the new domain.\n",
    "\n",
    "That make sense because if you think a moive is good, you will comment it with good words like wonderful, excellent, etc., otherwise you will give some negative comment such as stupid, waste(time, money), etc.. And I think the features that generalise well in other domains will be more if the model has better performance.\n",
    "\n",
    "Still, there are some features that can not be used to other domain, such as 'harry', 'toy', etc.."
   ]
  },
  {
   "cell_type": "markdown",
   "metadata": {},
   "source": [
    "#### BOCN-tf"
   ]
  },
  {
   "cell_type": "markdown",
   "metadata": {
    "ExecuteTime": {
     "end_time": "2021-02-25T16:02:38.163013Z",
     "start_time": "2021-02-25T16:02:38.156029Z"
    }
   },
   "source": [
    "Choose model hyperparameters:"
   ]
  },
  {
   "cell_type": "markdown",
   "metadata": {},
   "source": [
    "|  | alpha = 1e-1  | alpha = 1e-2  | alpha = 1e-3  | alpha = 1e-4  | alpha = 1e-5  |\n",
    "|:-:|:-:|:-:|:-:|:-:|:-:|\n",
    "| lr = 1e-3  |0.51   |0.515   |0.52   |0.515   |0.525   |\n",
    "| lr = 1e-4  |0.505   |0.51   |0.505   |0.49   |0.505   |\n",
    "| lr = 1e-5  |0.53   |0.515   |0.515   |0.53   |0.535   |\n",
    "| lr = 1e-6  |0.5   |0.51   |0.5   |0.5   |0.5   |"
   ]
  },
  {
   "cell_type": "code",
   "execution_count": 31,
   "metadata": {
    "ExecuteTime": {
     "end_time": "2021-02-27T13:14:00.862302Z",
     "start_time": "2021-02-27T13:13:26.306652Z"
    }
   },
   "outputs": [
    {
     "name": "stdout",
     "output_type": "stream",
     "text": [
      "0 0.6847778115092915 0.6902980071819155\n",
      "1 0.6751611862456802 0.6897728850769328\n",
      "2 0.6661305779398907 0.6896800088764813\n",
      "3 0.6576655835307909 0.6894085789586438\n",
      "4 0.6495069714800303 0.6899150104151107\n",
      "5 0.6419596012617936 0.6894849269328249\n",
      "6 0.6346974032458812 0.6897872917261147\n",
      "7 0.6277631294283497 0.6897324289239362\n",
      "8 0.6211596905601529 0.6900613107925474\n",
      "9 0.6147956036898917 0.6902360918408887\n"
     ]
    }
   ],
   "source": [
    "# Train model.\n",
    "w3, l_train3, l_dev3 = SGD(tf_bocn_sa_train, sa_train_label, tf_bocn_sa_dev, sa_dev_label,\n",
    "                           lr = 0.000005, alpha = 0.0003, epochs = 10)"
   ]
  },
  {
   "cell_type": "code",
   "execution_count": 32,
   "metadata": {
    "ExecuteTime": {
     "end_time": "2021-02-27T13:14:00.996956Z",
     "start_time": "2021-02-27T13:14:00.863300Z"
    }
   },
   "outputs": [
    {
     "data": {
      "text/plain": [
       "<matplotlib.legend.Legend at 0x2e3fdae1430>"
      ]
     },
     "execution_count": 32,
     "metadata": {},
     "output_type": "execute_result"
    },
    {
     "data": {
      "image/png": "[encoded data removed]",
      "text/plain": [
       "<Figure size 432x288 with 1 Axes>"
      ]
     },
     "metadata": {
      "needs_background": "light"
     },
     "output_type": "display_data"
    }
   ],
   "source": [
    "# Plot the training and validation history per epoch.\n",
    "x = np.array(range(1, len(l_train3)+1))\n",
    "plt.plot(x, l_train3, label='training loss')\n",
    "plt.plot(x, l_dev3, label='validation loss')\n",
    "plt.title(\"Training and Validation History per Epoch\")\n",
    "plt.xlabel(\"epochs\")\n",
    "plt.ylabel(\"loss value\")\n",
    "plt.legend()"
   ]
  },
  {
   "cell_type": "markdown",
   "metadata": {},
   "source": [
    "Answer:\n",
    "\n",
    "It can be seen in the above picture that my model overfit. As the number of epochs increases, the training loss decreases quicker than the validation loss, which shows that the model performs better on the training set than on the validation set."
   ]
  },
  {
   "cell_type": "code",
   "execution_count": 33,
   "metadata": {
    "ExecuteTime": {
     "end_time": "2021-02-27T13:14:01.569436Z",
     "start_time": "2021-02-27T13:14:00.997954Z"
    }
   },
   "outputs": [
    {
     "name": "stdout",
     "output_type": "stream",
     "text": [
      "Accuracy: 0.53\n",
      "Precision: 0.5188679245283019\n",
      "Recall: 0.825\n",
      "F1-Score: 0.637065637065637\n"
     ]
    }
   ],
   "source": [
    "# Compute accuracy, precision, recall and F1-scores.\n",
    "preds_bocn_tf = np.zeros(shape = (len(tf_bocn_sa_test), 1))\n",
    "for i in range(len(tf_bocn_sa_test)):\n",
    "    preds_bocn_tf[i] = predict_class(np.array(tf_bocn_sa_test)[i], w3)\n",
    "\n",
    "print('Accuracy:', accuracy_score(sa_test_label,preds_bocn_tf))\n",
    "print('Precision:', precision_score(sa_test_label,preds_bocn_tf))\n",
    "print('Recall:', recall_score(sa_test_label,preds_bocn_tf))\n",
    "print('F1-Score:', f1_score(sa_test_label,preds_bocn_tf))"
   ]
  },
  {
   "cell_type": "code",
   "execution_count": 34,
   "metadata": {
    "ExecuteTime": {
     "end_time": "2021-02-27T13:14:01.580410Z",
     "start_time": "2021-02-27T13:14:01.570435Z"
    },
    "scrolled": true
   },
   "outputs": [
    {
     "name": "stdout",
     "output_type": "stream",
     "text": [
      "Top-10 character ngrams for the negative class:\n",
      "bad\n",
      "lot\n",
      "plo\n",
      "plot\n",
      "eres\n",
      "only\n",
      "ook\n",
      "nly\n",
      "onl\n",
      "pos\n",
      "Top-10 character ngrams for the positive class:\n",
      "erf\n",
      "rf\n",
      "reat\n",
      "gre\n",
      "perf\n",
      "grea\n",
      "tru\n",
      "lif\n",
      "als\n",
      "lso\n"
     ]
    }
   ],
   "source": [
    "# Print the top-10 ngrams for the negative and positive class respectively.\n",
    "id2word = create_2_dict(bocn_sa_train_attri)[0]\n",
    "top_neg = np.argsort(w3[0:-1], axis=0)[:10]\n",
    "print('Top-10 character ngrams for the negative class:')\n",
    "for i in top_neg:\n",
    "    # The index of id2word begins from 1, so i+1\n",
    "    print(id2word[i+1])\n",
    "    \n",
    "top_pos = np.argsort(-w3[0:-1], axis=0)[:10]\n",
    "print('Top-10 character ngrams for the positive class:')\n",
    "for i in top_pos:\n",
    "    print(id2word[i+1])"
   ]
  },
  {
   "cell_type": "markdown",
   "metadata": {},
   "source": [
    "Answer:\n",
    "\n",
    "Most features would not generalise well. For example, in negative class, only 'bad' could pick up as important in the new domain.\n",
    "\n",
    "I think the features that generalise well in other domains will be more if the model has better performance, but not as much as the features in BOW model. Because many characters can belong to other words, such as 'rf' can be part of 'perfect' or 'performance'. In movie reviews, perfect is a positive word, but in laptop reviews, a customer may said 'bad performance', which is a negative comment."
   ]
  },
  {
   "cell_type": "markdown",
   "metadata": {},
   "source": [
    "#### BOCN-tfidf"
   ]
  },
  {
   "cell_type": "markdown",
   "metadata": {},
   "source": [
    "Choose model hyperparameters:"
   ]
  },
  {
   "cell_type": "markdown",
   "metadata": {},
   "source": [
    "|  | alpha = 1e-1  | alpha = 1e-2  | alpha = 1e-3  | alpha = 1e-4  | alpha = 1e-5  |\n",
    "|:-:|:-:|:-:|:-:|:-:|:-:|\n",
    "| lr = 1e-2  |0.51   |0.5   |0.48   |0.51   |0.505   |\n",
    "| lr = 1e-3  |0.495   |0.485   |0.49   |0.51   |0.495   |\n",
    "| lr = 1e-4  |0.545   |0.535   |0.54   |0.55   |0.535   |\n",
    "| lr = 1e-5  |0.5   |0.5   |0.5   |0.5   |0.5   |"
   ]
  },
  {
   "cell_type": "code",
   "execution_count": 35,
   "metadata": {
    "ExecuteTime": {
     "end_time": "2021-02-27T13:14:13.646747Z",
     "start_time": "2021-02-27T13:14:01.581405Z"
    },
    "scrolled": true
   },
   "outputs": [
    {
     "name": "stdout",
     "output_type": "stream",
     "text": [
      "0 0.6880278427520218 0.691215924498957\n",
      "1 0.6820170647460654 0.6900496586191824\n",
      "2 0.6767276781064939 0.69004620751304\n",
      "3 0.6716804786125018 0.6899918964616722\n",
      "4 0.6668075701483409 0.690042085918144\n",
      "5 0.6620896890496161 0.6901638173689482\n",
      "6 0.6574307982407314 0.6904464947179393\n",
      "7 0.6530465257854775 0.6903968852395908\n",
      "8 0.648731786267642 0.6903132231687769\n",
      "9 0.6444495974778112 0.690895465100007\n"
     ]
    }
   ],
   "source": [
    "# Train model.\n",
    "w4, l_train4, l_dev4 = SGD(tfidf_bocn_sa_train, sa_train_label, tfidf_bocn_sa_dev, sa_dev_label,\n",
    "                           lr = 0.00003, alpha = 0.001, epochs = 10)"
   ]
  },
  {
   "cell_type": "code",
   "execution_count": 36,
   "metadata": {
    "ExecuteTime": {
     "end_time": "2021-02-27T13:14:13.769439Z",
     "start_time": "2021-02-27T13:14:13.647745Z"
    }
   },
   "outputs": [
    {
     "data": {
      "text/plain": [
       "<matplotlib.legend.Legend at 0x2e3efbc7250>"
      ]
     },
     "execution_count": 36,
     "metadata": {},
     "output_type": "execute_result"
    },
    {
     "data": {
      "image/png": "[encoded data removed]",
      "text/plain": [
       "<Figure size 432x288 with 1 Axes>"
      ]
     },
     "metadata": {
      "needs_background": "light"
     },
     "output_type": "display_data"
    }
   ],
   "source": [
    "# Plot the training and validation history per epoch.\n",
    "x = np.array(range(1, len(l_train4)+1))\n",
    "plt.plot(x, l_train4, label='training loss')\n",
    "plt.plot(x, l_dev4, label='validation loss')\n",
    "plt.title(\"Training and Validation History per Epoch\")\n",
    "plt.xlabel(\"epochs\")\n",
    "plt.ylabel(\"loss value\")\n",
    "plt.legend()"
   ]
  },
  {
   "cell_type": "markdown",
   "metadata": {},
   "source": [
    "Answer:\n",
    "\n",
    "It can be seen in the above picture that my model overfit. As the number of epochs increases, the training loss decreases quicker than the validation loss, which shows that the model performs better on the training set than on the validation set."
   ]
  },
  {
   "cell_type": "code",
   "execution_count": 37,
   "metadata": {
    "ExecuteTime": {
     "end_time": "2021-02-27T13:14:14.949344Z",
     "start_time": "2021-02-27T13:14:13.771435Z"
    }
   },
   "outputs": [
    {
     "name": "stdout",
     "output_type": "stream",
     "text": [
      "Accuracy: 0.5225\n",
      "Precision: 0.5121951219512195\n",
      "Recall: 0.945\n",
      "F1-Score: 0.6643233743409491\n"
     ]
    }
   ],
   "source": [
    "# Compute accuracy, precision, recall and F1-scores.\n",
    "preds_bocn_tfidf = np.zeros(shape = (len(tfidf_bocn_sa_test), 1))\n",
    "for i in range(len(tfidf_bocn_sa_test)):\n",
    "    preds_bocn_tfidf[i] = predict_class(np.array(tfidf_bocn_sa_test)[i], w4)\n",
    "\n",
    "print('Accuracy:', accuracy_score(sa_test_label,preds_bocn_tfidf))\n",
    "print('Precision:', precision_score(sa_test_label,preds_bocn_tfidf))\n",
    "print('Recall:', recall_score(sa_test_label,preds_bocn_tfidf))\n",
    "print('F1-Score:', f1_score(sa_test_label,preds_bocn_tfidf))"
   ]
  },
  {
   "cell_type": "code",
   "execution_count": 38,
   "metadata": {
    "ExecuteTime": {
     "end_time": "2021-02-27T13:14:14.958281Z",
     "start_time": "2021-02-27T13:14:14.950302Z"
    },
    "scrolled": true
   },
   "outputs": [
    {
     "name": "stdout",
     "output_type": "stream",
     "text": [
      "Top-10 character ngrams for the negative class:\n",
      "bad\n",
      "plot\n",
      "hats\n",
      "bat\n",
      "dnt\n",
      "ats\n",
      "bett\n",
      "eres\n",
      "gir\n",
      "inu\n",
      "Top-10 character ngrams for the positive class:\n",
      "grea\n",
      "erf\n",
      "life\n",
      "worl\n",
      "orld\n",
      "rld\n",
      "tru\n",
      "amer\n",
      "lif\n",
      "perf\n"
     ]
    }
   ],
   "source": [
    "## Print the top-10 ngrams for the negative and positive class respectively.\n",
    "id2word = create_2_dict(bocn_sa_train_attri)[0]\n",
    "top_neg = np.argsort(w4[0:-1], axis=0)[:10]\n",
    "print('Top-10 character ngrams for the negative class:')\n",
    "for i in top_neg:\n",
    "    # The index of id2word begins from 1, so i+1\n",
    "    print(id2word[i+1])\n",
    "    \n",
    "top_pos = np.argsort(-w4[0:-1], axis=0)[:10]\n",
    "print('Top-10 character ngrams for the positive class:')\n",
    "for i in top_pos:\n",
    "    print(id2word[i+1])"
   ]
  },
  {
   "cell_type": "markdown",
   "metadata": {},
   "source": [
    "Answer:\n",
    "\n",
    "Most features would not generalise well. For example, in negative class, only 'bad' could pick up as important in the new domain.\n",
    "\n",
    "I think the features that generalise well in other domains will be more if the model has better performance, but not as much as the features in BOW model. Because many characters can belong to other words, such as 'rf' can be part of 'perfect' or 'performance'. In movie reviews, perfect is a positive word, but in laptop reviews, a customer may said 'bad performance', which is a negative comment."
   ]
  },
  {
   "cell_type": "markdown",
   "metadata": {},
   "source": [
    "#### BOW+BOCN-tfidf(better than BOW+BOCN-tf)"
   ]
  },
  {
   "cell_type": "markdown",
   "metadata": {},
   "source": [
    "Choose model hyperparameters:"
   ]
  },
  {
   "cell_type": "markdown",
   "metadata": {},
   "source": [
    "|  | alpha = 1e-1  | alpha = 1e-2  | alpha = 1e-3  | alpha = 1e-4  | alpha = 1e-5  |\n",
    "|:-:|:-:|:-:|:-:|:-:|:-:|\n",
    "| lr = 1e-2  |0.515   |0.52   |0.52   |0.515   |0.52   |\n",
    "| lr = 1e-3  |0.54   |0.535   |0.52   |0.535   |0.53   |\n",
    "| lr = 1e-4  |0.55   |0.545   |0.535   |0.54   |0.53   |\n",
    "| lr = 1e-5  |0.5   |0.5   |0.5   |0.5   |0.5   |"
   ]
  },
  {
   "cell_type": "code",
   "execution_count": 39,
   "metadata": {
    "ExecuteTime": {
     "end_time": "2021-02-27T13:14:28.302988Z",
     "start_time": "2021-02-27T13:14:14.960783Z"
    }
   },
   "outputs": [
    {
     "name": "stdout",
     "output_type": "stream",
     "text": [
      "0 0.6691612850168177 0.6893204752166306\n",
      "1 0.6399315712998218 0.6869477165925211\n",
      "2 0.6148226960607421 0.6853230236533211\n",
      "3 0.5930938641697289 0.6840205731196715\n",
      "4 0.5739954818595953 0.6835265411836504\n",
      "5 0.5568920208576447 0.6828245991375934\n",
      "6 0.5413152106814773 0.681887744155856\n",
      "7 0.5272343675004764 0.6817111403296072\n",
      "8 0.5144123031594235 0.6812373623315711\n",
      "9 0.5025459688416224 0.6805138777672849\n"
     ]
    }
   ],
   "source": [
    "# Train model.\n",
    "w5, l_train5, l_dev5 = SGD(tfidf_bow_bocn_sa_train, sa_train_label, tfidf_bow_bocn_sa_dev, sa_dev_label,\n",
    "                           lr = 0.0001, alpha = 0.02, epochs = 10)"
   ]
  },
  {
   "cell_type": "code",
   "execution_count": 40,
   "metadata": {
    "ExecuteTime": {
     "end_time": "2021-02-27T13:14:28.435649Z",
     "start_time": "2021-02-27T13:14:28.304984Z"
    }
   },
   "outputs": [
    {
     "data": {
      "text/plain": [
       "<matplotlib.legend.Legend at 0x2e3efca47c0>"
      ]
     },
     "execution_count": 40,
     "metadata": {},
     "output_type": "execute_result"
    },
    {
     "data": {
      "image/png": "[encoded data removed]",
      "text/plain": [
       "<Figure size 432x288 with 1 Axes>"
      ]
     },
     "metadata": {
      "needs_background": "light"
     },
     "output_type": "display_data"
    }
   ],
   "source": [
    "# Plot the training and validation history per epoch.\n",
    "x = np.array(range(1, len(l_train5)+1))\n",
    "plt.plot(x, l_train5, label='training loss')\n",
    "plt.plot(x, l_dev5, label='validation loss')\n",
    "plt.title(\"Training and Validation History per Epoch\")\n",
    "plt.xlabel(\"epochs\")\n",
    "plt.ylabel(\"loss value\")\n",
    "plt.legend()"
   ]
  },
  {
   "cell_type": "markdown",
   "metadata": {},
   "source": [
    "Answer:\n",
    "\n",
    "It can be seen in the above picture that my model overfit. As the number of epochs increases, the training loss decreases quicker than the validation loss, which shows that the model performs better on the training set than on the validation set."
   ]
  },
  {
   "cell_type": "code",
   "execution_count": 41,
   "metadata": {
    "ExecuteTime": {
     "end_time": "2021-02-27T13:14:30.969737Z",
     "start_time": "2021-02-27T13:14:28.436646Z"
    }
   },
   "outputs": [
    {
     "name": "stdout",
     "output_type": "stream",
     "text": [
      "Accuracy: 0.55\n",
      "Precision: 0.545045045045045\n",
      "Recall: 0.605\n",
      "F1-Score: 0.5734597156398105\n"
     ]
    }
   ],
   "source": [
    "# Compute accuracy, precision, recall and F1-scores.\n",
    "preds_bow_bocn_tfidf = np.zeros(shape = (len(tfidf_bow_bocn_sa_test), 1))\n",
    "for i in range(len(tfidf_bow_bocn_sa_test)):\n",
    "    preds_bow_bocn_tfidf[i] = predict_class(np.array(tfidf_bow_bocn_sa_test)[i], w5)\n",
    "\n",
    "print('Accuracy:', accuracy_score(sa_test_label,preds_bow_bocn_tfidf))\n",
    "print('Precision:', precision_score(sa_test_label,preds_bow_bocn_tfidf))\n",
    "print('Recall:', recall_score(sa_test_label,preds_bow_bocn_tfidf))\n",
    "print('F1-Score:', f1_score(sa_test_label,preds_bow_bocn_tfidf))"
   ]
  },
  {
   "cell_type": "code",
   "execution_count": 42,
   "metadata": {
    "ExecuteTime": {
     "end_time": "2021-02-27T13:14:30.979684Z",
     "start_time": "2021-02-27T13:14:30.970713Z"
    },
    "scrolled": true
   },
   "outputs": [
    {
     "name": "stdout",
     "output_type": "stream",
     "text": [
      "Top-10 ngrams for the negative class:\n",
      "bad\n",
      "('stupid',)\n",
      "('ridiculous',)\n",
      "plot\n",
      "('spawn',)\n",
      "('harry',)\n",
      "('waste',)\n",
      "('west',)\n",
      "('wasted',)\n",
      "('fails',)\n",
      "Top-10 ngrams for the positive class:\n",
      "grea\n",
      "erf\n",
      "life\n",
      "worl\n",
      "tru\n",
      "orld\n",
      "rld\n",
      "('hilarious',)\n",
      "perf\n",
      "amer\n"
     ]
    }
   ],
   "source": [
    "## Print the top-10 ngrams for the negative and positive class respectively.\n",
    "id2word_bow = create_2_dict(bow_sa_train_attri)[0]\n",
    "id2word_bocn = create_2_dict(bocn_sa_train_attri)[0]\n",
    "top_neg = np.argsort(w5[0:-1], axis=0)[:10]\n",
    "print('Top-10 ngrams for the negative class:')\n",
    "for i in top_neg:\n",
    "    # The index of id2word begins from 1, so i+1\n",
    "    if i < 1000:\n",
    "        print(id2word_bow[i+1])\n",
    "    else:\n",
    "        print(id2word_bocn[i-1000+1])\n",
    "    \n",
    "top_pos = np.argsort(-w5[0:-1], axis=0)[:10]\n",
    "print('Top-10 ngrams for the positive class:')\n",
    "for i in top_pos:\n",
    "    if i < 1000:\n",
    "        print(id2word_bow[i+1])\n",
    "    else:\n",
    "        print(id2word_bocn[i-1000+1])"
   ]
  },
  {
   "cell_type": "markdown",
   "metadata": {},
   "source": [
    "Answer:\n",
    "\n",
    "Few features would generalise well while others would not. For example, in negative class, 'stupid', 'ridiculous', 'wast', 'wasted' and 'fails' could pick up as important in the new domain. The reason is discussed at above 4 models, but still, I think the features that generalise well in other domains will be more if the model has better performance."
   ]
  },
  {
   "cell_type": "markdown",
   "metadata": {},
   "source": [
    "\n",
    "\n",
    "## Full Results\n",
    "\n",
    "Add here your results:\n",
    "\n",
    "| LR | Precision  | Recall  | F1-Score  |\n",
    "|:-:|:-:|:-:|:-:|\n",
    "| BOW-count  |0.514   |0.73   |0.603   |\n",
    "| BOW-tfidf  |0.503   |0.655   |0.569   |\n",
    "| BOCN-count  |0.518   |0.825   |0.637   |\n",
    "| BOCN-tfidf  |0.512   |0.945   |0.664   |\n",
    "| BOW+BOCN  |0.545   |0.605   |0.573   |\n",
    "\n",
    "Please discuss why your best performing model is better than the rest.\n",
    "\n",
    "Answer:\n",
    "\n",
    "I think that if the text processing is good, the best performance should come from the model with the combination of BOW, BOCN and tfidf, since BOW+BOCN will creates more 'useful' and accurate vocabulary for model training, it has not only words or phrases, but also characters, and tfidf considers both term frequency and document frequency.\n",
    "\n",
    "But since my text processing effect is not that good, the results obtained are different from my assumptions. In my results, the model with BOCN and tfidf has the best performance. I think this might because compared with other models, BOCN-tfidf has the most accurate vocabulary."
   ]
  },
  {
   "cell_type": "markdown",
   "metadata": {},
   "source": [
    "# Task 2: Multi-class Logistic Regression \n",
    "\n",
    "Now you need to train a Multiclass Logistic Regression (MLR) Classifier by extending the Binary model you developed above. You will use the MLR model to perform topic classification on the AG news dataset consisting of three classes:"
   ]
  },
  {
   "cell_type": "markdown",
   "metadata": {},
   "source": [
    "- Class 1: World\n",
    "- Class 2: Sports\n",
    "- Class 3: Business"
   ]
  },
  {
   "cell_type": "markdown",
   "metadata": {},
   "source": [
    "You need to follow the same process as in Task 1 for data processing and feature extraction by reusing the functions you wrote."
   ]
  },
  {
   "cell_type": "code",
   "execution_count": 43,
   "metadata": {
    "ExecuteTime": {
     "end_time": "2021-02-27T13:14:31.031132Z",
     "start_time": "2021-02-27T13:14:30.984670Z"
    }
   },
   "outputs": [],
   "source": [
    "# Load the training, development and test sets from their corresponding CSV files\n",
    "df4 = pd.read_csv('./data_topic/train.csv', encoding = 'UTF-8', header = None)\n",
    "df5 = pd.read_csv('./data_topic/dev.csv', encoding = 'UTF-8', header = None)\n",
    "df6 = pd.read_csv('./data_topic/test.csv', encoding = 'UTF-8', header = None)"
   ]
  },
  {
   "cell_type": "code",
   "execution_count": 44,
   "metadata": {
    "ExecuteTime": {
     "end_time": "2021-02-27T13:14:31.040115Z",
     "start_time": "2021-02-27T13:14:31.032132Z"
    }
   },
   "outputs": [
    {
     "data": {
      "text/html": [
       "<div>\n",
       "<style scoped>\n",
       "    .dataframe tbody tr th:only-of-type {\n",
       "        vertical-align: middle;\n",
       "    }\n",
       "\n",
       "    .dataframe tbody tr th {\n",
       "        vertical-align: top;\n",
       "    }\n",
       "\n",
       "    .dataframe thead th {\n",
       "        text-align: right;\n",
       "    }\n",
       "</style>\n",
       "<table border=\"1\" class=\"dataframe\">\n",
       "  <thead>\n",
       "    <tr style=\"text-align: right;\">\n",
       "      <th></th>\n",
       "      <th>0</th>\n",
       "      <th>1</th>\n",
       "    </tr>\n",
       "  </thead>\n",
       "  <tbody>\n",
       "    <tr>\n",
       "      <th>0</th>\n",
       "      <td>1</td>\n",
       "      <td>Reuters - Venezuelans turned out early\\and in ...</td>\n",
       "    </tr>\n",
       "    <tr>\n",
       "      <th>1</th>\n",
       "      <td>1</td>\n",
       "      <td>Reuters - South Korean police used water canno...</td>\n",
       "    </tr>\n",
       "    <tr>\n",
       "      <th>2</th>\n",
       "      <td>1</td>\n",
       "      <td>Reuters - Thousands of Palestinian\\prisoners i...</td>\n",
       "    </tr>\n",
       "    <tr>\n",
       "      <th>3</th>\n",
       "      <td>1</td>\n",
       "      <td>AFP - Sporadic gunfire and shelling took place...</td>\n",
       "    </tr>\n",
       "    <tr>\n",
       "      <th>4</th>\n",
       "      <td>1</td>\n",
       "      <td>AP - Dozens of Rwandan soldiers flew into Suda...</td>\n",
       "    </tr>\n",
       "  </tbody>\n",
       "</table>\n",
       "</div>"
      ],
      "text/plain": [
       "   0                                                  1\n",
       "0  1  Reuters - Venezuelans turned out early\\and in ...\n",
       "1  1  Reuters - South Korean police used water canno...\n",
       "2  1  Reuters - Thousands of Palestinian\\prisoners i...\n",
       "3  1  AFP - Sporadic gunfire and shelling took place...\n",
       "4  1  AP - Dozens of Rwandan soldiers flew into Suda..."
      ]
     },
     "execution_count": 44,
     "metadata": {},
     "output_type": "execute_result"
    }
   ],
   "source": [
    "df4.head()"
   ]
  },
  {
   "cell_type": "code",
   "execution_count": 45,
   "metadata": {
    "ExecuteTime": {
     "end_time": "2021-02-27T13:14:31.052098Z",
     "start_time": "2021-02-27T13:14:31.042105Z"
    }
   },
   "outputs": [],
   "source": [
    "# Put the raw texts into Python lists and their corresponding labels into NumPy arrays\n",
    "topic_train_attri = df4.iloc[:, 1].tolist()\n",
    "topic_train_label = df4.iloc[:, 0]\n",
    "topic_dev_attri = df5.iloc[:, 1].tolist()\n",
    "topic_dev_label = df5.iloc[:, 0]\n",
    "topic_test_attri = df6.iloc[:, 1].tolist()\n",
    "topic_test_label = df6.iloc[:, 0]"
   ]
  },
  {
   "cell_type": "code",
   "execution_count": 46,
   "metadata": {
    "ExecuteTime": {
     "end_time": "2021-02-27T13:14:55.537483Z",
     "start_time": "2021-02-27T13:14:31.054073Z"
    }
   },
   "outputs": [],
   "source": [
    "# Use get_vocab to create your vocabulary and get document and raw frequencies of n-grams\n",
    "# Extract n-grams for each text in the training, development and test sets\n",
    "#for task2\n",
    "NUM = 1000\n",
    "NUM1 = 200\n",
    "bow_topic_train_attri = get_vocab(topic_train_attri, ngram_range=(1,3), keep_topN=NUM, delete_topN=NUM1,\n",
    "                                  stop_words=stop_words, char_ngrams=False)\n",
    "bow_topic_dev_attri = get_vocab(topic_dev_attri, ngram_range=(1,3), keep_topN=NUM, delete_topN=NUM1,\n",
    "                                stop_words=stop_words, char_ngrams=False)\n",
    "bow_topic_test_attri = get_vocab(topic_test_attri, ngram_range=(1,3), keep_topN=NUM, delete_topN=NUM1,\n",
    "                                 stop_words=stop_words, char_ngrams=False)\n",
    "\n",
    "bocn_topic_train_attri = get_vocab(topic_train_attri, ngram_range=(2,4), keep_topN=NUM, delete_topN=NUM1,\n",
    "                                   stop_words=stop_words, char_ngrams=True)\n",
    "bocn_topic_dev_attri = get_vocab(topic_dev_attri, ngram_range=(2,4), keep_topN=NUM, delete_topN=NUM1,\n",
    "                                 stop_words=stop_words, char_ngrams=True)\n",
    "bocn_topic_test_attri = get_vocab(topic_test_attri, ngram_range=(2,4), keep_topN=NUM, delete_topN=NUM1,\n",
    "                                  stop_words=stop_words, char_ngrams=True)"
   ]
  },
  {
   "cell_type": "code",
   "execution_count": 47,
   "metadata": {
    "ExecuteTime": {
     "end_time": "2021-02-27T13:14:57.818194Z",
     "start_time": "2021-02-27T13:14:55.538269Z"
    }
   },
   "outputs": [],
   "source": [
    "# tf vectors for task2\n",
    "# BOW\n",
    "tf_bow_topic_train = pd.DataFrame(bow_topic_train_attri[2]).T\n",
    "tf_bow_topic_dev = pd.DataFrame(bow_topic_dev_attri[2]).T\n",
    "tf_bow_topic_test = pd.DataFrame(bow_topic_test_attri[2]).T\n",
    "# BOCN\n",
    "tf_bocn_topic_train = pd.DataFrame(bocn_topic_train_attri[2]).T\n",
    "tf_bocn_topic_dev = pd.DataFrame(bocn_topic_dev_attri[2]).T\n",
    "tf_bocn_topic_test = pd.DataFrame(bocn_topic_test_attri[2]).T"
   ]
  },
  {
   "cell_type": "code",
   "execution_count": 48,
   "metadata": {
    "ExecuteTime": {
     "end_time": "2021-02-27T13:15:14.058947Z",
     "start_time": "2021-02-27T13:14:57.819916Z"
    }
   },
   "outputs": [],
   "source": [
    "# tfidf vectors for task2\n",
    "# BOW\n",
    "# deep copy\n",
    "tf_bow_topic_train1 = copy.deepcopy(tf_bow_topic_train)\n",
    "tf_bow_topic_dev1 = copy.deepcopy(tf_bow_topic_dev)\n",
    "tf_bow_topic_test1 = copy.deepcopy(tf_bow_topic_test)\n",
    "# transform tf to tfidf\n",
    "tfidf_bow_topic_train = tfidf_vector(tf_bow_topic_train1, bow_topic_train_attri)\n",
    "tfidf_bow_topic_dev = tfidf_vector(tf_bow_topic_dev1, bow_topic_dev_attri)\n",
    "tfidf_bow_topic_test = tfidf_vector(tf_bow_topic_test1, bow_topic_test_attri)\n",
    "\n",
    "# BOCN\n",
    "# deep copy\n",
    "tf_bocn_topic_train1 = copy.deepcopy(tf_bocn_topic_train)\n",
    "tf_bocn_topic_dev1 = copy.deepcopy(tf_bocn_topic_dev)\n",
    "tf_bocn_topic_test1 = copy.deepcopy(tf_bocn_topic_test)\n",
    "# transform tf to tfidf\n",
    "tfidf_bocn_topic_train = tfidf_vector(tf_bocn_topic_train1, bocn_topic_train_attri)\n",
    "tfidf_bocn_topic_dev = tfidf_vector(tf_bocn_topic_dev1, bocn_topic_dev_attri)\n",
    "tfidf_bocn_topic_test = tfidf_vector(tf_bocn_topic_test1, bocn_topic_test_attri)\n",
    "\n",
    "# BOW+BOCN(only with tfidf)\n",
    "tfidf_bow_bocn_topic_train = pd.concat([tfidf_bow_topic_train,tfidf_bocn_topic_train],axis=1,ignore_index=True)\n",
    "tfidf_bow_bocn_topic_dev = pd.concat([tfidf_bow_topic_dev,tfidf_bocn_topic_dev],axis=1,ignore_index=True)\n",
    "tfidf_bow_bocn_topic_test = pd.concat([tfidf_bow_topic_test,tfidf_bocn_topic_test],axis=1,ignore_index=True)"
   ]
  },
  {
   "cell_type": "code",
   "execution_count": 49,
   "metadata": {
    "ExecuteTime": {
     "end_time": "2021-02-27T13:15:14.072495Z",
     "start_time": "2021-02-27T13:15:14.059983Z"
    }
   },
   "outputs": [],
   "source": [
    "# Add 1 to tail of every vectors for training.\n",
    "tf_bow_topic_train['x0'] = 1\n",
    "tf_bow_topic_dev['x0'] = 1\n",
    "tf_bow_topic_test['x0'] = 1\n",
    "\n",
    "tf_bocn_topic_train['x0'] = 1\n",
    "tf_bocn_topic_dev['x0'] = 1\n",
    "tf_bocn_topic_test['x0'] = 1\n",
    "\n",
    "tfidf_bow_topic_train['x0'] = 1\n",
    "tfidf_bow_topic_dev['x0'] = 1\n",
    "tfidf_bow_topic_test['x0'] = 1\n",
    "\n",
    "tfidf_bocn_topic_train['x0'] = 1\n",
    "tfidf_bocn_topic_dev['x0'] = 1\n",
    "tfidf_bocn_topic_test['x0'] = 1\n",
    "\n",
    "tfidf_bow_bocn_topic_train['x0'] = 1\n",
    "tfidf_bow_bocn_topic_dev['x0'] = 1\n",
    "tfidf_bow_bocn_topic_test['x0'] = 1"
   ]
  },
  {
   "cell_type": "markdown",
   "metadata": {},
   "source": [
    "Now you need to change `SGD` to support multiclass datasets. First you need to develop a `softmax` function. It takes as input:\n",
    "\n",
    "- `z`: array of real numbers \n",
    "\n",
    "and returns:\n",
    "\n",
    "- `smax`: the softmax of `z`"
   ]
  },
  {
   "cell_type": "code",
   "execution_count": 50,
   "metadata": {
    "ExecuteTime": {
     "end_time": "2021-02-27T13:15:14.085381Z",
     "start_time": "2021-02-27T13:15:14.073406Z"
    }
   },
   "outputs": [],
   "source": [
    "def softmax(z):\n",
    "    smax = np.exp(z) / np.sum(np.exp(z), axis=1)   \n",
    "    return smax"
   ]
  },
  {
   "cell_type": "markdown",
   "metadata": {},
   "source": [
    "Then modify `predict_proba` and `predict_class` functions for the multiclass case:"
   ]
  },
  {
   "cell_type": "code",
   "execution_count": 51,
   "metadata": {
    "ExecuteTime": {
     "end_time": "2021-02-27T13:15:14.093354Z",
     "start_time": "2021-02-27T13:15:14.086336Z"
    }
   },
   "outputs": [],
   "source": [
    "def predict_proba_cat(X, weights):\n",
    "    wx = X * weights\n",
    "    preds_proba = softmax(wx)        \n",
    "    return preds_proba"
   ]
  },
  {
   "cell_type": "code",
   "execution_count": 52,
   "metadata": {
    "ExecuteTime": {
     "end_time": "2021-02-27T13:15:14.103318Z",
     "start_time": "2021-02-27T13:15:14.094314Z"
    }
   },
   "outputs": [],
   "source": [
    "def predict_class_cat(X, weights):\n",
    "    P = predict_proba_cat(np.mat(X), weights)\n",
    "    preds_class = P.argmax(axis=1).getA() + 1\n",
    "    return preds_class"
   ]
  },
  {
   "cell_type": "markdown",
   "metadata": {},
   "source": [
    "Now you need to compute the categorical cross entropy loss (extending the binary loss to support multiple classes)."
   ]
  },
  {
   "cell_type": "code",
   "execution_count": 53,
   "metadata": {
    "ExecuteTime": {
     "end_time": "2021-02-27T13:15:14.112306Z",
     "start_time": "2021-02-27T13:15:14.104289Z"
    }
   },
   "outputs": [],
   "source": [
    "def categorical_loss(X, Y, weights):\n",
    "    '''\n",
    "    X:(len(X),len(vocab))\n",
    "    Y: array len(Y)\n",
    "    weights: array len(X)\n",
    "    '''\n",
    "    results = predict_proba_cat(X, weights).getA()\n",
    "    l = np.sum(Y.getA() * results) \n",
    "    return l"
   ]
  },
  {
   "cell_type": "markdown",
   "metadata": {
    "ExecuteTime": {
     "end_time": "2020-02-15T14:08:59.937442Z",
     "start_time": "2020-02-15T14:08:59.932221Z"
    }
   },
   "source": [
    "Finally you need to modify SGD to support the categorical cross entropy loss:"
   ]
  },
  {
   "cell_type": "code",
   "execution_count": 54,
   "metadata": {
    "ExecuteTime": {
     "end_time": "2021-02-27T13:15:14.129221Z",
     "start_time": "2021-02-27T13:15:14.113264Z"
    }
   },
   "outputs": [],
   "source": [
    "# To randomise the order of training data after each pass.\n",
    "def shuffleData_cat(X, y, classnum):\n",
    "    data = pd.concat((X.reset_index(drop=True), y), axis = 1)\n",
    "    newdata = data.iloc[np.random.permutation(len(data))]\n",
    "    cols = newdata.shape[1]\n",
    "    new_X = newdata.iloc[:, 0:cols-classnum].reset_index(drop=True)\n",
    "    new_y = newdata.iloc[:, cols-classnum:].reset_index(drop=True)\n",
    "    return new_X, new_y\n",
    "# Tramsform labels to one-hot coder form.\n",
    "def one_hot(y):\n",
    "    K=len(np.unique(y.tolist())) \n",
    "    eyes_mat=np.eye(K)           \n",
    "    y_onehot=np.ones((y.shape[0],K)) \n",
    "    for i in range(0,y.shape[0]):\n",
    "        y_onehot[i]=eyes_mat[y[i]-1]  # Update one-hot coder matrix accroding to the label value.\n",
    "    return y_onehot\n",
    "# Stochastic Gradient Descent with L2 regularisation and Categorical Cross-entropy loss.\n",
    "def SGD_cat(X, Y, X_dev=[], Y_dev=[], num_classes=3, lr=0.01, alpha=0.00001, \n",
    "        epochs=5, tolerance=1e-10, print_progress=True):\n",
    "    m, n = np.shape(X)\n",
    "    Y = pd.DataFrame(one_hot(Y))\n",
    "    Y_dev = pd.DataFrame(one_hot(Y_dev))\n",
    "    Y_dev = np.mat(Y_dev)\n",
    "    weights = np.ones((n,num_classes))\n",
    "    training_loss_history = []\n",
    "    validation_loss_history = []\n",
    "    # Perform multiple passes (epochs) over the training data.\n",
    "    for j in range(epochs):\n",
    "        l_train = []\n",
    "        l_dev = []\n",
    "        l_train.append(0)\n",
    "        l_dev.append(0)   \n",
    "        # Randomise the order of training data after each pass.\n",
    "        Xnew, Ynew = shuffleData_cat(X, Y, num_classes)\n",
    "        np_X = np.mat(Xnew)\n",
    "        Ynew = np.mat(Ynew)\n",
    "        np_X_dev = np.mat(X_dev)\n",
    "        for i in range(m):\n",
    "            h = predict_proba_cat(np_X[i], weights)\n",
    "            # Add L2 regularisation.\n",
    "            error = (h - Ynew[i])+ alpha/(2 * m) * np.sum(np.square(weights))\n",
    "            weights = weights + lr * np_X[i].T * error\n",
    "            # Get CCE loss of training data.\n",
    "            loss_train = categorical_loss(np_X[i], Ynew[i], weights)\n",
    "            l_train.append(loss_train)\n",
    "            # Get CCE loss of training data.\n",
    "            loss_dev = (categorical_loss(np_X_dev, Y_dev, weights))/len(Y_dev)\n",
    "            l_dev.append(loss_dev)\n",
    "            # Stop training if the difference between the current and previous development loss is smaller than a threshold.\n",
    "            if abs(l_train[-1]-l_train[-2]) < tolerance:\n",
    "                training_loss_history.append(sum(l_train)/len(l_train))\n",
    "                validation_loss_history.append(sum(l_dev)/len(l_dev))\n",
    "                return weights, training_loss_history, validation_loss_history\n",
    "        training_loss_history.append(sum(l_train)/len(l_train))\n",
    "        validation_loss_history.append(sum(l_dev)/len(l_dev))\n",
    "        # After each epoch print the training and development loss.\n",
    "        if print_progress == True:\n",
    "            print(j, training_loss_history[j], validation_loss_history[j])\n",
    "    return weights, training_loss_history, validation_loss_history    "
   ]
  },
  {
   "cell_type": "markdown",
   "metadata": {
    "ExecuteTime": {
     "end_time": "2020-02-15T14:10:15.772383Z",
     "start_time": "2020-02-15T14:10:15.767855Z"
    }
   },
   "source": [
    "Now you are ready to train and evaluate you MLR following the same steps as in Task 1 for the different vector representations"
   ]
  },
  {
   "cell_type": "markdown",
   "metadata": {},
   "source": [
    "#### I already discuss 1) how I choose model hyperparameters, 2) relation between epochs and learning rate and 3) how the regularisation strength affects performance in task1. So I would not repeat here.\n",
    "#### BOW-tf"
   ]
  },
  {
   "cell_type": "markdown",
   "metadata": {},
   "source": [
    "Choose model hyperparameters: The accuray of trained models on validation set can be seen in the following table(All model trained with 5 epochs)."
   ]
  },
  {
   "cell_type": "markdown",
   "metadata": {
    "ExecuteTime": {
     "end_time": "2021-02-26T22:19:06.174297Z",
     "start_time": "2021-02-26T22:19:06.160766Z"
    }
   },
   "source": [
    "|  | alpha = 1e-1  | alpha = 1e-2  | alpha = 1e-3  | alpha = 1e-4  | alpha = 1e-5  |\n",
    "|:-:|:-:|:-:|:-:|:-:|:-:|\n",
    "| lr = 1e-3  |0.326   |0.333   |0.333   |0.326   |0.34   |\n",
    "| lr = 1e-4  |0.34   |0.346   |0.366   |0.373   |0.36   |\n",
    "| lr = 1e-5  |0.293   |0.3   |0.34   |0.333   |0.346   |"
   ]
  },
  {
   "cell_type": "code",
   "execution_count": 55,
   "metadata": {
    "ExecuteTime": {
     "end_time": "2021-02-27T13:15:36.069818Z",
     "start_time": "2021-02-27T13:15:14.130218Z"
    }
   },
   "outputs": [
    {
     "name": "stdout",
     "output_type": "stream",
     "text": [
      "0 0.33223653893959215 0.3332463158135484\n",
      "1 0.3305191943742398 0.33333510431531793\n",
      "2 0.32880066444572265 0.3334429489406059\n",
      "3 0.32708247346031843 0.33354041384237465\n",
      "4 0.3253644458640302 0.33364463275100587\n",
      "5 0.32364552245440253 0.33373240768004575\n",
      "6 0.3219247046139974 0.3338155259537368\n",
      "7 0.320209732388247 0.33393673695640114\n",
      "8 0.31849442115005167 0.3340348202877133\n",
      "9 0.31677719377761376 0.3341358015877733\n"
     ]
    }
   ],
   "source": [
    "w11, l_train11, l_dev11 = SGD_cat(tf_bow_topic_train, topic_train_label, tf_bow_topic_dev, topic_dev_label,\n",
    "                            lr = 0.0001, alpha = 0.00001, epochs = 10)"
   ]
  },
  {
   "cell_type": "code",
   "execution_count": 56,
   "metadata": {
    "ExecuteTime": {
     "end_time": "2021-02-27T13:15:36.213394Z",
     "start_time": "2021-02-27T13:15:36.070777Z"
    }
   },
   "outputs": [
    {
     "data": {
      "text/plain": [
       "<matplotlib.legend.Legend at 0x2e3efd4c9d0>"
      ]
     },
     "execution_count": 56,
     "metadata": {},
     "output_type": "execute_result"
    },
    {
     "data": {
      "image/png": "[encoded data removed]",
      "text/plain": [
       "<Figure size 432x288 with 1 Axes>"
      ]
     },
     "metadata": {
      "needs_background": "light"
     },
     "output_type": "display_data"
    }
   ],
   "source": [
    "# Plot the training and validation history per epoch.\n",
    "x = np.array(range(1, len(l_train11)+1))\n",
    "plt.plot(x, l_train11, label='training loss')\n",
    "plt.plot(x, l_dev11, label='validation loss')\n",
    "plt.title(\"Training and Validation History per Epoch\")\n",
    "plt.xlabel(\"epochs\")\n",
    "plt.ylabel(\"loss value\")\n",
    "plt.legend()"
   ]
  },
  {
   "cell_type": "markdown",
   "metadata": {},
   "source": [
    "Answer:\n",
    "\n",
    "It can be seen in the above picture that my model overfit. As the number of epochs increases, the training loss decreases while the validation loss increases, which shows that the model performs better on the training set than on the validation set."
   ]
  },
  {
   "cell_type": "code",
   "execution_count": 57,
   "metadata": {
    "ExecuteTime": {
     "end_time": "2021-02-27T13:15:36.250296Z",
     "start_time": "2021-02-27T13:15:36.215390Z"
    }
   },
   "outputs": [
    {
     "name": "stdout",
     "output_type": "stream",
     "text": [
      "Accuracy: 0.34555555555555556\n",
      "Precision: 0.34555555555555556\n",
      "Recall: 0.34555555555555556\n",
      "F1-Score: 0.34555555555555556\n"
     ]
    }
   ],
   "source": [
    "# Compute accuracy, precision, recall and F1-scores.\n",
    "preds_bow_tf_t2 = predict_class_cat(tf_bow_topic_test, w11)\n",
    "# Since the data class is balanced, I choose Micro average,\n",
    "# it compute performance by considering total true positives, false negatives and false positives.\n",
    "# (no matter of the prediction for each label in the dataset)\n",
    "print('Accuracy:', accuracy_score(topic_test_label, preds_bow_tf_t2))\n",
    "print('Precision:', precision_score(topic_test_label, preds_bow_tf_t2, average='micro'))\n",
    "print('Recall:', recall_score(topic_test_label, preds_bow_tf_t2, average='micro'))\n",
    "print('F1-Score:', f1_score(topic_test_label, preds_bow_tf_t2, average='micro'))"
   ]
  },
  {
   "cell_type": "code",
   "execution_count": 58,
   "metadata": {
    "ExecuteTime": {
     "end_time": "2021-02-27T13:15:36.264259Z",
     "start_time": "2021-02-27T13:15:36.252291Z"
    },
    "scrolled": true
   },
   "outputs": [
    {
     "name": "stdout",
     "output_type": "stream",
     "text": [
      "Top-10 ngrams for the class 1:\n",
      "('per',)\n",
      "('Inc', 'ltA')\n",
      "('Quote',)\n",
      "('Research',)\n",
      "('Co',)\n",
      "('Profile', 'Research')\n",
      "('Quote', 'Profile')\n",
      "('Quote', 'Profile', 'Research')\n",
      "('Profile',)\n",
      "('International',)\n",
      "Top-10 ngrams for the class 2:\n",
      "('economy',)\n",
      "('cleric',)\n",
      "('Shiite',)\n",
      "('report',)\n",
      "('President', 'Hugo')\n",
      "('President', 'Hugo', 'Chavez')\n",
      "('Wall',)\n",
      "('Exchange',)\n",
      "('Inc', 'ltA')\n",
      "('homes',)\n",
      "Top-10 ngrams for the class 3:\n",
      "('basketball',)\n",
      "('cleric',)\n",
      "('medals',)\n",
      "('mens',)\n",
      "('England',)\n",
      "('meter',)\n",
      "('West',)\n",
      "('The', 'United')\n",
      "('World',)\n",
      "('coach',)\n"
     ]
    }
   ],
   "source": [
    "# Get the number n column in weight matrix, while n=0 means weight matrix of class 1.\n",
    "w11_class1 = (w11[:,0]).getA().flatten()\n",
    "w11_class2 = (w11[:,1]).getA().flatten()\n",
    "w11_class3 = (w11[:,2]).getA().flatten()\n",
    "id2word = create_2_dict(bow_topic_train_attri)[0]\n",
    "# Get the most relevent 10 ngrams for each class.\n",
    "top_class1 = np.argsort(-w11_class1[0:-1], axis=0)[:10]\n",
    "top_class2 = np.argsort(-w11_class2[0:-1], axis=0)[:10]\n",
    "top_class3 = np.argsort(-w11_class3[0:-1], axis=0)[:10]\n",
    "print('Top-10 ngrams for the class 1:')\n",
    "for i in top_class1:\n",
    "    print(id2word[i+1])\n",
    "print('Top-10 ngrams for the class 2:')\n",
    "for i in top_class2:\n",
    "    print(id2word[i+1])\n",
    "print('Top-10 ngrams for the class 3:')\n",
    "for i in top_class3:\n",
    "    print(id2word[i+1])"
   ]
  },
  {
   "cell_type": "markdown",
   "metadata": {},
   "source": [
    "Answer:\n",
    "\n",
    "Since the performance of this model is not as good as expect, the top 10 ngrams in each class can are not the actually key ngrams. For example, 'economy', 'Exchange', '('Inc', 'ltA')', etc. should belong to class 3, and 'basketball', 'medals', etc. should belong to class 2.\n",
    "\n",
    "But this is not going to  change my opinion: Even if the performance is good, the top-relevent ngrams still can not generalise well in other domain since these classes are too specific, the classes are not like the reviews in task 1 that express 'general' prefrence, so the models can not be used to comment in other domains."
   ]
  },
  {
   "cell_type": "markdown",
   "metadata": {},
   "source": [
    "### Now repeat the training and evaluation process for BOW-tfidf, BOCN-count, BOCN-tfidf, BOW+BOCN including hyperparameter tuning..."
   ]
  },
  {
   "cell_type": "markdown",
   "metadata": {},
   "source": [
    "#### BOW-tfidf"
   ]
  },
  {
   "cell_type": "markdown",
   "metadata": {},
   "source": [
    "Choose model hyperparameters:"
   ]
  },
  {
   "cell_type": "markdown",
   "metadata": {},
   "source": [
    "|  | alpha = 1e-1  | alpha = 1e-2  | alpha = 1e-3  | alpha = 1e-4  | alpha = 1e-5  |\n",
    "|:-:|:-:|:-:|:-:|:-:|:-:|\n",
    "| lr = 1e-3  |0.346   |0.346   |0.34   |0.333   |0.333   |\n",
    "| lr = 1e-4  |0.366   |0.366   |0.36   |0.36   |0.36   |\n",
    "| lr = 1e-5  |0.36   |0.36   |0.36   |0.36   |0.36   |"
   ]
  },
  {
   "cell_type": "code",
   "execution_count": 59,
   "metadata": {
    "ExecuteTime": {
     "end_time": "2021-02-27T13:15:43.550954Z",
     "start_time": "2021-02-27T13:15:36.268248Z"
    }
   },
   "outputs": [
    {
     "name": "stdout",
     "output_type": "stream",
     "text": [
      "0 0.32914992304052904 0.3334134056163072\n",
      "1 0.3218639540594408 0.333773179486902\n",
      "2 0.3145913775190689 0.3341490103964989\n",
      "3 0.30735659435605794 0.33453227162071414\n",
      "4 0.3002005802674635 0.33503358412597856\n",
      "5 0.29310388300007223 0.3353918996318911\n",
      "6 0.2861029612622486 0.33580527549983813\n",
      "7 0.27923237380597477 0.3362738608519482\n",
      "8 0.2724721168553175 0.3366089567261304\n",
      "9 0.26589566894267286 0.33704085983224985\n"
     ]
    }
   ],
   "source": [
    "w22, l_train22, l_dev22 = SGD_cat(tfidf_bow_topic_train, topic_train_label, tfidf_bow_topic_dev, topic_dev_label,\n",
    "                            lr = 0.0001, alpha = 0.05, epochs = 10)"
   ]
  },
  {
   "cell_type": "code",
   "execution_count": 60,
   "metadata": {
    "ExecuteTime": {
     "end_time": "2021-02-27T13:15:43.697618Z",
     "start_time": "2021-02-27T13:15:43.551951Z"
    }
   },
   "outputs": [
    {
     "data": {
      "text/plain": [
       "<matplotlib.legend.Legend at 0x2e3879a53a0>"
      ]
     },
     "execution_count": 60,
     "metadata": {},
     "output_type": "execute_result"
    },
    {
     "data": {
      "image/png": "[encoded data removed]",
      "text/plain": [
       "<Figure size 432x288 with 1 Axes>"
      ]
     },
     "metadata": {
      "needs_background": "light"
     },
     "output_type": "display_data"
    }
   ],
   "source": [
    "# Plot the training and validation history per epoch.\n",
    "x = np.array(range(1, len(l_train22)+1))\n",
    "plt.plot(x, l_train22, label='training loss')\n",
    "plt.plot(x, l_dev22, label='validation loss')\n",
    "plt.title(\"Training and Validation History per Epoch\")\n",
    "plt.xlabel(\"epochs\")\n",
    "plt.ylabel(\"loss value\")\n",
    "plt.legend()"
   ]
  },
  {
   "cell_type": "markdown",
   "metadata": {},
   "source": [
    "Answer:\n",
    "\n",
    "It can be seen in the above picture that my model overfit. As the number of epochs increases, the training loss decreases while the validation loss increases, which shows that the model performs better on the training set than on the validation set."
   ]
  },
  {
   "cell_type": "code",
   "execution_count": 61,
   "metadata": {
    "ExecuteTime": {
     "end_time": "2021-02-27T13:15:43.719533Z",
     "start_time": "2021-02-27T13:15:43.698589Z"
    }
   },
   "outputs": [
    {
     "name": "stdout",
     "output_type": "stream",
     "text": [
      "Accuracy: 0.3511111111111111\n",
      "Precision: 0.3511111111111111\n",
      "Recall: 0.3511111111111111\n",
      "F1-Score: 0.3511111111111111\n"
     ]
    }
   ],
   "source": [
    "# Compute accuracy, precision, recall and F1-scores.\n",
    "preds_bow_tfidf_t2 = predict_class_cat(tfidf_bow_topic_test, w22)\n",
    "print('Accuracy:', accuracy_score(topic_test_label, preds_bow_tfidf_t2))\n",
    "print('Precision:', precision_score(topic_test_label, preds_bow_tfidf_t2, average='micro'))\n",
    "print('Recall:', recall_score(topic_test_label, preds_bow_tfidf_t2, average='micro'))\n",
    "print('F1-Score:', f1_score(topic_test_label, preds_bow_tfidf_t2, average='micro'))"
   ]
  },
  {
   "cell_type": "code",
   "execution_count": 62,
   "metadata": {
    "ExecuteTime": {
     "end_time": "2021-02-27T13:15:43.735490Z",
     "start_time": "2021-02-27T13:15:43.721529Z"
    },
    "scrolled": true
   },
   "outputs": [
    {
     "name": "stdout",
     "output_type": "stream",
     "text": [
      "Top-10 ngrams for the class 1:\n",
      "('per',)\n",
      "('Quote',)\n",
      "('Inc', 'ltA')\n",
      "('Research',)\n",
      "('Quote', 'Profile', 'Research')\n",
      "('Profile', 'Research')\n",
      "('Quote', 'Profile')\n",
      "('Profile',)\n",
      "('Co',)\n",
      "('WASHINGTON', 'Reuters')\n",
      "Top-10 ngrams for the class 2:\n",
      "('cleric',)\n",
      "('President', 'Hugo')\n",
      "('President', 'Hugo', 'Chavez')\n",
      "('economy',)\n",
      "('Shiite',)\n",
      "('Quote',)\n",
      "('Wall',)\n",
      "('Exchange',)\n",
      "('report',)\n",
      "('Inc', 'ltA')\n",
      "Top-10 ngrams for the class 3:\n",
      "('cleric',)\n",
      "('medals',)\n",
      "('basketball',)\n",
      "('meter',)\n",
      "('England',)\n",
      "('mens',)\n",
      "('West',)\n",
      "('The', 'United')\n",
      "('coach',)\n",
      "('Greek',)\n"
     ]
    }
   ],
   "source": [
    "# Get the number n column in weight matrix, while n=0 means weight matrix of class 1.\n",
    "w22_class1 = (w22[:,0]).getA().flatten()\n",
    "w22_class2 = (w22[:,1]).getA().flatten()\n",
    "w22_class3 = (w22[:,2]).getA().flatten()\n",
    "id2word = create_2_dict(bow_topic_train_attri)[0]\n",
    "# Get the most relevent 10 ngrams for each class.\n",
    "top_class1 = np.argsort(-w22_class1[0:-1], axis=0)[:10]\n",
    "top_class2 = np.argsort(-w22_class2[0:-1], axis=0)[:10]\n",
    "top_class3 = np.argsort(-w22_class3[0:-1], axis=0)[:10]\n",
    "print('Top-10 ngrams for the class 1:')\n",
    "for i in top_class1:\n",
    "    print(id2word[i+1])\n",
    "print('Top-10 ngrams for the class 2:')\n",
    "for i in top_class2:\n",
    "    print(id2word[i+1])\n",
    "print('Top-10 ngrams for the class 3:')\n",
    "for i in top_class3:\n",
    "    print(id2word[i+1])"
   ]
  },
  {
   "cell_type": "markdown",
   "metadata": {},
   "source": [
    "Answer:\n",
    "\n",
    "Discussion can be seen in the above task2-BOW-tf model, I will not repeat here."
   ]
  },
  {
   "cell_type": "markdown",
   "metadata": {},
   "source": [
    "#### BOCN-tf"
   ]
  },
  {
   "cell_type": "markdown",
   "metadata": {},
   "source": [
    "Choose model hyperparameters:"
   ]
  },
  {
   "cell_type": "markdown",
   "metadata": {},
   "source": [
    "|  | alpha = 1e-1  | alpha = 1e-2  | alpha = 1e-3  | alpha = 1e-4  | alpha = 1e-5  |\n",
    "|:-:|:-:|:-:|:-:|:-:|:-:|\n",
    "| lr = 1e-3  |0.333   |0.333   |0.333   |0.333   |0.333   |\n",
    "| lr = 1e-4  |0.333   |0.333   |0.333   |0.333   |0.333   |\n",
    "| lr = 1e-5  |0.32   |0.333   |0.333   |0.333   |0.333   |\n",
    "| lr = 1e-6  |0.306   |0.313   |0.306   |0.313   |0.313   |"
   ]
  },
  {
   "cell_type": "code",
   "execution_count": 63,
   "metadata": {
    "ExecuteTime": {
     "end_time": "2021-02-27T13:16:05.829736Z",
     "start_time": "2021-02-27T13:15:43.738483Z"
    }
   },
   "outputs": [
    {
     "name": "stdout",
     "output_type": "stream",
     "text": [
      "0 0.3278477471389611 0.33283726994719487\n",
      "1 0.3175171845765163 0.332218662291385\n",
      "2 0.3071965716413551 0.33142272742670387\n",
      "3 0.29699649359870356 0.33050909588887617\n",
      "4 0.28695748095157203 0.32959739862885146\n",
      "5 0.27713714201759876 0.3284791010052493\n",
      "6 0.26756974593863336 0.3273316434406544\n",
      "7 0.2584523812532392 0.3259497108122354\n",
      "8 0.2493222372811379 0.3244278463024369\n",
      "9 0.24088077365227564 0.32258399823955114\n"
     ]
    }
   ],
   "source": [
    "w33, l_train33, l_dev33 = SGD_cat(tf_bocn_topic_train, topic_train_label, tf_bocn_topic_dev, topic_dev_label,\n",
    "                            lr = 0.00002, alpha = 0.003, epochs = 10)"
   ]
  },
  {
   "cell_type": "code",
   "execution_count": 64,
   "metadata": {
    "ExecuteTime": {
     "end_time": "2021-02-27T13:16:05.967389Z",
     "start_time": "2021-02-27T13:16:05.830734Z"
    }
   },
   "outputs": [
    {
     "data": {
      "text/plain": [
       "<matplotlib.legend.Legend at 0x2e3f0b821f0>"
      ]
     },
     "execution_count": 64,
     "metadata": {},
     "output_type": "execute_result"
    },
    {
     "data": {
      "image/png": "[encoded data removed]",
      "text/plain": [
       "<Figure size 432x288 with 1 Axes>"
      ]
     },
     "metadata": {
      "needs_background": "light"
     },
     "output_type": "display_data"
    }
   ],
   "source": [
    "# Plot the training and validation history per epoch.\n",
    "x = np.array(range(1, len(l_train33)+1))\n",
    "plt.plot(x, l_train33, label='training loss')\n",
    "plt.plot(x, l_dev33, label='validation loss')\n",
    "plt.title(\"Training and Validation History per Epoch\")\n",
    "plt.xlabel(\"epochs\")\n",
    "plt.ylabel(\"loss value\")\n",
    "plt.legend()"
   ]
  },
  {
   "cell_type": "markdown",
   "metadata": {},
   "source": [
    "Answer:\n",
    "\n",
    "It can be seen in the above picture that my model overfit. As the number of epochs increases, the training loss decreases quicker than the validation loss, which shows that the model performs better on the training set than on the validation set."
   ]
  },
  {
   "cell_type": "code",
   "execution_count": 65,
   "metadata": {
    "ExecuteTime": {
     "end_time": "2021-02-27T13:16:05.999304Z",
     "start_time": "2021-02-27T13:16:05.968387Z"
    }
   },
   "outputs": [
    {
     "name": "stdout",
     "output_type": "stream",
     "text": [
      "Accuracy: 0.3244444444444444\n",
      "Precision: 0.3244444444444444\n",
      "Recall: 0.3244444444444444\n",
      "F1-Score: 0.3244444444444444\n"
     ]
    }
   ],
   "source": [
    "# Compute accuracy, precision, recall and F1-scores.\n",
    "preds_bocn_tf_t2 = predict_class_cat(tf_bocn_topic_test, w33)\n",
    "print('Accuracy:', accuracy_score(topic_test_label, preds_bocn_tf_t2))\n",
    "print('Precision:', precision_score(topic_test_label, preds_bocn_tf_t2, average='micro'))\n",
    "print('Recall:', recall_score(topic_test_label, preds_bocn_tf_t2, average='micro'))\n",
    "print('F1-Score:', f1_score(topic_test_label, preds_bocn_tf_t2, average='micro'))"
   ]
  },
  {
   "cell_type": "code",
   "execution_count": 66,
   "metadata": {
    "ExecuteTime": {
     "end_time": "2021-02-27T13:16:06.011273Z",
     "start_time": "2021-02-27T13:16:06.000301Z"
    },
    "scrolled": true
   },
   "outputs": [
    {
     "name": "stdout",
     "output_type": "stream",
     "text": [
      "Top-10 character ngrams for the class 1:\n",
      "mpi\n",
      "ym\n",
      "Ol\n",
      "Olym\n",
      "Oly\n",
      "lym\n",
      "ymp\n",
      "lymp\n",
      "ympi\n",
      "mpic\n",
      "Top-10 character ngrams for the class 2:\n",
      "aid\n",
      "sai\n",
      "said\n",
      "ice\n",
      "ial\n",
      "rc\n",
      "har\n",
      "ort\n",
      "ote\n",
      "per\n",
      "Top-10 character ngrams for the class 3:\n",
      "mpi\n",
      "pic\n",
      "Olym\n",
      "Oly\n",
      "lym\n",
      "ymp\n",
      "ympi\n",
      "lymp\n",
      "ym\n",
      "mpic\n"
     ]
    }
   ],
   "source": [
    "# Get the number n column in weight matrix, while n=0 means weight matrix of class 1.\n",
    "w33_class1 = (w33[:,0]).getA().flatten()\n",
    "w33_class2 = (w33[:,1]).getA().flatten()\n",
    "w33_class3 = (w33[:,2]).getA().flatten()\n",
    "id2word = create_2_dict(bocn_topic_train_attri)[0]\n",
    "# Get the most relevent 10 ngrams for each class.\n",
    "top_class1 = np.argsort(-w33_class1[0:-1], axis=0)[:10]\n",
    "top_class2 = np.argsort(-w33_class2[0:-1], axis=0)[:10]\n",
    "top_class3 = np.argsort(-w33_class3[0:-1], axis=0)[:10]\n",
    "print('Top-10 character ngrams for the class 1:')\n",
    "for i in top_class1:\n",
    "    print(id2word[i+1])\n",
    "print('Top-10 character ngrams for the class 2:')\n",
    "for i in top_class2:\n",
    "    print(id2word[i+1])\n",
    "print('Top-10 character ngrams for the class 3:')\n",
    "for i in top_class3:\n",
    "    print(id2word[i+1])"
   ]
  },
  {
   "cell_type": "markdown",
   "metadata": {},
   "source": [
    "Answer:\n",
    "\n",
    "The top-relevent ngrams can not generalise well in other domain since these classes are too specific, the classes are not like the reviews in task 1 that express 'general' prefrence, so the models can not be used to comment in other domains."
   ]
  },
  {
   "cell_type": "markdown",
   "metadata": {},
   "source": [
    "#### BOCN-tfidf"
   ]
  },
  {
   "cell_type": "markdown",
   "metadata": {},
   "source": [
    "Choose model hyperparameters:"
   ]
  },
  {
   "cell_type": "markdown",
   "metadata": {},
   "source": [
    "|  | alpha = 1e-1  | alpha = 1e-2  | alpha = 1e-3  | alpha = 1e-4  | alpha = 1e-5  |\n",
    "|:-:|:-:|:-:|:-:|:-:|:-:|\n",
    "| lr = 1e-4  |0.333   |0.33   |0.333   |0.33   |0.333   |\n",
    "| lr = 1e-5  |0.333   |0.333   |0.333   |0.333   |0.333   |\n",
    "| lr = 1e-6  |0.336   |0.333   |0.306   |0.333   |0.313   |"
   ]
  },
  {
   "cell_type": "code",
   "execution_count": 67,
   "metadata": {
    "ExecuteTime": {
     "end_time": "2021-02-27T13:16:13.558978Z",
     "start_time": "2021-02-27T13:16:06.013267Z"
    }
   },
   "outputs": [
    {
     "name": "stdout",
     "output_type": "stream",
     "text": [
      "0 0.33007649476739775 0.33301009009856264\n",
      "1 0.3240824806665994 0.332674118150638\n",
      "2 0.31808429493369006 0.33230735981093174\n",
      "3 0.3121167953472344 0.33187693393756384\n",
      "4 0.3062055880579482 0.3315267458145374\n",
      "5 0.30034530871945325 0.3310510590680295\n",
      "6 0.29453853303330263 0.3305718579548994\n",
      "7 0.2888512848960387 0.33014510785397955\n",
      "8 0.28327165740275684 0.32962098228703185\n",
      "9 0.27777337531704144 0.3290921647253255\n"
     ]
    }
   ],
   "source": [
    "w44, l_train44, l_dev44 = SGD_cat(tfidf_bocn_topic_train, topic_train_label, tfidf_bocn_topic_dev, topic_dev_label,\n",
    "                            lr = 0.00001, alpha = 0.0004, epochs = 10)"
   ]
  },
  {
   "cell_type": "code",
   "execution_count": 68,
   "metadata": {
    "ExecuteTime": {
     "end_time": "2021-02-27T13:16:13.688631Z",
     "start_time": "2021-02-27T13:16:13.564963Z"
    }
   },
   "outputs": [
    {
     "data": {
      "text/plain": [
       "<matplotlib.legend.Legend at 0x2e3efa20cd0>"
      ]
     },
     "execution_count": 68,
     "metadata": {},
     "output_type": "execute_result"
    },
    {
     "data": {
      "image/png": "[encoded data removed]",
      "text/plain": [
       "<Figure size 432x288 with 1 Axes>"
      ]
     },
     "metadata": {
      "needs_background": "light"
     },
     "output_type": "display_data"
    }
   ],
   "source": [
    "# Plot the training and validation history per epoch.\n",
    "x = np.array(range(1, len(l_train44)+1))\n",
    "plt.plot(x, l_train44, label='training loss')\n",
    "plt.plot(x, l_dev44, label='validation loss')\n",
    "plt.title(\"Training and Validation History per Epoch\")\n",
    "plt.xlabel(\"epochs\")\n",
    "plt.ylabel(\"loss value\")\n",
    "plt.legend()"
   ]
  },
  {
   "cell_type": "markdown",
   "metadata": {},
   "source": [
    "Answer:\n",
    "\n",
    "It can be seen in the above picture that my model overfit. As the number of epochs increases, the training loss decreases quicker than the validation loss, which shows that the model performs better on the training set than on the validation set."
   ]
  },
  {
   "cell_type": "code",
   "execution_count": 69,
   "metadata": {
    "ExecuteTime": {
     "end_time": "2021-02-27T13:16:13.706584Z",
     "start_time": "2021-02-27T13:16:13.690627Z"
    }
   },
   "outputs": [
    {
     "name": "stdout",
     "output_type": "stream",
     "text": [
      "Accuracy: 0.29777777777777775\n",
      "Precision: 0.29777777777777775\n",
      "Recall: 0.29777777777777775\n",
      "F1-Score: 0.29777777777777775\n"
     ]
    }
   ],
   "source": [
    "# Compute accuracy, precision, recall and F1-scores.\n",
    "preds_bocn_tfidf_t2 = predict_class_cat(tfidf_bocn_topic_test, w44)\n",
    "print('Accuracy:', accuracy_score(topic_test_label, preds_bocn_tfidf_t2))\n",
    "print('Precision:', precision_score(topic_test_label, preds_bocn_tfidf_t2, average='micro'))\n",
    "print('Recall:', recall_score(topic_test_label, preds_bocn_tfidf_t2, average='micro'))\n",
    "print('F1-Score:', f1_score(topic_test_label, preds_bocn_tfidf_t2, average='micro'))"
   ]
  },
  {
   "cell_type": "code",
   "execution_count": 70,
   "metadata": {
    "ExecuteTime": {
     "end_time": "2021-02-27T13:16:13.719549Z",
     "start_time": "2021-02-27T13:16:13.708578Z"
    },
    "scrolled": true
   },
   "outputs": [
    {
     "name": "stdout",
     "output_type": "stream",
     "text": [
      "Top-10 character ngrams for the class 1:\n",
      "uot\n",
      "uo\n",
      "mpi\n",
      "uote\n",
      "ym\n",
      "tA\n",
      "ltA\n",
      "ww\n",
      "Ol\n",
      "ick\n",
      "Top-10 character ngrams for the class 2:\n",
      "ote\n",
      "ice\n",
      "uote\n",
      "aid\n",
      "sai\n",
      "said\n",
      "rice\n",
      "pric\n",
      "tA\n",
      "har\n",
      "Top-10 character ngrams for the class 3:\n",
      "mpi\n",
      "Oly\n",
      "lym\n",
      "Olym\n",
      "ymp\n",
      "lymp\n",
      "ympi\n",
      "mpic\n",
      "pic\n",
      "ym\n"
     ]
    }
   ],
   "source": [
    "# Get the number n column in weight matrix, while n=0 means weight matrix of class 1.\n",
    "w44_class1 = (w44[:,0]).getA().flatten()\n",
    "w44_class2 = (w44[:,1]).getA().flatten()\n",
    "w44_class3 = (w44[:,2]).getA().flatten()\n",
    "id2word = create_2_dict(bocn_topic_train_attri)[0]\n",
    "# Get the most relevent 10 ngrams for each class.\n",
    "top_class1 = np.argsort(-w44_class1[0:-1], axis=0)[:10]\n",
    "top_class2 = np.argsort(-w44_class2[0:-1], axis=0)[:10]\n",
    "top_class3 = np.argsort(-w44_class3[0:-1], axis=0)[:10]\n",
    "print('Top-10 character ngrams for the class 1:')\n",
    "for i in top_class1:\n",
    "    print(id2word[i+1])\n",
    "print('Top-10 character ngrams for the class 2:')\n",
    "for i in top_class2:\n",
    "    print(id2word[i+1])\n",
    "print('Top-10 character ngrams for the class 3:')\n",
    "for i in top_class3:\n",
    "    print(id2word[i+1])"
   ]
  },
  {
   "cell_type": "markdown",
   "metadata": {},
   "source": [
    "Answer:\n",
    "\n",
    "The top-relevent ngrams can not generalise well in other domain since these classes are too specific, the classes are not like the reviews in task 1 that express 'general' prefrence, so the models can not be used to comment in other domains."
   ]
  },
  {
   "cell_type": "markdown",
   "metadata": {},
   "source": [
    "#### BOW+BOCN-tfidf(better than BOW+BOCN-tf)"
   ]
  },
  {
   "cell_type": "markdown",
   "metadata": {},
   "source": [
    "Choose model hyperparameters:"
   ]
  },
  {
   "cell_type": "markdown",
   "metadata": {},
   "source": [
    "|  | alpha = 1e-1  | alpha = 1e-2  | alpha = 1e-3  | alpha = 1e-4  | alpha = 1e-5  |\n",
    "|:-:|:-:|:-:|:-:|:-:|:-:|\n",
    "| lr = 1e-5  |0.333   |0.333   |0.333   |0.333   |0.333   |\n",
    "| lr = 1e-5  |0.346   |0.346   |0.346   |0.346   |0.346   |\n",
    "| lr = 1e-6  |0.346   |0.346   |0.346   |0.346   |0.346   |"
   ]
  },
  {
   "cell_type": "code",
   "execution_count": 71,
   "metadata": {
    "ExecuteTime": {
     "end_time": "2021-02-27T13:16:24.822820Z",
     "start_time": "2021-02-27T13:16:13.721543Z"
    }
   },
   "outputs": [
    {
     "name": "stdout",
     "output_type": "stream",
     "text": [
      "0 0.32967233613124636 0.3329971439622129\n",
      "1 0.3229523048161755 0.33271007631606103\n",
      "2 0.31623339389469696 0.33236592690056416\n",
      "3 0.30954227467147627 0.3320601565088214\n",
      "4 0.3029187493445886 0.33164857409577236\n",
      "5 0.2963563104302911 0.33129333215782003\n",
      "6 0.28991508242916164 0.33083619694207655\n",
      "7 0.2835445250262525 0.3304326464817047\n",
      "8 0.2773427949915064 0.32993599182449257\n",
      "9 0.27128021719892864 0.32939078364988883\n"
     ]
    }
   ],
   "source": [
    "w55, l_train55, l_dev55 = SGD_cat(tfidf_bow_bocn_topic_train, topic_train_label, tfidf_bow_bocn_topic_dev, topic_dev_label,\n",
    "                            lr = 0.00001, alpha = 0.001, epochs = 10)"
   ]
  },
  {
   "cell_type": "code",
   "execution_count": 72,
   "metadata": {
    "ExecuteTime": {
     "end_time": "2021-02-27T13:16:24.970425Z",
     "start_time": "2021-02-27T13:16:24.824815Z"
    }
   },
   "outputs": [
    {
     "data": {
      "text/plain": [
       "<matplotlib.legend.Legend at 0x2e38e009550>"
      ]
     },
     "execution_count": 72,
     "metadata": {},
     "output_type": "execute_result"
    },
    {
     "data": {
      "image/png": "[encoded data removed]",
      "text/plain": [
       "<Figure size 432x288 with 1 Axes>"
      ]
     },
     "metadata": {
      "needs_background": "light"
     },
     "output_type": "display_data"
    }
   ],
   "source": [
    "# Plot the training and validation history per epoch.\n",
    "x = np.array(range(1, len(l_train55)+1))\n",
    "plt.plot(x, l_train55, label='training loss')\n",
    "plt.plot(x, l_dev55, label='validation loss')\n",
    "plt.title(\"Training and Validation History per Epoch\")\n",
    "plt.xlabel(\"epochs\")\n",
    "plt.ylabel(\"loss value\")\n",
    "plt.legend()"
   ]
  },
  {
   "cell_type": "markdown",
   "metadata": {},
   "source": [
    "Answer:\n",
    "\n",
    "It can be seen in the above picture that my model overfit. As the number of epochs increases, the training loss decreases quicker than the validation loss, which shows that the model performs better on the training set than on the validation set."
   ]
  },
  {
   "cell_type": "code",
   "execution_count": 73,
   "metadata": {
    "ExecuteTime": {
     "end_time": "2021-02-27T13:16:25.010318Z",
     "start_time": "2021-02-27T13:16:24.971422Z"
    }
   },
   "outputs": [
    {
     "name": "stdout",
     "output_type": "stream",
     "text": [
      "Accuracy: 0.29777777777777775\n",
      "Precision: 0.29777777777777775\n",
      "Recall: 0.29777777777777775\n",
      "F1-Score: 0.29777777777777775\n"
     ]
    }
   ],
   "source": [
    "# Compute accuracy, precision, recall and F1-scores.\n",
    "preds_bow_bocn_tfidf_t2 = predict_class_cat(tfidf_bow_bocn_topic_test, w55)\n",
    "print('Accuracy:', accuracy_score(topic_test_label, preds_bow_bocn_tfidf_t2))\n",
    "print('Precision:', precision_score(topic_test_label, preds_bow_bocn_tfidf_t2, average='micro'))\n",
    "print('Recall:', recall_score(topic_test_label, preds_bow_bocn_tfidf_t2, average='micro'))\n",
    "print('F1-Score:', f1_score(topic_test_label, preds_bow_bocn_tfidf_t2, average='micro'))"
   ]
  },
  {
   "cell_type": "code",
   "execution_count": 74,
   "metadata": {
    "ExecuteTime": {
     "end_time": "2021-02-27T13:16:25.025279Z",
     "start_time": "2021-02-27T13:16:25.011316Z"
    },
    "scrolled": true
   },
   "outputs": [
    {
     "name": "stdout",
     "output_type": "stream",
     "text": [
      "Top-10 character ngrams for the class 1:\n",
      "hol\n",
      "ari\n",
      "just\n",
      "duc\n",
      "ture\n",
      "ril\n",
      "rry\n",
      "inu\n",
      "eme\n",
      "eem\n",
      "Top-10 character ngrams for the class 2:\n",
      "rob\n",
      "mb\n",
      "duc\n",
      "nly\n",
      "thei\n",
      "ook\n",
      "ated\n",
      "stu\n",
      "ril\n",
      "oy\n",
      "Top-10 character ngrams for the class 3:\n",
      "just\n",
      "gre\n",
      "kes\n",
      "rect\n",
      "star\n",
      "sm\n",
      "oll\n",
      "cas\n",
      "que\n",
      "ture\n"
     ]
    }
   ],
   "source": [
    "# Get the number n column in weight matrix, while n=0 means weight matrix of class 1.\n",
    "w55_class1 = (w55[:,0]).getA().flatten()\n",
    "w55_class2 = (w55[:,1]).getA().flatten()\n",
    "w55_class3 = (w55[:,2]).getA().flatten()\n",
    "id2word_bow = create_2_dict(bow_sa_train_attri)[0]\n",
    "id2word_bocn = create_2_dict(bocn_sa_train_attri)[0]\n",
    "# Get the most relevent 10 ngrams for each class.\n",
    "top_class1 = np.argsort(-w55_class1[0:-1], axis=0)[:10]\n",
    "top_class2 = np.argsort(-w55_class2[0:-1], axis=0)[:10]\n",
    "top_class3 = np.argsort(-w55_class3[0:-1], axis=0)[:10]\n",
    "print('Top-10 character ngrams for the class 1:')\n",
    "for i in top_class1:\n",
    "    if i < 1000:\n",
    "        print(id2word_bow[i+1])\n",
    "    else:\n",
    "        print(id2word_bocn[i-1000+1])\n",
    "print('Top-10 character ngrams for the class 2:')\n",
    "for i in top_class2:\n",
    "    if i < 1000:\n",
    "        print(id2word_bow[i+1])\n",
    "    else:\n",
    "        print(id2word_bocn[i-1000+1])\n",
    "print('Top-10 character ngrams for the class 3:')\n",
    "for i in top_class3:\n",
    "    if i < 1000:\n",
    "        print(id2word_bow[i+1])\n",
    "    else:\n",
    "        print(id2word_bocn[i-1000+1])"
   ]
  },
  {
   "cell_type": "markdown",
   "metadata": {},
   "source": [
    "Answer:\n",
    "\n",
    "The top-relevent ngrams can not generalise well in other domain since these classes are too specific, the classes are not like the reviews in task 1 that express 'general' prefrence, so the models can not be used to comment in other domains."
   ]
  },
  {
   "cell_type": "markdown",
   "metadata": {
    "ExecuteTime": {
     "end_time": "2020-02-15T14:16:42.567569Z",
     "start_time": "2020-02-15T14:16:42.562560Z"
    }
   },
   "source": [
    "## Full Results\n",
    "\n",
    "Add here your results:\n",
    "\n",
    "| LR | Precision  | Recall  | F1-Score  |\n",
    "|:-:|:-:|:-:|:-:|\n",
    "| BOW-count  |0.347   |0.347   |0.347   |\n",
    "| BOW-tfidf  |0.351   |0.351   |0.351   |\n",
    "| BOCN-count  |0.324   |0.324   |0.324   |\n",
    "| BOCN-tfidf  |0.297   |0.297   |0.297   |\n",
    "| BOW+BOCN  |0.297   |0.297   |0.297   |\n",
    "\n",
    "Please discuss why your best performing model is better than the rest."
   ]
  },
  {
   "cell_type": "markdown",
   "metadata": {
    "ExecuteTime": {
     "end_time": "2021-02-26T22:24:00.670031Z",
     "start_time": "2021-02-26T22:24:00.659043Z"
    }
   },
   "source": [
    "Answer:\n",
    "\n",
    "I think that if the text processing is good, the best performance should come from the model with the combination of BOW, BOCN and tfidf, since BOW+BOCN will creates more 'useful' and accurate vocabulary for model training, it has not only words or phrases, but also characters, and tfidf considers both term frequency and document frequency.\n",
    "\n",
    "But since my text processing effect is not that good, the results obtained are different from my assumptions. In my results, the model with BOW and tfidf has the best performance. I think this might because compared with other models, BOW-tfidf has the most accurate vocabulary. \n",
    "\n",
    "Although my models' performance in task1 and task2 are not good, but I still learned a lot from this tasks. For example, text processing with tfidf will generally lead to better performance classification model. Also, this assignment has undoubtedly improved my programming skills."
   ]
  }
 ],
 "metadata": {
  "kernelspec": {
   "display_name": "Python 3",
   "language": "python",
   "name": "python3"
  },
  "language_info": {
   "codemirror_mode": {
    "name": "ipython",
    "version": 3
   },
   "file_extension": ".py",
   "mimetype": "text/x-python",
   "name": "python",
   "nbconvert_exporter": "python",
   "pygments_lexer": "ipython3",
   "version": "3.8.3"
  }
 },
 "nbformat": 4,
 "nbformat_minor": 2
}
